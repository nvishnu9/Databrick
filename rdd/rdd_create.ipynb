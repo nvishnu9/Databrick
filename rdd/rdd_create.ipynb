{
 "cells": [
  {
   "cell_type": "code",
   "execution_count": 0,
   "metadata": {
    "application/vnd.databricks.v1+cell": {
     "cellMetadata": {
      "byteLimit": 2048000,
      "rowLimit": 10000
     },
     "inputWidgets": {},
     "nuid": "7f3e4717-dcad-47b1-adc1-faf7caf05227",
     "showTitle": false,
     "tableResultSettingsMap": {},
     "title": ""
    }
   },
   "outputs": [
    {
     "output_type": "execute_result",
     "data": {
      "text/html": [
       "\n",
       "        <div>\n",
       "            <p><b>SparkContext</b></p>\n",
       "\n",
       "            <p><a href=\"/?o=2229853826262814#setting/sparkui/1203-100610-3g98wfs5/driver-1493467879508081961\">Spark UI</a></p>\n",
       "\n",
       "            <dl>\n",
       "              <dt>Version</dt>\n",
       "                <dd><code>v3.5.0</code></dd>\n",
       "              <dt>Master</dt>\n",
       "                <dd><code>local[*, 4]</code></dd>\n",
       "              <dt>AppName</dt>\n",
       "                <dd><code>Databricks Shell</code></dd>\n",
       "            </dl>\n",
       "        </div>\n",
       "        "
      ],
      "text/plain": [
       "<SparkContext master=local[*, 4] appName=Databricks Shell>"
      ]
     },
     "execution_count": 325,
     "metadata": {},
     "output_type": "execute_result"
    }
   ],
   "source": [
    "sc"
   ]
  },
  {
   "cell_type": "markdown",
   "metadata": {
    "application/vnd.databricks.v1+cell": {
     "cellMetadata": {
      "byteLimit": 2048000,
      "rowLimit": 10000
     },
     "inputWidgets": {},
     "nuid": "7fbb88fc-35dc-4055-b495-410288819149",
     "showTitle": false,
     "tableResultSettingsMap": {},
     "title": ""
    }
   },
   "source": [
    "## Parallelized Collections\n"
   ]
  },
  {
   "cell_type": "code",
   "execution_count": 0,
   "metadata": {
    "application/vnd.databricks.v1+cell": {
     "cellMetadata": {
      "byteLimit": 2048000,
      "rowLimit": 10000
     },
     "inputWidgets": {},
     "nuid": "475b153f-7869-4295-b6c1-12653bd28bba",
     "showTitle": false,
     "tableResultSettingsMap": {},
     "title": ""
    }
   },
   "outputs": [],
   "source": [
    "import numpy as np"
   ]
  },
  {
   "cell_type": "code",
   "execution_count": 0,
   "metadata": {
    "application/vnd.databricks.v1+cell": {
     "cellMetadata": {
      "byteLimit": 2048000,
      "rowLimit": 10000
     },
     "inputWidgets": {},
     "nuid": "1b1704ad-4f29-4de8-af26-0268fd9427c0",
     "showTitle": false,
     "tableResultSettingsMap": {},
     "title": ""
    }
   },
   "outputs": [],
   "source": [
    "data = np.arange(1, 13)\n",
    "distData = sc.parallelize(data, 3)"
   ]
  },
  {
   "cell_type": "code",
   "execution_count": 0,
   "metadata": {
    "application/vnd.databricks.v1+cell": {
     "cellMetadata": {
      "byteLimit": 2048000,
      "rowLimit": 10000
     },
     "inputWidgets": {},
     "nuid": "fa1f2e8b-ac44-4355-9dfd-75b1f95b83c3",
     "showTitle": false,
     "tableResultSettingsMap": {},
     "title": ""
    }
   },
   "outputs": [
    {
     "output_type": "execute_result",
     "data": {
      "text/plain": [
       "[1, 2, 3, 4, 5, 6, 7, 8, 9, 10, 11, 12]"
      ]
     },
     "execution_count": 328,
     "metadata": {},
     "output_type": "execute_result"
    }
   ],
   "source": [
    "distData.collect()"
   ]
  },
  {
   "cell_type": "code",
   "execution_count": 0,
   "metadata": {
    "application/vnd.databricks.v1+cell": {
     "cellMetadata": {
      "byteLimit": 2048000,
      "rowLimit": 10000
     },
     "inputWidgets": {},
     "nuid": "f0cd6420-7fe0-4328-b040-59c81f10f6b6",
     "showTitle": false,
     "tableResultSettingsMap": {},
     "title": ""
    }
   },
   "outputs": [
    {
     "output_type": "execute_result",
     "data": {
      "text/plain": [
       "[[1, 2, 3, 4], [5, 6, 7, 8], [9, 10, 11, 12]]"
      ]
     },
     "execution_count": 329,
     "metadata": {},
     "output_type": "execute_result"
    }
   ],
   "source": [
    "distData.glom().collect()"
   ]
  },
  {
   "cell_type": "markdown",
   "metadata": {
    "application/vnd.databricks.v1+cell": {
     "cellMetadata": {
      "byteLimit": 2048000,
      "rowLimit": 10000
     },
     "inputWidgets": {},
     "nuid": "15714b8c-fe3a-4581-8429-c6a7a963239b",
     "showTitle": false,
     "tableResultSettingsMap": {},
     "title": ""
    }
   },
   "source": [
    "## External Source"
   ]
  },
  {
   "cell_type": "code",
   "execution_count": 0,
   "metadata": {
    "application/vnd.databricks.v1+cell": {
     "cellMetadata": {
      "byteLimit": 2048000,
      "rowLimit": 10000
     },
     "inputWidgets": {},
     "nuid": "118fa89b-4747-4399-92de-e9a0c777f261",
     "showTitle": false,
     "tableResultSettingsMap": {},
     "title": ""
    }
   },
   "outputs": [],
   "source": [
    "fileData = sc.textFile(\"/FileStore/rdd/basic/text01.csv\")"
   ]
  },
  {
   "cell_type": "code",
   "execution_count": 0,
   "metadata": {
    "application/vnd.databricks.v1+cell": {
     "cellMetadata": {
      "byteLimit": 2048000,
      "rowLimit": 10000
     },
     "inputWidgets": {},
     "nuid": "f6fe537a-1d58-4909-9f2a-2b637ceb1efe",
     "showTitle": false,
     "tableResultSettingsMap": {},
     "title": ""
    }
   },
   "outputs": [
    {
     "output_type": "execute_result",
     "data": {
      "text/plain": [
       "'Name,email'"
      ]
     },
     "execution_count": 331,
     "metadata": {},
     "output_type": "execute_result"
    }
   ],
   "source": [
    "fileData.first()"
   ]
  },
  {
   "cell_type": "code",
   "execution_count": 0,
   "metadata": {
    "application/vnd.databricks.v1+cell": {
     "cellMetadata": {
      "byteLimit": 2048000,
      "rowLimit": 10000
     },
     "inputWidgets": {},
     "nuid": "a126b377-c1af-4441-afe1-20a4bac8f2db",
     "showTitle": false,
     "tableResultSettingsMap": {},
     "title": ""
    }
   },
   "outputs": [
    {
     "output_type": "execute_result",
     "data": {
      "text/plain": [
       "[['Name', 'email'],\n",
       " ['Ravi Goyal', 'ravi.goyal@contoso.com'],\n",
       " ['Ankit Ved', 'ankitv@gmail.com']]"
      ]
     },
     "execution_count": 332,
     "metadata": {},
     "output_type": "execute_result"
    }
   ],
   "source": [
    "rdd1 = fileData.map(lambda r : r.split(','))\n",
    "rdd1.collect()"
   ]
  },
  {
   "cell_type": "markdown",
   "metadata": {
    "application/vnd.databricks.v1+cell": {
     "cellMetadata": {
      "byteLimit": 2048000,
      "rowLimit": 10000
     },
     "inputWidgets": {},
     "nuid": "731e7d56-72ba-4565-a3fe-1c4b34424fa0",
     "showTitle": false,
     "tableResultSettingsMap": {},
     "title": ""
    }
   },
   "source": [
    "### Read All CSV File from Directory"
   ]
  },
  {
   "cell_type": "code",
   "execution_count": 0,
   "metadata": {
    "application/vnd.databricks.v1+cell": {
     "cellMetadata": {
      "byteLimit": 2048000,
      "rowLimit": 10000
     },
     "inputWidgets": {},
     "nuid": "0b8f88f9-2898-4247-9229-9ff237baf8a9",
     "showTitle": false,
     "tableResultSettingsMap": {},
     "title": ""
    }
   },
   "outputs": [
    {
     "output_type": "execute_result",
     "data": {
      "text/plain": [
       "'Name,email'"
      ]
     },
     "execution_count": 333,
     "metadata": {},
     "output_type": "execute_result"
    }
   ],
   "source": [
    "header = fileData.first()\n",
    "header"
   ]
  },
  {
   "cell_type": "code",
   "execution_count": 0,
   "metadata": {
    "application/vnd.databricks.v1+cell": {
     "cellMetadata": {
      "byteLimit": 2048000,
      "rowLimit": 10000
     },
     "inputWidgets": {},
     "nuid": "c5833caf-cbf1-4287-afd2-a435c9d938a1",
     "showTitle": false,
     "tableResultSettingsMap": {},
     "title": ""
    }
   },
   "outputs": [
    {
     "output_type": "execute_result",
     "data": {
      "text/plain": [
       "['Name,email',\n",
       " 'Ravi Goyal,ravi.goyal@contoso.com',\n",
       " 'Ankit Ved,ankitv@gmail.com',\n",
       " 'Name,email',\n",
       " 'Mohan Mahori,mohan34@gmail.com',\n",
       " 'Atul Malhotra,atul.m@yahoo.com',\n",
       " 'Ramesh Sharma,ramesh.s3@hotmail.com',\n",
       " 'Name,email',\n",
       " 'Mohit Panchal,mohit.p@gmail.com',\n",
       " 'Name,email',\n",
       " 'Rishab Sahu,rishabshau@gmail.com',\n",
       " 'Yukti Badoniya,byukti@gmail.com',\n",
       " 'Nikhil S,nikhils1@hotmail.com']"
      ]
     },
     "execution_count": 334,
     "metadata": {},
     "output_type": "execute_result"
    }
   ],
   "source": [
    "filesData = sc.textFile(\"/FileStore/rdd/basic/*.csv\")\n",
    "filesData.collect()"
   ]
  },
  {
   "cell_type": "code",
   "execution_count": 0,
   "metadata": {
    "application/vnd.databricks.v1+cell": {
     "cellMetadata": {
      "byteLimit": 2048000,
      "rowLimit": 10000
     },
     "inputWidgets": {},
     "nuid": "29c6e11a-46b9-4693-b6e8-9b90f73c565b",
     "showTitle": false,
     "tableResultSettingsMap": {},
     "title": ""
    }
   },
   "outputs": [
    {
     "output_type": "execute_result",
     "data": {
      "text/plain": [
       "[['Ravi Goyal', 'ravi.goyal@contoso.com'],\n",
       " ['Ankit Ved', 'ankitv@gmail.com'],\n",
       " ['Mohan Mahori', 'mohan34@gmail.com'],\n",
       " ['Atul Malhotra', 'atul.m@yahoo.com'],\n",
       " ['Ramesh Sharma', 'ramesh.s3@hotmail.com'],\n",
       " ['Mohit Panchal', 'mohit.p@gmail.com'],\n",
       " ['Rishab Sahu', 'rishabshau@gmail.com'],\n",
       " ['Yukti Badoniya', 'byukti@gmail.com'],\n",
       " ['Nikhil S', 'nikhils1@hotmail.com']]"
      ]
     },
     "execution_count": 335,
     "metadata": {},
     "output_type": "execute_result"
    }
   ],
   "source": [
    "rdd2 = filesData.filter(lambda r: r != header).map(lambda r: r.split(\",\"))\n",
    "rdd2.collect()"
   ]
  },
  {
   "cell_type": "markdown",
   "metadata": {
    "application/vnd.databricks.v1+cell": {
     "cellMetadata": {
      "byteLimit": 2048000,
      "rowLimit": 10000
     },
     "inputWidgets": {},
     "nuid": "9fae3a78-7ea4-46e6-8708-fd6bb9ed0a16",
     "showTitle": false,
     "tableResultSettingsMap": {},
     "title": ""
    }
   },
   "source": [
    "### Filter and write the data"
   ]
  },
  {
   "cell_type": "code",
   "execution_count": 0,
   "metadata": {
    "application/vnd.databricks.v1+cell": {
     "cellMetadata": {
      "byteLimit": 2048000,
      "rowLimit": 10000
     },
     "inputWidgets": {},
     "nuid": "d3c397cd-2952-4f13-a546-6b7e43ea0611",
     "showTitle": false,
     "tableResultSettingsMap": {},
     "title": ""
    }
   },
   "outputs": [],
   "source": [
    "gmail_rdd = rdd2.filter(lambda x: \"@gmail.com\" in x[1])"
   ]
  },
  {
   "cell_type": "code",
   "execution_count": 0,
   "metadata": {
    "application/vnd.databricks.v1+cell": {
     "cellMetadata": {
      "byteLimit": 2048000,
      "rowLimit": 10000
     },
     "inputWidgets": {},
     "nuid": "df4fdb97-dee5-4802-92ee-961abb10d8c6",
     "showTitle": false,
     "tableResultSettingsMap": {},
     "title": ""
    }
   },
   "outputs": [
    {
     "output_type": "execute_result",
     "data": {
      "text/plain": [
       "[['Ankit Ved', 'ankitv@gmail.com'],\n",
       " ['Mohan Mahori', 'mohan34@gmail.com'],\n",
       " ['Mohit Panchal', 'mohit.p@gmail.com'],\n",
       " ['Rishab Sahu', 'rishabshau@gmail.com'],\n",
       " ['Yukti Badoniya', 'byukti@gmail.com']]"
      ]
     },
     "execution_count": 337,
     "metadata": {},
     "output_type": "execute_result"
    }
   ],
   "source": [
    "gmail_rdd.collect()"
   ]
  },
  {
   "cell_type": "code",
   "execution_count": 0,
   "metadata": {
    "application/vnd.databricks.v1+cell": {
     "cellMetadata": {
      "byteLimit": 2048000,
      "rowLimit": 10000
     },
     "inputWidgets": {},
     "nuid": "995add20-6f13-472e-b2e6-0b52ba98abd0",
     "showTitle": false,
     "tableResultSettingsMap": {},
     "title": ""
    }
   },
   "outputs": [],
   "source": [
    "import os, shutil\n",
    "import csv\n",
    "import uuid\n",
    "\n",
    "def save_rdd_as_csv(rdd, output_dir):\n",
    "    \n",
    "    # Ensure output directory exists\n",
    "    if os.path.exists(output_dir):\n",
    "        shutil.rmtree(output_dir)\n",
    "    os.makedirs(output_dir)\n",
    "\n",
    "    # Prepare header for the CSV\n",
    "    header = ['Name', 'Email']\n",
    "\n",
    "    # Write the RDD data into CSV files\n",
    "    \n",
    "    filename = os.path.join(output_dir, f\"partition_{uuid.uuid4()}.csv\")\n",
    "    with open(filename, 'w', newline='') as file:\n",
    "        writer = csv.writer(file)\n",
    "        writer.writerow(header)  # Write the header\n",
    "        writer.writerows(rdd.collect())  # Write the record\n",
    "\n",
    "    print(f\"Data saved to CSV files in {output_dir}\")\n"
   ]
  },
  {
   "cell_type": "code",
   "execution_count": 0,
   "metadata": {
    "application/vnd.databricks.v1+cell": {
     "cellMetadata": {
      "byteLimit": 2048000,
      "rowLimit": 10000
     },
     "inputWidgets": {},
     "nuid": "ff683a74-7d72-4db2-a169-cc11ffd4f30c",
     "showTitle": false,
     "tableResultSettingsMap": {},
     "title": ""
    }
   },
   "outputs": [
    {
     "output_type": "stream",
     "name": "stdout",
     "output_type": "stream",
     "text": [
      "Data saved to CSV files in /dbfs/FileStore/rdd/basic/gmail_rdd_output/\n"
     ]
    }
   ],
   "source": [
    "output_dir = \"/dbfs/FileStore/rdd/basic/gmail_rdd_output/\"\n",
    "save_rdd_as_csv(gmail_rdd, output_dir)"
   ]
  },
  {
   "cell_type": "code",
   "execution_count": 0,
   "metadata": {
    "application/vnd.databricks.v1+cell": {
     "cellMetadata": {
      "byteLimit": 2048000,
      "rowLimit": 10000
     },
     "inputWidgets": {},
     "nuid": "29216130-5994-4359-bc65-72a0fc3f39b9",
     "showTitle": false,
     "tableResultSettingsMap": {},
     "title": ""
    }
   },
   "outputs": [
    {
     "output_type": "execute_result",
     "data": {
      "text/plain": [
       "['Name,Email',\n",
       " 'Ankit Ved,ankitv@gmail.com',\n",
       " 'Mohan Mahori,mohan34@gmail.com',\n",
       " 'Mohit Panchal,mohit.p@gmail.com',\n",
       " 'Rishab Sahu,rishabshau@gmail.com',\n",
       " 'Yukti Badoniya,byukti@gmail.com']"
      ]
     },
     "execution_count": 350,
     "metadata": {},
     "output_type": "execute_result"
    }
   ],
   "source": [
    "# Verify output by collecting filtered RDD\n",
    "rdd3 = sc.textFile(\"dbfs:/FileStore/rdd/basic/gmail_rdd_output.csv\")\n",
    "rdd3.collect()"
   ]
  },
  {
   "cell_type": "code",
   "execution_count": 0,
   "metadata": {
    "application/vnd.databricks.v1+cell": {
     "cellMetadata": {
      "byteLimit": 2048000,
      "rowLimit": 10000
     },
     "inputWidgets": {},
     "nuid": "a5a3ce1d-a18a-4ddc-acca-847c6e10c4ed",
     "showTitle": false,
     "tableResultSettingsMap": {},
     "title": ""
    }
   },
   "outputs": [
    {
     "output_type": "execute_result",
     "data": {
      "text/plain": [
       "['Ankit Ved,ankitv@gmail.com',\n",
       " 'Mohit Panchal,mohit.p@gmail.com',\n",
       " 'Yukti Badoniya,byukti@gmail.com']"
      ]
     },
     "execution_count": 351,
     "metadata": {},
     "output_type": "execute_result"
    }
   ],
   "source": [
    "new_header = rdd3.first()\n",
    "last_3_records = rdd3.filter(lambda r: r != new_header).takeSample(False, 3)\n",
    "last_3_records"
   ]
  },
  {
   "cell_type": "markdown",
   "metadata": {
    "application/vnd.databricks.v1+cell": {
     "cellMetadata": {},
     "inputWidgets": {},
     "nuid": "8eba4098-691a-4340-8983-4a2e04b02ae8",
     "showTitle": false,
     "tableResultSettingsMap": {},
     "title": ""
    }
   },
   "source": [
    "## Convert RDD into Dataframe"
   ]
  },
  {
   "cell_type": "markdown",
   "metadata": {
    "application/vnd.databricks.v1+cell": {
     "cellMetadata": {},
     "inputWidgets": {},
     "nuid": "03382902-bc8d-4622-868d-608b98270eb0",
     "showTitle": false,
     "tableResultSettingsMap": {},
     "title": ""
    }
   },
   "source": [
    "**Method 1**"
   ]
  },
  {
   "cell_type": "code",
   "execution_count": 0,
   "metadata": {
    "application/vnd.databricks.v1+cell": {
     "cellMetadata": {
      "byteLimit": 2048000,
      "rowLimit": 10000
     },
     "inputWidgets": {},
     "nuid": "3f68b937-23ca-47eb-bef1-5d1c5b87d745",
     "showTitle": false,
     "tableResultSettingsMap": {},
     "title": ""
    }
   },
   "outputs": [
    {
     "output_type": "execute_result",
     "data": {
      "text/plain": [
       "[['Ravi Goyal', 'ravi.goyal@contoso.com'],\n",
       " ['Ankit Ved', 'ankitv@gmail.com'],\n",
       " ['Mohan Mahori', 'mohan34@gmail.com'],\n",
       " ['Atul Malhotra', 'atul.m@yahoo.com'],\n",
       " ['Ramesh Sharma', 'ramesh.s3@hotmail.com'],\n",
       " ['Mohit Panchal', 'mohit.p@gmail.com'],\n",
       " ['Rishab Sahu', 'rishabshau@gmail.com'],\n",
       " ['Yukti Badoniya', 'byukti@gmail.com'],\n",
       " ['Nikhil S', 'nikhils1@hotmail.com']]"
      ]
     },
     "execution_count": 343,
     "metadata": {},
     "output_type": "execute_result"
    }
   ],
   "source": [
    "rdd2.collect()"
   ]
  },
  {
   "cell_type": "code",
   "execution_count": 0,
   "metadata": {
    "application/vnd.databricks.v1+cell": {
     "cellMetadata": {
      "byteLimit": 2048000,
      "rowLimit": 10000
     },
     "inputWidgets": {},
     "nuid": "f4e375ea-0614-4e12-8a51-cc7f4ce2e170",
     "showTitle": false,
     "tableResultSettingsMap": {},
     "title": ""
    }
   },
   "outputs": [
    {
     "output_type": "stream",
     "name": "stdout",
     "output_type": "stream",
     "text": [
      "+--------------+--------------------+\n|          Name|               Email|\n+--------------+--------------------+\n|    Ravi Goyal|ravi.goyal@contos...|\n|     Ankit Ved|    ankitv@gmail.com|\n|  Mohan Mahori|   mohan34@gmail.com|\n| Atul Malhotra|    atul.m@yahoo.com|\n| Ramesh Sharma|ramesh.s3@hotmail...|\n| Mohit Panchal|   mohit.p@gmail.com|\n|   Rishab Sahu|rishabshau@gmail.com|\n|Yukti Badoniya|    byukti@gmail.com|\n|      Nikhil S|nikhils1@hotmail.com|\n+--------------+--------------------+\n\n"
     ]
    }
   ],
   "source": [
    "rdd2.toDF(['Name', 'Email']).show()"
   ]
  },
  {
   "cell_type": "markdown",
   "metadata": {
    "application/vnd.databricks.v1+cell": {
     "cellMetadata": {},
     "inputWidgets": {},
     "nuid": "c63335bf-e787-41f5-a01e-ed5ecdae36f8",
     "showTitle": false,
     "tableResultSettingsMap": {},
     "title": ""
    }
   },
   "source": [
    "**Method 2**"
   ]
  },
  {
   "cell_type": "code",
   "execution_count": 0,
   "metadata": {
    "application/vnd.databricks.v1+cell": {
     "cellMetadata": {
      "byteLimit": 2048000,
      "rowLimit": 10000
     },
     "inputWidgets": {},
     "nuid": "1d5c5e52-d06d-4d3e-891c-7d294333852d",
     "showTitle": false,
     "tableResultSettingsMap": {},
     "title": ""
    }
   },
   "outputs": [],
   "source": [
    "data = rdd3.filter(lambda r: r != new_header).map(lambda r: r.split(\",\"))"
   ]
  },
  {
   "cell_type": "code",
   "execution_count": 0,
   "metadata": {
    "application/vnd.databricks.v1+cell": {
     "cellMetadata": {
      "byteLimit": 2048000,
      "rowLimit": 10000
     },
     "inputWidgets": {},
     "nuid": "32af5d00-57c8-473f-a344-bb83198f758c",
     "showTitle": false,
     "tableResultSettingsMap": {},
     "title": ""
    }
   },
   "outputs": [
    {
     "output_type": "stream",
     "name": "stdout",
     "output_type": "stream",
     "text": [
      "+--------------+--------------------+\n|          Name|               Email|\n+--------------+--------------------+\n|     Ankit Ved|    ankitv@gmail.com|\n|  Mohan Mahori|   mohan34@gmail.com|\n| Mohit Panchal|   mohit.p@gmail.com|\n|   Rishab Sahu|rishabshau@gmail.com|\n|Yukti Badoniya|    byukti@gmail.com|\n+--------------+--------------------+\n\n"
     ]
    }
   ],
   "source": [
    "spark.createDataFrame(data, ['Name', 'Email']).show()"
   ]
  },
  {
   "cell_type": "markdown",
   "metadata": {
    "application/vnd.databricks.v1+cell": {
     "cellMetadata": {},
     "inputWidgets": {},
     "nuid": "df693460-a3fd-4ba1-80c0-eed666395434",
     "showTitle": false,
     "tableResultSettingsMap": {},
     "title": ""
    }
   },
   "source": [
    "### Write RDD to csv file"
   ]
  },
  {
   "cell_type": "code",
   "execution_count": 0,
   "metadata": {
    "application/vnd.databricks.v1+cell": {
     "cellMetadata": {
      "byteLimit": 2048000,
      "rowLimit": 10000
     },
     "inputWidgets": {},
     "nuid": "1b47c70d-a80b-428c-8d56-3186364a0ef2",
     "showTitle": false,
     "tableResultSettingsMap": {},
     "title": ""
    }
   },
   "outputs": [],
   "source": [
    "rdd3.saveAsTextFile('/FileStore/rdd/basic/gmail_rdd_output.csv')"
   ]
  },
  {
   "cell_type": "markdown",
   "metadata": {
    "application/vnd.databricks.v1+cell": {
     "cellMetadata": {},
     "inputWidgets": {},
     "nuid": "efe86299-9fd2-476e-b883-70d9f1ef549e",
     "showTitle": false,
     "tableResultSettingsMap": {},
     "title": ""
    }
   },
   "source": [
    "### Clean up data"
   ]
  },
  {
   "cell_type": "code",
   "execution_count": 0,
   "metadata": {
    "application/vnd.databricks.v1+cell": {
     "cellMetadata": {},
     "inputWidgets": {},
     "nuid": "65c5fed8-6db0-48c2-89ef-40e944810eec",
     "showTitle": false,
     "tableResultSettingsMap": {},
     "title": ""
    }
   },
   "outputs": [],
   "source": [
    "# import os, shutil\n",
    "\n",
    "# output_dir = \"/dbfs/Filestore/rdd/basic/gmail_rdd_output\"\n",
    "\n",
    "# if os.path.exists(output_dir):\n",
    "#     shutil.rmtree(output_dir)\n",
    "#     print(\"Deleted\")\n",
    "# else:\n",
    "#     print(\"The directory does not exist\")"
   ]
  }
 ],
 "metadata": {
  "application/vnd.databricks.v1+notebook": {
   "dashboards": [],
   "environmentMetadata": null,
   "language": "python",
   "notebookMetadata": {
    "pythonIndentUnit": 4
   },
   "notebookName": "rdd_create",
   "widgets": {}
  },
  "kernelspec": {
   "display_name": "Python 3",
   "language": "python",
   "name": "python3"
  },
  "language_info": {
   "name": "python"
  }
 },
 "nbformat": 4,
 "nbformat_minor": 0
}