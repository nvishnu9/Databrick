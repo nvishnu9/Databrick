{
 "cells": [
  {
   "cell_type": "markdown",
   "metadata": {
    "application/vnd.databricks.v1+cell": {
     "cellMetadata": {},
     "inputWidgets": {},
     "nuid": "c7456fca-07bd-4c86-931d-96be784272ee",
     "showTitle": false,
     "tableResultSettingsMap": {},
     "title": ""
    }
   },
   "source": [
    "## Actions\n",
    "\n",
    "1. **reduce**\n",
    "1. **collect**\n",
    "1. **count**\n",
    "1. **first**\n",
    "1. **take**\n",
    "1. **takeSample**\n",
    "1. **countByKey**\n",
    "1. **saveAsTextFile**"
   ]
  },
  {
   "cell_type": "code",
   "execution_count": 0,
   "metadata": {
    "application/vnd.databricks.v1+cell": {
     "cellMetadata": {
      "byteLimit": 2048000,
      "rowLimit": 10000
     },
     "inputWidgets": {},
     "nuid": "d0ced2d9-aed6-4ed5-a2c6-c8ad58e5aebf",
     "showTitle": false,
     "tableResultSettingsMap": {},
     "title": ""
    }
   },
   "outputs": [
    {
     "output_type": "execute_result",
     "data": {
      "text/html": [
       "\n",
       "        <div>\n",
       "            <p><b>SparkContext</b></p>\n",
       "\n",
       "            <p><a href=\"/?o=2229853826262814#setting/sparkui/1203-100610-3g98wfs5/driver-1493467879508081961\">Spark UI</a></p>\n",
       "\n",
       "            <dl>\n",
       "              <dt>Version</dt>\n",
       "                <dd><code>v3.5.0</code></dd>\n",
       "              <dt>Master</dt>\n",
       "                <dd><code>local[*, 4]</code></dd>\n",
       "              <dt>AppName</dt>\n",
       "                <dd><code>Databricks Shell</code></dd>\n",
       "            </dl>\n",
       "        </div>\n",
       "        "
      ],
      "text/plain": [
       "<SparkContext master=local[*, 4] appName=Databricks Shell>"
      ]
     },
     "execution_count": 1,
     "metadata": {},
     "output_type": "execute_result"
    }
   ],
   "source": [
    "sc"
   ]
  },
  {
   "cell_type": "markdown",
   "metadata": {
    "application/vnd.databricks.v1+cell": {
     "cellMetadata": {},
     "inputWidgets": {},
     "nuid": "b25df977-a212-4aec-908e-a5b337a1751d",
     "showTitle": false,
     "tableResultSettingsMap": {},
     "title": ""
    }
   },
   "source": [
    "### Reduce"
   ]
  },
  {
   "cell_type": "code",
   "execution_count": 0,
   "metadata": {
    "application/vnd.databricks.v1+cell": {
     "cellMetadata": {
      "byteLimit": 2048000,
      "rowLimit": 10000
     },
     "inputWidgets": {},
     "nuid": "5abc12d2-608a-471b-8ce9-928f9ad80642",
     "showTitle": false,
     "tableResultSettingsMap": {},
     "title": ""
    }
   },
   "outputs": [],
   "source": [
    "reduceRdd1 = sc.parallelize(range(1,10),3)"
   ]
  },
  {
   "cell_type": "code",
   "execution_count": 0,
   "metadata": {
    "application/vnd.databricks.v1+cell": {
     "cellMetadata": {
      "byteLimit": 2048000,
      "rowLimit": 10000
     },
     "inputWidgets": {},
     "nuid": "ec5f0cfb-ea1d-42e8-a068-c352b445ecae",
     "showTitle": false,
     "tableResultSettingsMap": {},
     "title": ""
    }
   },
   "outputs": [
    {
     "output_type": "execute_result",
     "data": {
      "text/plain": [
       "45"
      ]
     },
     "execution_count": 3,
     "metadata": {},
     "output_type": "execute_result"
    }
   ],
   "source": [
    "reduceRdd1.reduce(lambda t1, t2: t1+t2)"
   ]
  },
  {
   "cell_type": "code",
   "execution_count": 0,
   "metadata": {
    "application/vnd.databricks.v1+cell": {
     "cellMetadata": {
      "byteLimit": 2048000,
      "rowLimit": 10000
     },
     "inputWidgets": {},
     "nuid": "f0031310-d4a1-406b-a727-e5fcbac359ca",
     "showTitle": false,
     "tableResultSettingsMap": {},
     "title": ""
    }
   },
   "outputs": [],
   "source": [
    "vehicleRdd = sc.parallelize([\"car\", \"bus\", \"bike\"])"
   ]
  },
  {
   "cell_type": "code",
   "execution_count": 0,
   "metadata": {
    "application/vnd.databricks.v1+cell": {
     "cellMetadata": {
      "byteLimit": 2048000,
      "rowLimit": 10000
     },
     "inputWidgets": {},
     "nuid": "891779b2-e939-4ceb-beb7-edd5b525a193",
     "showTitle": false,
     "tableResultSettingsMap": {},
     "title": ""
    }
   },
   "outputs": [
    {
     "output_type": "execute_result",
     "data": {
      "text/plain": [
       "[['car', 3], ['bus', 3], ['bike', 4]]"
      ]
     },
     "execution_count": 8,
     "metadata": {},
     "output_type": "execute_result"
    }
   ],
   "source": [
    "reduceRdd2 = vehicleRdd.map(lambda i: [i, len(i)])\n",
    "reduceRdd2.collect()"
   ]
  },
  {
   "cell_type": "code",
   "execution_count": 0,
   "metadata": {
    "application/vnd.databricks.v1+cell": {
     "cellMetadata": {
      "byteLimit": 2048000,
      "rowLimit": 10000
     },
     "inputWidgets": {},
     "nuid": "d21f23d0-8f53-4507-ac7f-11171ff05403",
     "showTitle": false,
     "tableResultSettingsMap": {},
     "title": ""
    }
   },
   "outputs": [
    {
     "output_type": "execute_result",
     "data": {
      "text/plain": [
       "[3, 3, 4]"
      ]
     },
     "execution_count": 9,
     "metadata": {},
     "output_type": "execute_result"
    }
   ],
   "source": [
    "reduceRdd2.flatMap(lambda r: [r[1]]).collect()"
   ]
  },
  {
   "cell_type": "code",
   "execution_count": 0,
   "metadata": {
    "application/vnd.databricks.v1+cell": {
     "cellMetadata": {
      "byteLimit": 2048000,
      "rowLimit": 10000
     },
     "inputWidgets": {},
     "nuid": "4c822a9f-affd-4b5c-80c2-28e206fcb116",
     "showTitle": false,
     "tableResultSettingsMap": {},
     "title": ""
    }
   },
   "outputs": [
    {
     "output_type": "execute_result",
     "data": {
      "text/plain": [
       "10"
      ]
     },
     "execution_count": 10,
     "metadata": {},
     "output_type": "execute_result"
    }
   ],
   "source": [
    "reduceRdd2.flatMap(lambda r: [r[1]]).reduce(lambda t1, t2: t1+t2)"
   ]
  },
  {
   "cell_type": "markdown",
   "metadata": {
    "application/vnd.databricks.v1+cell": {
     "cellMetadata": {},
     "inputWidgets": {},
     "nuid": "b50c743b-b612-480d-903c-15b56dcf8adb",
     "showTitle": false,
     "tableResultSettingsMap": {},
     "title": ""
    }
   },
   "source": [
    "### collect\n",
    "collect returns the elements of the RDD back to the driver program."
   ]
  },
  {
   "cell_type": "code",
   "execution_count": 0,
   "metadata": {
    "application/vnd.databricks.v1+cell": {
     "cellMetadata": {
      "byteLimit": 2048000,
      "rowLimit": 10000
     },
     "inputWidgets": {},
     "nuid": "bb27c5ac-ae0c-46ed-99d4-3ba9844f9e8c",
     "showTitle": false,
     "tableResultSettingsMap": {},
     "title": ""
    }
   },
   "outputs": [
    {
     "output_type": "execute_result",
     "data": {
      "text/plain": [
       "[1, 1, 1, 2, 2, 2, 3, 3, 3]"
      ]
     },
     "execution_count": 11,
     "metadata": {},
     "output_type": "execute_result"
    }
   ],
   "source": [
    "sc.parallelize([1,2,3]).flatMap(lambda x: [x,x,x]).collect()"
   ]
  },
  {
   "cell_type": "markdown",
   "metadata": {
    "application/vnd.databricks.v1+cell": {
     "cellMetadata": {},
     "inputWidgets": {},
     "nuid": "d1c98b7a-dd96-43ee-883c-c06a872a14fa",
     "showTitle": false,
     "tableResultSettingsMap": {},
     "title": ""
    }
   },
   "source": [
    "### count\n",
    "Number of elements in the RDD"
   ]
  },
  {
   "cell_type": "code",
   "execution_count": 0,
   "metadata": {
    "application/vnd.databricks.v1+cell": {
     "cellMetadata": {
      "byteLimit": 2048000,
      "rowLimit": 10000
     },
     "inputWidgets": {},
     "nuid": "e64e1e84-0cd3-482b-9b38-b79309524642",
     "showTitle": false,
     "tableResultSettingsMap": {},
     "title": ""
    }
   },
   "outputs": [
    {
     "output_type": "execute_result",
     "data": {
      "text/plain": [
       "3"
      ]
     },
     "execution_count": 12,
     "metadata": {},
     "output_type": "execute_result"
    }
   ],
   "source": [
    "vehicleRdd.count()"
   ]
  },
  {
   "cell_type": "markdown",
   "metadata": {
    "application/vnd.databricks.v1+cell": {
     "cellMetadata": {},
     "inputWidgets": {},
     "nuid": "b3228c66-6232-451a-b6c4-b7e789723f91",
     "showTitle": false,
     "tableResultSettingsMap": {},
     "title": ""
    }
   },
   "source": [
    "### first\n",
    "Return the first element in the RDD"
   ]
  },
  {
   "cell_type": "code",
   "execution_count": 0,
   "metadata": {
    "application/vnd.databricks.v1+cell": {
     "cellMetadata": {
      "byteLimit": 2048000,
      "rowLimit": 10000
     },
     "inputWidgets": {},
     "nuid": "3e9cd549-d6d7-4ee7-911a-f2543f1cb4f3",
     "showTitle": false,
     "tableResultSettingsMap": {},
     "title": ""
    }
   },
   "outputs": [
    {
     "output_type": "execute_result",
     "data": {
      "text/plain": [
       "'car'"
      ]
     },
     "execution_count": 13,
     "metadata": {},
     "output_type": "execute_result"
    }
   ],
   "source": [
    "vehicleRdd.first()"
   ]
  },
  {
   "cell_type": "markdown",
   "metadata": {
    "application/vnd.databricks.v1+cell": {
     "cellMetadata": {},
     "inputWidgets": {},
     "nuid": "a8e6c9de-6033-4d2b-9ffb-daafaf1860d4",
     "showTitle": false,
     "tableResultSettingsMap": {},
     "title": ""
    }
   },
   "source": [
    "### take\n",
    "Take the first n elements of the RDD."
   ]
  },
  {
   "cell_type": "code",
   "execution_count": 0,
   "metadata": {
    "application/vnd.databricks.v1+cell": {
     "cellMetadata": {
      "byteLimit": 2048000,
      "rowLimit": 10000
     },
     "inputWidgets": {},
     "nuid": "e0d880c4-4700-442b-8077-1c45968f048b",
     "showTitle": false,
     "tableResultSettingsMap": {},
     "title": ""
    }
   },
   "outputs": [
    {
     "output_type": "execute_result",
     "data": {
      "text/plain": [
       "['car', 'bus']"
      ]
     },
     "execution_count": 14,
     "metadata": {},
     "output_type": "execute_result"
    }
   ],
   "source": [
    "vehicleRdd.take(2)"
   ]
  },
  {
   "cell_type": "markdown",
   "metadata": {
    "application/vnd.databricks.v1+cell": {
     "cellMetadata": {},
     "inputWidgets": {},
     "nuid": "83f547d4-e69c-4b08-a114-02095900e333",
     "showTitle": false,
     "tableResultSettingsMap": {},
     "title": ""
    }
   },
   "source": [
    "### takeSample\n",
    "Similar to take, in return size of n.  Includes boolean option  of with or without replacement and random generator seed which defaults to None"
   ]
  },
  {
   "cell_type": "code",
   "execution_count": 0,
   "metadata": {
    "application/vnd.databricks.v1+cell": {
     "cellMetadata": {
      "byteLimit": 2048000,
      "rowLimit": 10000
     },
     "inputWidgets": {},
     "nuid": "f8d8c4ca-c515-4027-9f1e-d2a5c32b2cbf",
     "showTitle": false,
     "tableResultSettingsMap": {},
     "title": ""
    }
   },
   "outputs": [
    {
     "output_type": "execute_result",
     "data": {
      "text/plain": [
       "[5, 9, 6]"
      ]
     },
     "execution_count": 15,
     "metadata": {},
     "output_type": "execute_result"
    }
   ],
   "source": [
    "sc.parallelize(range(1,11)).takeSample(True, 3)"
   ]
  },
  {
   "cell_type": "markdown",
   "metadata": {
    "application/vnd.databricks.v1+cell": {
     "cellMetadata": {},
     "inputWidgets": {},
     "nuid": "2675842c-b25b-46dc-b967-e7a8f76aca95",
     "showTitle": false,
     "tableResultSettingsMap": {},
     "title": ""
    }
   },
   "source": [
    "### countByKey\n",
    "Count the number of elements for each key, and return the result to the master as a dictionary."
   ]
  },
  {
   "cell_type": "code",
   "execution_count": 0,
   "metadata": {
    "application/vnd.databricks.v1+cell": {
     "cellMetadata": {
      "byteLimit": 2048000,
      "rowLimit": 10000
     },
     "inputWidgets": {},
     "nuid": "f1f9c04c-9269-4752-9e83-d5654d3eab7b",
     "showTitle": false,
     "tableResultSettingsMap": {},
     "title": ""
    }
   },
   "outputs": [],
   "source": [
    "vehicles = sc.parallelize([\"car\", \"bus\", \"bike\", \"bike\", \"cycle\", \"car\", \"ship\", \"truck\", \"jeep\"]).map(lambda i: (i, 1))"
   ]
  },
  {
   "cell_type": "code",
   "execution_count": 0,
   "metadata": {
    "application/vnd.databricks.v1+cell": {
     "cellMetadata": {
      "byteLimit": 2048000,
      "rowLimit": 10000
     },
     "inputWidgets": {},
     "nuid": "69decabb-d8ca-435f-abc3-b7a5964226bf",
     "showTitle": false,
     "tableResultSettingsMap": {},
     "title": ""
    }
   },
   "outputs": [
    {
     "output_type": "execute_result",
     "data": {
      "text/plain": [
       "dict_items([('car', 2), ('bus', 1), ('bike', 2), ('cycle', 1), ('ship', 1), ('truck', 1), ('jeep', 1)])"
      ]
     },
     "execution_count": 17,
     "metadata": {},
     "output_type": "execute_result"
    }
   ],
   "source": [
    "vehicles.countByKey().items()"
   ]
  },
  {
   "cell_type": "markdown",
   "metadata": {
    "application/vnd.databricks.v1+cell": {
     "cellMetadata": {},
     "inputWidgets": {},
     "nuid": "bd981463-e2ba-4767-adbc-048dd5220e4d",
     "showTitle": false,
     "tableResultSettingsMap": {},
     "title": ""
    }
   },
   "source": [
    "### saveAsTextFile\n",
    "Save RDD as text file, using string representations of elements."
   ]
  },
  {
   "cell_type": "code",
   "execution_count": 0,
   "metadata": {
    "application/vnd.databricks.v1+cell": {
     "cellMetadata": {
      "byteLimit": 2048000,
      "rowLimit": 10000
     },
     "inputWidgets": {},
     "nuid": "bd8be879-9d04-43a9-b287-c1046ca6bcac",
     "showTitle": false,
     "tableResultSettingsMap": {},
     "title": ""
    }
   },
   "outputs": [],
   "source": [
    "action_dir = \"/FileStore/rdd/action/\""
   ]
  },
  {
   "cell_type": "code",
   "execution_count": 0,
   "metadata": {
    "application/vnd.databricks.v1+cell": {
     "cellMetadata": {
      "byteLimit": 2048000,
      "rowLimit": 10000
     },
     "inputWidgets": {},
     "nuid": "1554a27c-387e-45a6-a164-9e565972a558",
     "showTitle": false,
     "tableResultSettingsMap": {},
     "title": ""
    }
   },
   "outputs": [],
   "source": [
    "vehicles.saveAsTextFile(action_dir + \"vehicles.txt\")"
   ]
  },
  {
   "cell_type": "markdown",
   "metadata": {
    "application/vnd.databricks.v1+cell": {
     "cellMetadata": {},
     "inputWidgets": {},
     "nuid": "b61e3e4d-1573-47be-9df1-6930975f0b72",
     "showTitle": false,
     "tableResultSettingsMap": {},
     "title": ""
    }
   },
   "source": [
    "### Example"
   ]
  },
  {
   "cell_type": "code",
   "execution_count": 0,
   "metadata": {
    "application/vnd.databricks.v1+cell": {
     "cellMetadata": {
      "byteLimit": 2048000,
      "rowLimit": 10000
     },
     "inputWidgets": {},
     "nuid": "d656be3f-be5f-4494-b289-bf372dd62e81",
     "showTitle": false,
     "tableResultSettingsMap": {},
     "title": ""
    }
   },
   "outputs": [
    {
     "output_type": "execute_result",
     "data": {
      "text/plain": [
       "['The Project Gutenberg eBook of The Complete Works of William Shakespeare',\n",
       " '    ',\n",
       " 'This ebook is for the use of anyone anywhere in the United States and',\n",
       " 'most other parts of the world at no cost and with almost no restrictions',\n",
       " 'whatsoever. You may copy it, give it away or re-use it under the terms',\n",
       " 'of the Project Gutenberg License included with this ebook or online',\n",
       " 'at www.gutenberg.org. If you are not located in the United States,',\n",
       " 'you will have to check the laws of the country where you are located',\n",
       " 'before using this eBook.',\n",
       " '',\n",
       " 'Title: The Complete Works of William Shakespeare',\n",
       " '',\n",
       " '',\n",
       " 'Author: William Shakespeare',\n",
       " '',\n",
       " 'Release date: January 1, 1994 [eBook #100]',\n",
       " '                Most recently updated: January 18, 2024',\n",
       " '',\n",
       " 'Language: English',\n",
       " '',\n",
       " '',\n",
       " '',\n",
       " '*** START OF THE PROJECT GUTENBERG EBOOK THE COMPLETE WORKS OF WILLIAM SHAKESPEARE ***',\n",
       " '\\ufeffThe Complete Works of William Shakespeare',\n",
       " '',\n",
       " 'by William Shakespeare',\n",
       " '',\n",
       " '',\n",
       " '',\n",
       " '',\n",
       " '                    Contents',\n",
       " '',\n",
       " '    THE SONNETS',\n",
       " '    ALL’S WELL THAT ENDS WELL',\n",
       " '    THE TRAGEDY OF ANTONY AND CLEOPATRA',\n",
       " '    AS YOU LIKE IT',\n",
       " '    THE COMEDY OF ERRORS',\n",
       " '    THE TRAGEDY OF CORIOLANUS',\n",
       " '    CYMBELINE',\n",
       " '    THE TRAGEDY OF HAMLET, PRINCE OF DENMARK',\n",
       " '    THE FIRST PART OF KING HENRY THE FOURTH',\n",
       " '    THE SECOND PART OF KING HENRY THE FOURTH',\n",
       " '    THE LIFE OF KING HENRY THE FIFTH',\n",
       " '    THE FIRST PART OF HENRY THE SIXTH',\n",
       " '    THE SECOND PART OF KING HENRY THE SIXTH',\n",
       " '    THE THIRD PART OF KING HENRY THE SIXTH',\n",
       " '    KING HENRY THE EIGHTH',\n",
       " '    THE LIFE AND DEATH OF KING JOHN',\n",
       " '    THE TRAGEDY OF JULIUS CAESAR',\n",
       " '    THE TRAGEDY OF KING LEAR',\n",
       " '    LOVE’S LABOUR’S LOST',\n",
       " '    THE TRAGEDY OF MACBETH',\n",
       " '    MEASURE FOR MEASURE',\n",
       " '    THE MERCHANT OF VENICE',\n",
       " '    THE MERRY WIVES OF WINDSOR',\n",
       " '    A MIDSUMMER NIGHT’S DREAM',\n",
       " '    MUCH ADO ABOUT NOTHING',\n",
       " '    THE TRAGEDY OF OTHELLO, THE MOOR OF VENICE',\n",
       " '    PERICLES, PRINCE OF TYRE',\n",
       " '    KING RICHARD THE SECOND',\n",
       " '    KING RICHARD THE THIRD',\n",
       " '    THE TRAGEDY OF ROMEO AND JULIET',\n",
       " '    THE TAMING OF THE SHREW',\n",
       " '    THE TEMPEST',\n",
       " '    THE LIFE OF TIMON OF ATHENS',\n",
       " '    THE TRAGEDY OF TITUS ANDRONICUS',\n",
       " '    TROILUS AND CRESSIDA',\n",
       " '    TWELFTH NIGHT; OR, WHAT YOU WILL',\n",
       " '    THE TWO GENTLEMEN OF VERONA',\n",
       " '    THE TWO NOBLE KINSMEN',\n",
       " '    THE WINTER’S TALE',\n",
       " '    A LOVER’S COMPLAINT',\n",
       " '    THE PASSIONATE PILGRIM',\n",
       " '    THE PHOENIX AND THE TURTLE',\n",
       " '    THE RAPE OF LUCRECE',\n",
       " '    VENUS AND ADONIS',\n",
       " '',\n",
       " '',\n",
       " '',\n",
       " '',\n",
       " 'THE SONNETS',\n",
       " '',\n",
       " '                    1',\n",
       " '',\n",
       " 'From fairest creatures we desire increase,',\n",
       " 'That thereby beauty’s rose might never die,',\n",
       " 'But as the riper should by time decease,',\n",
       " 'His tender heir might bear his memory:',\n",
       " 'But thou contracted to thine own bright eyes,',\n",
       " 'Feed’st thy light’s flame with self-substantial fuel,',\n",
       " 'Making a famine where abundance lies,',\n",
       " 'Thyself thy foe, to thy sweet self too cruel:',\n",
       " 'Thou that art now the world’s fresh ornament,',\n",
       " 'And only herald to the gaudy spring,',\n",
       " 'Within thine own bud buriest thy content,',\n",
       " 'And, tender churl, mak’st waste in niggarding:',\n",
       " '  Pity the world, or else this glutton be,',\n",
       " '  To eat the world’s due, by the grave and thee.',\n",
       " '',\n",
       " '',\n",
       " '                    2',\n",
       " '',\n",
       " 'When forty winters shall besiege thy brow,',\n",
       " 'And dig deep trenches in thy beauty’s field,',\n",
       " 'Thy youth’s proud livery so gazed on now,',\n",
       " 'Will be a tattered weed of small worth held:',\n",
       " 'Then being asked, where all thy beauty lies,',\n",
       " 'Where all the treasure of thy lusty days;',\n",
       " 'To say, within thine own deep sunken eyes,',\n",
       " 'Were an all-eating shame, and thriftless praise.',\n",
       " 'How much more praise deserv’d thy beauty’s use,',\n",
       " 'If thou couldst answer ‘This fair child of mine',\n",
       " 'Shall sum my count, and make my old excuse,’',\n",
       " 'Proving his beauty by succession thine.',\n",
       " '  This were to be new made when thou art old,',\n",
       " '  And see thy blood warm when thou feel’st it cold.',\n",
       " '',\n",
       " '',\n",
       " '                    3',\n",
       " '',\n",
       " 'Look in thy glass and tell the face thou viewest,',\n",
       " 'Now is the time that face should form another,',\n",
       " 'Whose fresh repair if now thou not renewest,',\n",
       " 'Thou dost beguile the world, unbless some mother.',\n",
       " 'For where is she so fair whose uneared womb',\n",
       " 'Disdains the tillage of thy husbandry?',\n",
       " 'Or who is he so fond will be the tomb',\n",
       " 'Of his self-love to stop posterity?',\n",
       " 'Thou art thy mother’s glass and she in thee',\n",
       " 'Calls back the lovely April of her prime,',\n",
       " 'So thou through windows of thine age shalt see,',\n",
       " 'Despite of wrinkles this thy golden time.',\n",
       " '  But if thou live remembered not to be,',\n",
       " '  Die single and thine image dies with thee.',\n",
       " '',\n",
       " '',\n",
       " '                    4',\n",
       " '',\n",
       " 'Unthrifty loveliness why dost thou spend,',\n",
       " 'Upon thyself thy beauty’s legacy?',\n",
       " 'Nature’s bequest gives nothing but doth lend,',\n",
       " 'And being frank she lends to those are free:',\n",
       " 'Then beauteous niggard why dost thou abuse,',\n",
       " 'The bounteous largess given thee to give?',\n",
       " 'Profitless usurer why dost thou use',\n",
       " 'So great a sum of sums yet canst not live?',\n",
       " 'For having traffic with thyself alone,',\n",
       " 'Thou of thyself thy sweet self dost deceive,',\n",
       " 'Then how when nature calls thee to be gone,',\n",
       " 'What acceptable audit canst thou leave?',\n",
       " '  Thy unused beauty must be tombed with thee,',\n",
       " '  Which used lives th’ executor to be.',\n",
       " '',\n",
       " '',\n",
       " '                    5',\n",
       " '',\n",
       " 'Those hours that with gentle work did frame',\n",
       " 'The lovely gaze where every eye doth dwell',\n",
       " 'Will play the tyrants to the very same,',\n",
       " 'And that unfair which fairly doth excel:',\n",
       " 'For never-resting time leads summer on',\n",
       " 'To hideous winter and confounds him there,',\n",
       " 'Sap checked with frost and lusty leaves quite gone,',\n",
       " 'Beauty o’er-snowed and bareness every where:',\n",
       " 'Then were not summer’s distillation left',\n",
       " 'A liquid prisoner pent in walls of glass,',\n",
       " 'Beauty’s effect with beauty were bereft,',\n",
       " 'Nor it nor no remembrance what it was.',\n",
       " '  But flowers distilled though they with winter meet,',\n",
       " '  Leese but their show, their substance still lives sweet.',\n",
       " '',\n",
       " '',\n",
       " '                    6',\n",
       " '',\n",
       " 'Then let not winter’s ragged hand deface,',\n",
       " 'In thee thy summer ere thou be distilled:',\n",
       " 'Make sweet some vial; treasure thou some place,',\n",
       " 'With beauty’s treasure ere it be self-killed:',\n",
       " 'That use is not forbidden usury,',\n",
       " 'Which happies those that pay the willing loan;',\n",
       " 'That’s for thyself to breed another thee,',\n",
       " 'Or ten times happier be it ten for one,',\n",
       " 'Ten times thyself were happier than thou art,',\n",
       " 'If ten of thine ten times refigured thee:',\n",
       " 'Then what could death do if thou shouldst depart,',\n",
       " 'Leaving thee living in posterity?',\n",
       " '  Be not self-willed for thou art much too fair,',\n",
       " '  To be death’s conquest and make worms thine heir.',\n",
       " '',\n",
       " '',\n",
       " '                    7',\n",
       " '',\n",
       " 'Lo in the orient when the gracious light',\n",
       " 'Lifts up his burning head, each under eye',\n",
       " 'Doth homage to his new-appearing sight,',\n",
       " 'Serving with looks his sacred majesty,',\n",
       " 'And having climbed the steep-up heavenly hill,',\n",
       " 'Resembling strong youth in his middle age,',\n",
       " 'Yet mortal looks adore his beauty still,',\n",
       " 'Attending on his golden pilgrimage:',\n",
       " 'But when from highmost pitch with weary car,',\n",
       " 'Like feeble age he reeleth from the day,',\n",
       " 'The eyes (fore duteous) now converted are',\n",
       " 'From his low tract and look another way:',\n",
       " '  So thou, thyself out-going in thy noon:',\n",
       " '  Unlooked on diest unless thou get a son.',\n",
       " '',\n",
       " '',\n",
       " '                    8',\n",
       " '',\n",
       " 'Music to hear, why hear’st thou music sadly?',\n",
       " 'Sweets with sweets war not, joy delights in joy:',\n",
       " 'Why lov’st thou that which thou receiv’st not gladly,',\n",
       " 'Or else receiv’st with pleasure thine annoy?',\n",
       " 'If the true concord of well-tuned sounds,',\n",
       " 'By unions married do offend thine ear,',\n",
       " 'They do but sweetly chide thee, who confounds',\n",
       " 'In singleness the parts that thou shouldst bear:',\n",
       " 'Mark how one string sweet husband to another,',\n",
       " 'Strikes each in each by mutual ordering;',\n",
       " 'Resembling sire, and child, and happy mother,',\n",
       " 'Who all in one, one pleasing note do sing:',\n",
       " '  Whose speechless song being many, seeming one,',\n",
       " '  Sings this to thee, ‘Thou single wilt prove none’.',\n",
       " '',\n",
       " '',\n",
       " '                    9',\n",
       " '',\n",
       " 'Is it for fear to wet a widow’s eye,',\n",
       " 'That thou consum’st thyself in single life?',\n",
       " 'Ah, if thou issueless shalt hap to die,',\n",
       " 'The world will wail thee like a makeless wife,',\n",
       " 'The world will be thy widow and still weep,',\n",
       " 'That thou no form of thee hast left behind,',\n",
       " 'When every private widow well may keep,',\n",
       " 'By children’s eyes, her husband’s shape in mind:',\n",
       " 'Look what an unthrift in the world doth spend',\n",
       " 'Shifts but his place, for still the world enjoys it;',\n",
       " 'But beauty’s waste hath in the world an end,',\n",
       " 'And kept unused the user so destroys it:',\n",
       " '  No love toward others in that bosom sits',\n",
       " '  That on himself such murd’rous shame commits.',\n",
       " '',\n",
       " '',\n",
       " '                    10',\n",
       " '',\n",
       " 'For shame deny that thou bear’st love to any',\n",
       " 'Who for thyself art so unprovident.',\n",
       " 'Grant if thou wilt, thou art beloved of many,',\n",
       " 'But that thou none lov’st is most evident:',\n",
       " 'For thou art so possessed with murd’rous hate,',\n",
       " 'That ’gainst thyself thou stick’st not to conspire,',\n",
       " 'Seeking that beauteous roof to ruinate',\n",
       " 'Which to repair should be thy chief desire:',\n",
       " 'O change thy thought, that I may change my mind,',\n",
       " 'Shall hate be fairer lodged than gentle love?',\n",
       " 'Be as thy presence is gracious and kind,',\n",
       " 'Or to thyself at least kind-hearted prove,',\n",
       " '  Make thee another self for love of me,',\n",
       " '  That beauty still may live in thine or thee.',\n",
       " '',\n",
       " '',\n",
       " '                    11',\n",
       " '',\n",
       " 'As fast as thou shalt wane so fast thou grow’st,',\n",
       " 'In one of thine, from that which thou departest,',\n",
       " 'And that fresh blood which youngly thou bestow’st,',\n",
       " 'Thou mayst call thine, when thou from youth convertest,',\n",
       " 'Herein lives wisdom, beauty, and increase,',\n",
       " 'Without this folly, age, and cold decay,',\n",
       " 'If all were minded so, the times should cease,',\n",
       " 'And threescore year would make the world away:',\n",
       " 'Let those whom nature hath not made for store,',\n",
       " 'Harsh, featureless, and rude, barrenly perish:',\n",
       " 'Look whom she best endowed, she gave thee more;',\n",
       " 'Which bounteous gift thou shouldst in bounty cherish:',\n",
       " '  She carved thee for her seal, and meant thereby,',\n",
       " '  Thou shouldst print more, not let that copy die.',\n",
       " '',\n",
       " '',\n",
       " '                    12',\n",
       " '',\n",
       " 'When I do count the clock that tells the time,',\n",
       " 'And see the brave day sunk in hideous night,',\n",
       " 'When I behold the violet past prime,',\n",
       " 'And sable curls all silvered o’er with white:',\n",
       " 'When lofty trees I see barren of leaves,',\n",
       " 'Which erst from heat did canopy the herd',\n",
       " 'And summer’s green all girded up in sheaves',\n",
       " 'Borne on the bier with white and bristly beard:',\n",
       " 'Then of thy beauty do I question make',\n",
       " 'That thou among the wastes of time must go,',\n",
       " 'Since sweets and beauties do themselves forsake,',\n",
       " 'And die as fast as they see others grow,',\n",
       " '  And nothing ’gainst Time’s scythe can make defence',\n",
       " '  Save breed to brave him, when he takes thee hence.',\n",
       " '',\n",
       " '',\n",
       " '                    13',\n",
       " '',\n",
       " 'O that you were your self, but love you are',\n",
       " 'No longer yours, than you yourself here live,',\n",
       " 'Against this coming end you should prepare,',\n",
       " 'And your sweet semblance to some other give.',\n",
       " 'So should that beauty which you hold in lease',\n",
       " 'Find no determination, then you were',\n",
       " 'Yourself again after yourself’s decease,',\n",
       " 'When your sweet issue your sweet form should bear.',\n",
       " 'Who lets so fair a house fall to decay,',\n",
       " 'Which husbandry in honour might uphold,',\n",
       " 'Against the stormy gusts of winter’s day',\n",
       " 'And barren rage of death’s eternal cold?',\n",
       " '  O none but unthrifts, dear my love you know,',\n",
       " '  You had a father, let your son say so.',\n",
       " '',\n",
       " '',\n",
       " '                    14',\n",
       " '',\n",
       " 'Not from the stars do I my judgement pluck,',\n",
       " 'And yet methinks I have astronomy,',\n",
       " 'But not to tell of good, or evil luck,',\n",
       " 'Of plagues, of dearths, or seasons’ quality,',\n",
       " 'Nor can I fortune to brief minutes tell;',\n",
       " 'Pointing to each his thunder, rain and wind,',\n",
       " 'Or say with princes if it shall go well',\n",
       " 'By oft predict that I in heaven find.',\n",
       " 'But from thine eyes my knowledge I derive,',\n",
       " 'And constant stars in them I read such art',\n",
       " 'As truth and beauty shall together thrive',\n",
       " 'If from thyself, to store thou wouldst convert:',\n",
       " '  Or else of thee this I prognosticate,',\n",
       " '  Thy end is truth’s and beauty’s doom and date.',\n",
       " '',\n",
       " '',\n",
       " '                    15',\n",
       " '',\n",
       " 'When I consider everything that grows',\n",
       " 'Holds in perfection but a little moment.',\n",
       " 'That this huge stage presenteth nought but shows',\n",
       " 'Whereon the stars in secret influence comment.',\n",
       " 'When I perceive that men as plants increase,',\n",
       " 'Cheered and checked even by the self-same sky:',\n",
       " 'Vaunt in their youthful sap, at height decrease,',\n",
       " 'And wear their brave state out of memory.',\n",
       " 'Then the conceit of this inconstant stay,',\n",
       " 'Sets you most rich in youth before my sight,',\n",
       " 'Where wasteful Time debateth with Decay',\n",
       " 'To change your day of youth to sullied night,',\n",
       " '  And all in war with Time for love of you,',\n",
       " '  As he takes from you, I engraft you new.',\n",
       " '',\n",
       " '',\n",
       " '                    16',\n",
       " '',\n",
       " 'But wherefore do not you a mightier way',\n",
       " 'Make war upon this bloody tyrant Time?',\n",
       " 'And fortify yourself in your decay',\n",
       " 'With means more blessed than my barren rhyme?',\n",
       " 'Now stand you on the top of happy hours,',\n",
       " 'And many maiden gardens yet unset,',\n",
       " 'With virtuous wish would bear you living flowers,',\n",
       " 'Much liker than your painted counterfeit:',\n",
       " 'So should the lines of life that life repair',\n",
       " 'Which this (Time’s pencil) or my pupil pen',\n",
       " 'Neither in inward worth nor outward fair',\n",
       " 'Can make you live yourself in eyes of men.',\n",
       " '  To give away yourself, keeps yourself still,',\n",
       " '  And you must live drawn by your own sweet skill.',\n",
       " '',\n",
       " '',\n",
       " '                    17',\n",
       " '',\n",
       " 'Who will believe my verse in time to come',\n",
       " 'If it were filled with your most high deserts?',\n",
       " 'Though yet heaven knows it is but as a tomb',\n",
       " 'Which hides your life, and shows not half your parts:',\n",
       " 'If I could write the beauty of your eyes,',\n",
       " 'And in fresh numbers number all your graces,',\n",
       " 'The age to come would say this poet lies,',\n",
       " 'Such heavenly touches ne’er touched earthly faces.',\n",
       " 'So should my papers (yellowed with their age)',\n",
       " 'Be scorned, like old men of less truth than tongue,',\n",
       " 'And your true rights be termed a poet’s rage,',\n",
       " 'And stretched metre of an antique song.',\n",
       " '  But were some child of yours alive that time,',\n",
       " '  You should live twice,—in it, and in my rhyme.',\n",
       " '',\n",
       " '',\n",
       " '                    18',\n",
       " '',\n",
       " 'Shall I compare thee to a summer’s day?',\n",
       " 'Thou art more lovely and more temperate:',\n",
       " 'Rough winds do shake the darling buds of May,',\n",
       " 'And summer’s lease hath all too short a date:',\n",
       " 'Sometime too hot the eye of heaven shines,',\n",
       " 'And often is his gold complexion dimmed,',\n",
       " 'And every fair from fair sometime declines,',\n",
       " 'By chance, or nature’s changing course untrimmed:',\n",
       " 'But thy eternal summer shall not fade,',\n",
       " 'Nor lose possession of that fair thou ow’st,',\n",
       " 'Nor shall death brag thou wand’rest in his shade,',\n",
       " 'When in eternal lines to time thou grow’st,',\n",
       " '  So long as men can breathe or eyes can see,',\n",
       " '  So long lives this, and this gives life to thee.',\n",
       " '',\n",
       " '',\n",
       " '                    19',\n",
       " '',\n",
       " 'Devouring Time blunt thou the lion’s paws,',\n",
       " 'And make the earth devour her own sweet brood,',\n",
       " 'Pluck the keen teeth from the fierce tiger’s jaws,',\n",
       " 'And burn the long-lived phoenix, in her blood,',\n",
       " 'Make glad and sorry seasons as thou fleet’st,',\n",
       " 'And do whate’er thou wilt swift-footed Time',\n",
       " 'To the wide world and all her fading sweets:',\n",
       " 'But I forbid thee one most heinous crime,',\n",
       " 'O carve not with thy hours my love’s fair brow,',\n",
       " 'Nor draw no lines there with thine antique pen,',\n",
       " 'Him in thy course untainted do allow,',\n",
       " 'For beauty’s pattern to succeeding men.',\n",
       " '  Yet do thy worst, old Time; despite thy wrong,',\n",
       " '  My love shall in my verse ever live young.',\n",
       " '',\n",
       " '',\n",
       " '                    20',\n",
       " '',\n",
       " 'A woman’s face with nature’s own hand painted,',\n",
       " 'Hast thou the master mistress of my passion,',\n",
       " 'A woman’s gentle heart but not acquainted',\n",
       " 'With shifting change as is false women’s fashion,',\n",
       " 'An eye more bright than theirs, less false in rolling:',\n",
       " 'Gilding the object whereupon it gazeth,',\n",
       " 'A man in hue all hues in his controlling,',\n",
       " 'Which steals men’s eyes and women’s souls amazeth.',\n",
       " 'And for a woman wert thou first created,',\n",
       " 'Till nature as she wrought thee fell a-doting,',\n",
       " 'And by addition me of thee defeated,',\n",
       " 'By adding one thing to my purpose nothing.',\n",
       " '  But since she pricked thee out for women’s pleasure,',\n",
       " '  Mine be thy love and thy love’s use their treasure.',\n",
       " '',\n",
       " '',\n",
       " '                    21',\n",
       " '',\n",
       " 'So is it not with me as with that muse,',\n",
       " 'Stirred by a painted beauty to his verse,',\n",
       " 'Who heaven it self for ornament doth use,',\n",
       " 'And every fair with his fair doth rehearse,',\n",
       " 'Making a couplement of proud compare',\n",
       " 'With sun and moon, with earth and sea’s rich gems:',\n",
       " 'With April’s first-born flowers and all things rare,',\n",
       " 'That heaven’s air in this huge rondure hems.',\n",
       " 'O let me true in love but truly write,',\n",
       " 'And then believe me, my love is as fair,',\n",
       " 'As any mother’s child, though not so bright',\n",
       " 'As those gold candles fixed in heaven’s air:',\n",
       " '  Let them say more that like of hearsay well,',\n",
       " '  I will not praise that purpose not to sell.',\n",
       " '',\n",
       " '',\n",
       " '                    22',\n",
       " '',\n",
       " 'My glass shall not persuade me I am old,',\n",
       " 'So long as youth and thou are of one date,',\n",
       " 'But when in thee time’s furrows I behold,',\n",
       " 'Then look I death my days should expiate.',\n",
       " 'For all that beauty that doth cover thee,',\n",
       " 'Is but the seemly raiment of my heart,',\n",
       " 'Which in thy breast doth live, as thine in me,',\n",
       " 'How can I then be elder than thou art?',\n",
       " 'O therefore love be of thyself so wary,',\n",
       " 'As I not for my self, but for thee will,',\n",
       " 'Bearing thy heart which I will keep so chary',\n",
       " 'As tender nurse her babe from faring ill.',\n",
       " '  Presume not on thy heart when mine is slain,',\n",
       " '  Thou gav’st me thine not to give back again.',\n",
       " '',\n",
       " '',\n",
       " '                    23',\n",
       " '',\n",
       " 'As an unperfect actor on the stage,',\n",
       " 'Who with his fear is put beside his part,',\n",
       " 'Or some fierce thing replete with too much rage,',\n",
       " 'Whose strength’s abundance weakens his own heart;',\n",
       " 'So I for fear of trust, forget to say,',\n",
       " 'The perfect ceremony of love’s rite,',\n",
       " 'And in mine own love’s strength seem to decay,',\n",
       " 'O’ercharged with burthen of mine own love’s might:',\n",
       " 'O let my looks be then the eloquence,',\n",
       " 'And dumb presagers of my speaking breast,',\n",
       " 'Who plead for love, and look for recompense,',\n",
       " 'More than that tongue that more hath more expressed.',\n",
       " '  O learn to read what silent love hath writ,',\n",
       " '  To hear with eyes belongs to love’s fine wit.',\n",
       " '',\n",
       " '',\n",
       " '                    24',\n",
       " '',\n",
       " 'Mine eye hath played the painter and hath stelled,',\n",
       " 'Thy beauty’s form in table of my heart,',\n",
       " 'My body is the frame wherein ’tis held,',\n",
       " 'And perspective it is best painter’s art.',\n",
       " 'For through the painter must you see his skill,',\n",
       " 'To find where your true image pictured lies,',\n",
       " 'Which in my bosom’s shop is hanging still,',\n",
       " 'That hath his windows glazed with thine eyes:',\n",
       " 'Now see what good turns eyes for eyes have done,',\n",
       " 'Mine eyes have drawn thy shape, and thine for me',\n",
       " 'Are windows to my breast, where-through the sun',\n",
       " 'Delights to peep, to gaze therein on thee;',\n",
       " '  Yet eyes this cunning want to grace their art,',\n",
       " '  They draw but what they see, know not the heart.',\n",
       " '',\n",
       " '',\n",
       " '                    25',\n",
       " '',\n",
       " 'Let those who are in favour with their stars,',\n",
       " 'Of public honour and proud titles boast,',\n",
       " 'Whilst I whom fortune of such triumph bars',\n",
       " 'Unlooked for joy in that I honour most;',\n",
       " 'Great princes’ favourites their fair leaves spread,',\n",
       " 'But as the marigold at the sun’s eye,',\n",
       " 'And in themselves their pride lies buried,',\n",
       " 'For at a frown they in their glory die.',\n",
       " 'The painful warrior famoused for fight,',\n",
       " 'After a thousand victories once foiled,',\n",
       " 'Is from the book of honour razed quite,',\n",
       " 'And all the rest forgot for which he toiled:',\n",
       " '  Then happy I that love and am beloved',\n",
       " '  Where I may not remove nor be removed.',\n",
       " '',\n",
       " '',\n",
       " '                    26',\n",
       " '',\n",
       " 'Lord of my love, to whom in vassalage',\n",
       " 'Thy merit hath my duty strongly knit;',\n",
       " 'To thee I send this written embassage',\n",
       " 'To witness duty, not to show my wit.',\n",
       " 'Duty so great, which wit so poor as mine',\n",
       " 'May make seem bare, in wanting words to show it;',\n",
       " 'But that I hope some good conceit of thine',\n",
       " 'In thy soul’s thought (all naked) will bestow it:',\n",
       " 'Till whatsoever star that guides my moving,',\n",
       " 'Points on me graciously with fair aspect,',\n",
       " 'And puts apparel on my tattered loving,',\n",
       " 'To show me worthy of thy sweet respect,',\n",
       " '  Then may I dare to boast how I do love thee,',\n",
       " '  Till then, not show my head where thou mayst prove me.',\n",
       " '',\n",
       " '',\n",
       " '                    27',\n",
       " '',\n",
       " 'Weary with toil, I haste me to my bed,',\n",
       " 'The dear respose for limbs with travel tired,',\n",
       " 'But then begins a journey in my head',\n",
       " 'To work my mind, when body’s work’s expired.',\n",
       " 'For then my thoughts, from far where I abide,',\n",
       " 'Intend a zealous pilgrimage to thee,',\n",
       " 'And keep my drooping eyelids open wide,',\n",
       " 'Looking on darkness which the blind do see.',\n",
       " 'Save that my soul’s imaginary sight',\n",
       " 'Presents thy shadow to my sightless view,',\n",
       " 'Which like a jewel (hung in ghastly night)',\n",
       " 'Makes black night beauteous, and her old face new.',\n",
       " '  Lo thus by day my limbs, by night my mind,',\n",
       " '  For thee, and for my self, no quiet find.',\n",
       " '',\n",
       " '',\n",
       " '                    28',\n",
       " '',\n",
       " 'How can I then return in happy plight',\n",
       " 'That am debarred the benefit of rest?',\n",
       " 'When day’s oppression is not eased by night,',\n",
       " 'But day by night and night by day oppressed.',\n",
       " 'And each (though enemies to either’s reign)',\n",
       " 'Do in consent shake hands to torture me,',\n",
       " 'The one by toil, the other to complain',\n",
       " 'How far I toil, still farther off from thee.',\n",
       " 'I tell the day to please him thou art bright,',\n",
       " 'And dost him grace when clouds do blot the heaven:',\n",
       " 'So flatter I the swart-complexioned night,',\n",
       " 'When sparkling stars twire not thou gild’st the even.',\n",
       " '  But day doth daily draw my sorrows longer,',\n",
       " '  And night doth nightly make grief’s length seem stronger',\n",
       " '',\n",
       " '',\n",
       " '                    29',\n",
       " '',\n",
       " 'When in disgrace with fortune and men’s eyes,',\n",
       " 'I all alone beweep my outcast state,',\n",
       " 'And trouble deaf heaven with my bootless cries,',\n",
       " 'And look upon my self and curse my fate,',\n",
       " 'Wishing me like to one more rich in hope,',\n",
       " 'Featured like him, like him with friends possessed,',\n",
       " 'Desiring this man’s art, and that man’s scope,',\n",
       " 'With what I most enjoy contented least,',\n",
       " 'Yet in these thoughts my self almost despising,',\n",
       " 'Haply I think on thee, and then my state,',\n",
       " '(Like to the lark at break of day arising',\n",
       " 'From sullen earth) sings hymns at heaven’s gate,',\n",
       " '  For thy sweet love remembered such wealth brings,',\n",
       " '  That then I scorn to change my state with kings.',\n",
       " '',\n",
       " '',\n",
       " '                    30',\n",
       " '',\n",
       " 'When to the sessions of sweet silent thought,',\n",
       " 'I summon up remembrance of things past,',\n",
       " 'I sigh the lack of many a thing I sought,',\n",
       " 'And with old woes new wail my dear time’s waste:',\n",
       " 'Then can I drown an eye (unused to flow)',\n",
       " 'For precious friends hid in death’s dateless night,',\n",
       " 'And weep afresh love’s long since cancelled woe,',\n",
       " 'And moan th’ expense of many a vanished sight.',\n",
       " 'Then can I grieve at grievances foregone,',\n",
       " 'And heavily from woe to woe tell o’er',\n",
       " 'The sad account of fore-bemoaned moan,',\n",
       " 'Which I new pay as if not paid before.',\n",
       " '  But if the while I think on thee (dear friend)',\n",
       " '  All losses are restored, and sorrows end.',\n",
       " '',\n",
       " '',\n",
       " '                    31',\n",
       " '',\n",
       " 'Thy bosom is endeared with all hearts,',\n",
       " 'Which I by lacking have supposed dead,',\n",
       " 'And there reigns love and all love’s loving parts,',\n",
       " 'And all those friends which I thought buried.',\n",
       " 'How many a holy and obsequious tear',\n",
       " 'Hath dear religious love stol’n from mine eye,',\n",
       " 'As interest of the dead, which now appear,',\n",
       " 'But things removed that hidden in thee lie.',\n",
       " 'Thou art the grave where buried love doth live,',\n",
       " 'Hung with the trophies of my lovers gone,',\n",
       " 'Who all their parts of me to thee did give,',\n",
       " 'That due of many, now is thine alone.',\n",
       " '  Their images I loved, I view in thee,',\n",
       " '  And thou, all they, hast all the all of me.',\n",
       " '',\n",
       " '',\n",
       " '                    32',\n",
       " '',\n",
       " 'If thou survive my well-contented day,',\n",
       " 'When that churl death my bones with dust shall cover',\n",
       " 'And shalt by fortune once more re-survey',\n",
       " 'These poor rude lines of thy deceased lover:',\n",
       " 'Compare them with the bett’ring of the time,',\n",
       " 'And though they be outstripped by every pen,',\n",
       " 'Reserve them for my love, not for their rhyme,',\n",
       " 'Exceeded by the height of happier men.',\n",
       " 'O then vouchsafe me but this loving thought,',\n",
       " '’Had my friend’s Muse grown with this growing age,',\n",
       " 'A dearer birth than this his love had brought',\n",
       " 'To march in ranks of better equipage:',\n",
       " '  But since he died and poets better prove,',\n",
       " '  Theirs for their style I’ll read, his for his love’.',\n",
       " '',\n",
       " '',\n",
       " '                    33',\n",
       " '',\n",
       " 'Full many a glorious morning have I seen,',\n",
       " 'Flatter the mountain tops with sovereign eye,',\n",
       " 'Kissing with golden face the meadows green;',\n",
       " 'Gilding pale streams with heavenly alchemy:',\n",
       " 'Anon permit the basest clouds to ride,',\n",
       " 'With ugly rack on his celestial face,',\n",
       " 'And from the forlorn world his visage hide',\n",
       " 'Stealing unseen to west with this disgrace:',\n",
       " 'Even so my sun one early morn did shine,',\n",
       " 'With all triumphant splendour on my brow,',\n",
       " 'But out alack, he was but one hour mine,',\n",
       " 'The region cloud hath masked him from me now.',\n",
       " '  Yet him for this, my love no whit disdaineth,',\n",
       " '  Suns of the world may stain, when heaven’s sun staineth.',\n",
       " '',\n",
       " '',\n",
       " '                    34',\n",
       " '',\n",
       " 'Why didst thou promise such a beauteous day,',\n",
       " 'And make me travel forth without my cloak,',\n",
       " 'To let base clouds o’ertake me in my way,',\n",
       " 'Hiding thy brav’ry in their rotten smoke?',\n",
       " '’Tis not enough that through the cloud thou break,',\n",
       " 'To dry the rain on my storm-beaten face,',\n",
       " 'For no man well of such a salve can speak,',\n",
       " 'That heals the wound, and cures not the disgrace:',\n",
       " 'Nor can thy shame give physic to my grief,',\n",
       " 'Though thou repent, yet I have still the loss,',\n",
       " 'Th’ offender’s sorrow lends but weak relief',\n",
       " 'To him that bears the strong offence’s cross.',\n",
       " '  Ah but those tears are pearl which thy love sheds,',\n",
       " '  And they are rich, and ransom all ill deeds.',\n",
       " '',\n",
       " '',\n",
       " '                    35',\n",
       " '',\n",
       " 'No more be grieved at that which thou hast done,',\n",
       " 'Roses have thorns, and silver fountains mud,',\n",
       " 'Clouds and eclipses stain both moon and sun,',\n",
       " 'And loathsome canker lives in sweetest bud.',\n",
       " 'All men make faults, and even I in this,',\n",
       " 'Authorizing thy trespass with compare,',\n",
       " 'My self corrupting salving thy amiss,',\n",
       " 'Excusing thy sins more than thy sins are:',\n",
       " 'For to thy sensual fault I bring in sense;',\n",
       " 'Thy adverse party is thy advocate,',\n",
       " 'And ’gainst my self a lawful plea commence:',\n",
       " 'Such civil war is in my love and hate,',\n",
       " '  That I an accessary needs must be,',\n",
       " '  To that sweet thief which sourly robs from me.',\n",
       " '',\n",
       " '',\n",
       " '                    36',\n",
       " '',\n",
       " 'Let me confess that we two must be twain,',\n",
       " 'Although our undivided loves are one:',\n",
       " 'So shall those blots that do with me remain,',\n",
       " 'Without thy help, by me be borne alone.',\n",
       " 'In our two loves there is but one respect,',\n",
       " 'Though in our lives a separable spite,',\n",
       " 'Which though it alter not love’s sole effect,',\n",
       " 'Yet doth it steal sweet hours from love’s delight.',\n",
       " 'I may not evermore acknowledge thee,',\n",
       " 'Lest my bewailed guilt should do thee shame,',\n",
       " 'Nor thou with public kindness honour me,',\n",
       " 'Unless thou take that honour from thy name:',\n",
       " '  But do not so, I love thee in such sort,',\n",
       " '  As thou being mine, mine is thy good report.',\n",
       " '',\n",
       " '',\n",
       " '                    37',\n",
       " '',\n",
       " 'As a decrepit father takes delight,',\n",
       " 'To see his active child do deeds of youth,',\n",
       " 'So I, made lame by Fortune’s dearest spite',\n",
       " 'Take all my comfort of thy worth and truth.',\n",
       " 'For whether beauty, birth, or wealth, or wit,',\n",
       " 'Or any of these all, or all, or more',\n",
       " 'Entitled in thy parts, do crowned sit,',\n",
       " 'I make my love engrafted to this store:',\n",
       " 'So then I am not lame, poor, nor despised,',\n",
       " 'Whilst that this shadow doth such substance give,',\n",
       " 'That I in thy abundance am sufficed,',\n",
       " 'And by a part of all thy glory live:',\n",
       " '  Look what is best, that best I wish in thee,',\n",
       " '  This wish I have, then ten times happy me.',\n",
       " '',\n",
       " '',\n",
       " '                    38',\n",
       " '',\n",
       " 'How can my Muse want subject to invent',\n",
       " 'While thou dost breathe that pour’st into my verse,',\n",
       " 'Thine own sweet argument, too excellent,',\n",
       " 'For every vulgar paper to rehearse?',\n",
       " 'O give thyself the thanks if aught in me,',\n",
       " 'Worthy perusal stand against thy sight,',\n",
       " 'For who’s so dumb that cannot write to thee,',\n",
       " 'When thou thyself dost give invention light?',\n",
       " 'Be thou the tenth Muse, ten times more in worth',\n",
       " 'Than those old nine which rhymers invocate,',\n",
       " 'And he that calls on thee, let him bring forth',\n",
       " 'Eternal numbers to outlive long date.',\n",
       " '  If my slight Muse do please these curious days,',\n",
       " '  The pain be mine, but thine shall be the praise.',\n",
       " '',\n",
       " '',\n",
       " '                    39',\n",
       " '',\n",
       " 'O how thy worth with manners may I sing,',\n",
       " 'When thou art all the better part of me?',\n",
       " 'What can mine own praise to mine own self bring:',\n",
       " 'And what is’t but mine own when I praise thee?',\n",
       " 'Even for this, let us divided live,',\n",
       " 'And our dear love lose name of single one,',\n",
       " 'That by this separation I may give:',\n",
       " 'That due to thee which thou deserv’st alone:',\n",
       " 'O absence what a torment wouldst thou prove,',\n",
       " 'Were it not thy sour leisure gave sweet leave,',\n",
       " 'To entertain the time with thoughts of love,',\n",
       " 'Which time and thoughts so sweetly doth deceive.',\n",
       " '  And that thou teachest how to make one twain,',\n",
       " '  By praising him here who doth hence remain.',\n",
       " '',\n",
       " '',\n",
       " '                    40',\n",
       " '',\n",
       " 'Take all my loves, my love, yea take them all,',\n",
       " 'What hast thou then more than thou hadst before?',\n",
       " 'No love, my love, that thou mayst true love call,',\n",
       " 'All mine was thine, before thou hadst this more:',\n",
       " 'Then if for my love, thou my love receivest,',\n",
       " 'I cannot blame thee, for my love thou usest,',\n",
       " 'But yet be blamed, if thou thyself deceivest',\n",
       " 'By wilful taste of what thyself refusest.',\n",
       " 'I do forgive thy robbery gentle thief',\n",
       " 'Although thou steal thee all my poverty:',\n",
       " 'And yet love knows it is a greater grief',\n",
       " 'To bear greater wrong, than hate’s known injury.',\n",
       " '  Lascivious grace, in whom all ill well shows,',\n",
       " '  Kill me with spites yet we must not be foes.',\n",
       " '',\n",
       " '',\n",
       " '                    41',\n",
       " '',\n",
       " 'Those pretty wrongs that liberty commits,',\n",
       " 'When I am sometime absent from thy heart,',\n",
       " 'Thy beauty, and thy years full well befits,',\n",
       " 'For still temptation follows where thou art.',\n",
       " 'Gentle thou art, and therefore to be won,',\n",
       " 'Beauteous thou art, therefore to be assailed.',\n",
       " 'And when a woman woos, what woman’s son,',\n",
       " 'Will sourly leave her till he have prevailed?',\n",
       " 'Ay me, but yet thou mightst my seat forbear,',\n",
       " 'And chide thy beauty, and thy straying youth,',\n",
       " 'Who lead thee in their riot even there',\n",
       " 'Where thou art forced to break a twofold truth:',\n",
       " '  Hers by thy beauty tempting her to thee,',\n",
       " '  Thine by thy beauty being false to me.',\n",
       " '',\n",
       " '',\n",
       " '                    42',\n",
       " '',\n",
       " 'That thou hast her it is not all my grief,',\n",
       " 'And yet it may be said I loved her dearly,',\n",
       " 'That she hath thee is of my wailing chief,',\n",
       " 'A loss in love that touches me more nearly.',\n",
       " 'Loving offenders thus I will excuse ye,',\n",
       " 'Thou dost love her, because thou know’st I love her,',\n",
       " 'And for my sake even so doth she abuse me,',\n",
       " 'Suff’ring my friend for my sake to approve her.',\n",
       " 'If I lose thee, my loss is my love’s gain,',\n",
       " 'And losing her, my friend hath found that loss,',\n",
       " 'Both find each other, and I lose both twain,',\n",
       " 'And both for my sake lay on me this cross,',\n",
       " '  But here’s the joy, my friend and I are one,',\n",
       " '  Sweet flattery, then she loves but me alone.',\n",
       " '',\n",
       " '',\n",
       " '                    43',\n",
       " '',\n",
       " 'When most I wink then do mine eyes best see,',\n",
       " 'For all the day they view things unrespected,',\n",
       " 'But when I sleep, in dreams they look on thee,',\n",
       " 'And darkly bright, are bright in dark directed.',\n",
       " 'Then thou whose shadow shadows doth make bright',\n",
       " 'How would thy shadow’s form, form happy show,',\n",
       " 'To the clear day with thy much clearer light,',\n",
       " 'When to unseeing eyes thy shade shines so!',\n",
       " 'How would (I say) mine eyes be blessed made,',\n",
       " 'By looking on thee in the living day,',\n",
       " 'When in dead night thy fair imperfect shade,',\n",
       " 'Through heavy sleep on sightless eyes doth stay!',\n",
       " '  All days are nights to see till I see thee,',\n",
       " '  And nights bright days when dreams do show thee me.',\n",
       " '',\n",
       " '',\n",
       " '                    44',\n",
       " '',\n",
       " 'If the dull substance of my flesh were thought,',\n",
       " 'Injurious distance should not stop my way,',\n",
       " 'For then despite of space I would be brought,',\n",
       " 'From limits far remote, where thou dost stay,',\n",
       " 'No matter then although my foot did stand',\n",
       " 'Upon the farthest earth removed from thee,',\n",
       " 'For nimble thought can jump both sea and land,',\n",
       " 'As soon as think the place where he would be.',\n",
       " 'But ah, thought kills me that I am not thought',\n",
       " 'To leap large lengths of miles when thou art gone,',\n",
       " 'But that so much of earth and water wrought,',\n",
       " 'I must attend, time’s leisure with my moan.',\n",
       " '  Receiving nought by elements so slow,',\n",
       " '  But heavy tears, badges of either’s woe.',\n",
       " '',\n",
       " '',\n",
       " '                    45',\n",
       " '',\n",
       " 'The other two, slight air, and purging fire,',\n",
       " 'Are both with thee, wherever I abide,',\n",
       " 'The first my thought, the other my desire,',\n",
       " 'These present-absent with swift motion slide.',\n",
       " 'For when these quicker elements are gone',\n",
       " 'In tender embassy of love to thee,',\n",
       " 'My life being made of four, with two alone,',\n",
       " 'Sinks down to death, oppressed with melancholy.',\n",
       " 'Until life’s composition be recured,',\n",
       " 'By those swift messengers returned from thee,',\n",
       " 'Who even but now come back again assured,',\n",
       " 'Of thy fair health, recounting it to me.',\n",
       " '  This told, I joy, but then no longer glad,',\n",
       " '  I send them back again and straight grow sad.',\n",
       " '',\n",
       " '',\n",
       " '                    46',\n",
       " '',\n",
       " 'Mine eye and heart are at a mortal war,',\n",
       " 'How to divide the conquest of thy sight,',\n",
       " 'Mine eye, my heart thy picture’s sight would bar,',\n",
       " 'My heart, mine eye the freedom of that right,',\n",
       " 'My heart doth plead that thou in him dost lie,',\n",
       " 'A closet never pierced with crystal eyes;',\n",
       " 'But the defendant doth that plea deny,',\n",
       " 'And says in him thy fair appearance lies.',\n",
       " 'To side this title is impanelled',\n",
       " 'A quest of thoughts, all tenants to the heart,',\n",
       " 'And by their verdict is determined',\n",
       " 'The clear eye’s moiety, and the dear heart’s part.',\n",
       " '  As thus, mine eye’s due is thy outward part,',\n",
       " '  And my heart’s right, thy inward love of heart.',\n",
       " '',\n",
       " '',\n",
       " '                    47',\n",
       " '',\n",
       " 'Betwixt mine eye and heart a league is took,',\n",
       " 'And each doth good turns now unto the other,',\n",
       " 'When that mine eye is famished for a look,',\n",
       " 'Or heart in love with sighs himself doth smother;',\n",
       " 'With my love’s picture then my eye doth feast,',\n",
       " 'And to the painted banquet bids my heart:',\n",
       " 'Another time mine eye is my heart’s guest,',\n",
       " 'And in his thoughts of love doth share a part.',\n",
       " 'So either by thy picture or my love,',\n",
       " 'Thyself away, art present still with me,',\n",
       " 'For thou not farther than my thoughts canst move,',\n",
       " 'And I am still with them, and they with thee.',\n",
       " '  Or if they sleep, thy picture in my sight',\n",
       " '  Awakes my heart, to heart’s and eye’s delight.',\n",
       " '',\n",
       " '',\n",
       " '                    48',\n",
       " '',\n",
       " 'How careful was I when I took my way,',\n",
       " 'Each trifle under truest bars to thrust,',\n",
       " 'That to my use it might unused stay',\n",
       " 'From hands of falsehood, in sure wards of trust!',\n",
       " 'But thou, to whom my jewels trifles are,',\n",
       " 'Most worthy comfort, now my greatest grief,',\n",
       " 'Thou best of dearest, and mine only care,',\n",
       " 'Art left the prey of every vulgar thief.',\n",
       " 'Thee have I not locked up in any chest,',\n",
       " 'Save where thou art not, though I feel thou art,',\n",
       " 'Within the gentle closure of my breast,',\n",
       " 'From whence at pleasure thou mayst come and part,',\n",
       " '  And even thence thou wilt be stol’n I fear,',\n",
       " '  For truth proves thievish for a prize so dear.',\n",
       " '',\n",
       " '',\n",
       " '                    49',\n",
       " '',\n",
       " 'Against that time (if ever that time come)',\n",
       " 'When I shall see thee frown on my defects,',\n",
       " 'When as thy love hath cast his utmost sum,',\n",
       " 'Called to that audit by advised respects,',\n",
       " 'Against that time when thou shalt strangely pass,',\n",
       " 'And scarcely greet me with that sun thine eye,',\n",
       " 'When love converted from the thing it was',\n",
       " 'Shall reasons find of settled gravity;',\n",
       " 'Against that time do I ensconce me here',\n",
       " 'Within the knowledge of mine own desert,',\n",
       " 'And this my hand, against my self uprear,',\n",
       " 'To guard the lawful reasons on thy part,',\n",
       " '  To leave poor me, thou hast the strength of laws,',\n",
       " '  Since why to love, I can allege no cause.',\n",
       " '',\n",
       " '',\n",
       " '                    50',\n",
       " '',\n",
       " 'How heavy do I journey on the way,',\n",
       " 'When what I seek (my weary travel’s end)',\n",
       " 'Doth teach that case and that repose to say',\n",
       " '’Thus far the miles are measured from thy friend.’',\n",
       " 'The beast that bears me, tired with my woe,',\n",
       " 'Plods dully on, to bear that weight in me,',\n",
       " 'As if by some instinct the wretch did know',\n",
       " 'His rider loved not speed being made from thee:',\n",
       " 'The bloody spur cannot provoke him on,',\n",
       " 'That sometimes anger thrusts into his hide,',\n",
       " 'Which heavily he answers with a groan,',\n",
       " 'More sharp to me than spurring to his side,',\n",
       " '  For that same groan doth put this in my mind,',\n",
       " '  My grief lies onward and my joy behind.',\n",
       " '',\n",
       " '',\n",
       " '                    51',\n",
       " '',\n",
       " 'Thus can my love excuse the slow offence,',\n",
       " 'Of my dull bearer, when from thee I speed,',\n",
       " 'From where thou art, why should I haste me thence?',\n",
       " 'Till I return of posting is no need.',\n",
       " 'O what excuse will my poor beast then find,',\n",
       " 'When swift extremity can seem but slow?',\n",
       " 'Then should I spur though mounted on the wind,',\n",
       " 'In winged speed no motion shall I know,',\n",
       " 'Then can no horse with my desire keep pace,',\n",
       " 'Therefore desire (of perfect’st love being made)',\n",
       " 'Shall neigh no dull flesh in his fiery race,',\n",
       " 'But love, for love, thus shall excuse my jade:',\n",
       " '  Since from thee going, he went wilful-slow,',\n",
       " '  Towards thee I’ll run, and give him leave to go.',\n",
       " '',\n",
       " '',\n",
       " ...]"
      ]
     },
     "execution_count": 22,
     "metadata": {},
     "output_type": "execute_result"
    }
   ],
   "source": [
    "baseRdd = sc.textFile(action_dir + \"pg100.txt\")\n",
    "baseRdd.collect()"
   ]
  },
  {
   "cell_type": "code",
   "execution_count": 0,
   "metadata": {
    "application/vnd.databricks.v1+cell": {
     "cellMetadata": {
      "byteLimit": 2048000,
      "rowLimit": 10000
     },
     "inputWidgets": {},
     "nuid": "56a32a78-01b5-4f0a-8fa3-2ca26e67dab1",
     "showTitle": false,
     "tableResultSettingsMap": {},
     "title": ""
    }
   },
   "outputs": [],
   "source": [
    "stop_words = ['i', 'me', 'my', 'myself', 'we', 'our', 'ours', 'ourselves', 'you', \"you're\", \"you've\", \"you'll\", \"you'd\", 'your', 'yours', 'yourself', 'yourselves', 'he', 'him', 'his', 'himself', 'she', \"she's\", 'her', 'hers', 'herself', 'it', \"it's\", 'its', 'itself', 'they', 'them', 'their', 'theirs', 'themselves', 'what', 'which', 'who', 'whom', 'this', 'that', \"that'll\", 'these', 'those', 'am', 'is', 'are', 'was', 'were', 'be', 'been', 'being', 'have', 'has', 'had', 'having', 'do', 'does', 'did', 'doing', 'a', 'an', 'the', 'and', 'but', 'if', 'or', 'because', 'as', 'until', 'while', 'of', 'at', 'by', 'for', 'with', 'about', 'against', 'between', 'into', 'through', 'during', 'before', 'after', 'above', 'below', 'to', 'from', 'up', 'down', 'in', 'out', 'on', 'off', 'over', 'under', 'again', 'further', 'then', 'once', 'here', 'there', 'when', 'where', 'why', 'how', 'all', 'any', 'both', 'each', 'few', 'more', 'most', 'other', 'some', 'such', 'no', 'nor', 'not', 'only', 'own', 'same', 'so', 'than', 'too', 'very', 's', 't', 'can', 'will', 'just', 'don', \"don't\", 'should', \"should've\", 'now', 'd', 'll', 'm', 'o', 're', 've', 'y', 'ain', 'aren', \"aren't\", 'couldn', \"couldn't\", 'didn', \"didn't\", 'doesn', \"doesn't\", 'hadn', \"hadn't\", 'hasn', \"hasn't\", 'haven', \"haven't\", 'isn', \"isn't\", 'ma', 'mightn', \"mightn't\", 'mustn', \"mustn't\", 'needn', \"needn't\", 'shan', \"shan't\", 'shouldn', \"shouldn't\", 'wasn', \"wasn't\", 'weren', \"weren't\", 'won', \"won't\", 'wouldn', \"wouldn't\"]"
   ]
  },
  {
   "cell_type": "code",
   "execution_count": 0,
   "metadata": {
    "application/vnd.databricks.v1+cell": {
     "cellMetadata": {
      "byteLimit": 2048000,
      "rowLimit": 10000
     },
     "inputWidgets": {},
     "nuid": "7a9fe055-ef21-4ad7-8f50-9844ef3cc262",
     "showTitle": false,
     "tableResultSettingsMap": {},
     "title": ""
    }
   },
   "outputs": [
    {
     "output_type": "execute_result",
     "data": {
      "text/plain": [
       "['Project', 'Gutenberg', 'eBook', 'Complete', 'Works']"
      ]
     },
     "execution_count": 26,
     "metadata": {},
     "output_type": "execute_result"
    }
   ],
   "source": [
    "splitRdd = baseRdd.flatMap(lambda x: x.split()).filter(lambda x: x.isalpha() and ((x.lower()) not in stop_words))\n",
    "splitRdd.take(5)"
   ]
  },
  {
   "cell_type": "code",
   "execution_count": 0,
   "metadata": {
    "application/vnd.databricks.v1+cell": {
     "cellMetadata": {
      "byteLimit": 2048000,
      "rowLimit": 10000
     },
     "inputWidgets": {},
     "nuid": "ab71b375-8842-44e2-9298-b8b7b8d75774",
     "showTitle": false,
     "tableResultSettingsMap": {},
     "title": ""
    }
   },
   "outputs": [
    {
     "output_type": "stream",
     "name": "stdout",
     "output_type": "stream",
     "text": [
      "No. of words : 305300\n"
     ]
    }
   ],
   "source": [
    "print(f'No. of words : {splitRdd.count()}')"
   ]
  },
  {
   "cell_type": "code",
   "execution_count": 0,
   "metadata": {
    "application/vnd.databricks.v1+cell": {
     "cellMetadata": {
      "byteLimit": 2048000,
      "rowLimit": 10000
     },
     "inputWidgets": {},
     "nuid": "2c418d75-e1c9-4619-8317-df97d68bbf03",
     "showTitle": false,
     "tableResultSettingsMap": {},
     "title": ""
    }
   },
   "outputs": [
    {
     "output_type": "execute_result",
     "data": {
      "text/plain": [
       "[('Project', 1), ('Gutenberg', 1), ('eBook', 1), ('Complete', 1), ('Works', 1)]"
      ]
     },
     "execution_count": 28,
     "metadata": {},
     "output_type": "execute_result"
    }
   ],
   "source": [
    "pairRdd = splitRdd.map(lambda x: (x,1))\n",
    "pairRdd.take(5)"
   ]
  },
  {
   "cell_type": "code",
   "execution_count": 0,
   "metadata": {
    "application/vnd.databricks.v1+cell": {
     "cellMetadata": {
      "byteLimit": 2048000,
      "rowLimit": 10000
     },
     "inputWidgets": {},
     "nuid": "dc9ab4b5-ce8d-4425-a8c8-fe3a049a92c1",
     "showTitle": false,
     "tableResultSettingsMap": {},
     "title": ""
    }
   },
   "outputs": [],
   "source": [
    "wordCountRdd = pairRdd.groupByKey().map(lambda x: (len(x[1]), x[0]))"
   ]
  },
  {
   "cell_type": "code",
   "execution_count": 0,
   "metadata": {
    "application/vnd.databricks.v1+cell": {
     "cellMetadata": {
      "byteLimit": 2048000,
      "rowLimit": 10000
     },
     "inputWidgets": {},
     "nuid": "02783ad4-475a-44f3-86c8-5395ebcabac7",
     "showTitle": false,
     "tableResultSettingsMap": {},
     "title": ""
    }
   },
   "outputs": [
    {
     "output_type": "execute_result",
     "data": {
      "text/plain": [
       "[(4498, 'thou'),\n",
       " (3906, 'thy'),\n",
       " (3246, 'shall'),\n",
       " (2267, 'Enter'),\n",
       " (2166, 'good')]"
      ]
     },
     "execution_count": 30,
     "metadata": {},
     "output_type": "execute_result"
    }
   ],
   "source": [
    "wordCountRdd.sortByKey(False).take(5)"
   ]
  }
 ],
 "metadata": {
  "application/vnd.databricks.v1+notebook": {
   "dashboards": [],
   "environmentMetadata": null,
   "language": "python",
   "notebookMetadata": {
    "pythonIndentUnit": 4
   },
   "notebookName": "rdd_actions",
   "widgets": {}
  },
  "kernelspec": {
   "display_name": "Python 3",
   "language": "python",
   "name": "python3"
  },
  "language_info": {
   "name": "python"
  }
 },
 "nbformat": 4,
 "nbformat_minor": 0
}