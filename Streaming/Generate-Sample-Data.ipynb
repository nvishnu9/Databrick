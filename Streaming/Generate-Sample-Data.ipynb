{
 "cells": [
  {
   "cell_type": "code",
   "execution_count": 0,
   "metadata": {
    "application/vnd.databricks.v1+cell": {
     "cellMetadata": {},
     "inputWidgets": {},
     "nuid": "52c16c1e-7387-4e13-a8b6-008bd28e463d",
     "showTitle": false,
     "tableResultSettingsMap": {},
     "title": ""
    }
   },
   "outputs": [],
   "source": [
    "import csv\n",
    "import uuid\n",
    "import random\n",
    "from datetime import datetime\n",
    "\n",
    "def generate_product_csv(path=\"/dataingestion/product\", num_records=5):\n",
    "    \"\"\"\n",
    "    Generates a CSV file with dummy product data and writes it to DBFS.\n",
    "    Each call creates a unique file.\n",
    "    \"\"\"\n",
    "    try:\n",
    "        dbutils.fs.mkdirs(path)\n",
    "    except Exception as e:\n",
    "        print(f\"Error creating directory: {e}\")\n",
    "        \n",
    "    # Define categories\n",
    "    categories = [\"Electronics\", \"Clothing\", \"Books\", \"Home\", \"Toys\"]\n",
    "\n",
    "    # Define unique filename\n",
    "    filename = f\"/dbfs{path}/data_{uuid.uuid4().hex}.csv\"\n",
    "\n",
    "    # Open the file and write CSV\n",
    "    with open(filename, mode=\"w\", newline=\"\") as file:\n",
    "        writer = csv.writer(file)\n",
    "        # Header\n",
    "        writer.writerow([\"product_id\", \"product_name\", \"category\", \"price\", \"created_at\"])\n",
    "        \n",
    "        # Rows\n",
    "        for _ in range(num_records):\n",
    "            writer.writerow([\n",
    "                str(uuid.uuid4()),\n",
    "                \"Product_\" + str(random.randint(100, 999)),\n",
    "                random.choice(categories),\n",
    "                round(random.uniform(10.0, 500.0), 2),\n",
    "                datetime.now().strftime(\"%Y-%m-%d %H:%M:%S\")\n",
    "            ])\n",
    "\n",
    "    print(f\"Generated {num_records} records at {filename}\")\n",
    "    # return filename\n"
   ]
  },
  {
   "cell_type": "code",
   "execution_count": 0,
   "metadata": {
    "application/vnd.databricks.v1+cell": {
     "cellMetadata": {},
     "inputWidgets": {},
     "nuid": "5839d5ed-eccf-486a-b42c-8f07feaae32a",
     "showTitle": false,
     "tableResultSettingsMap": {},
     "title": ""
    }
   },
   "outputs": [],
   "source": [
    "def generate_product_csv_new(path=\"/dataingestion/product\", num_records=5):\n",
    "    \"\"\"\n",
    "    Generates a CSV file with dummy product data and writes it to DBFS.\n",
    "    Each call creates a unique file.\n",
    "    This version includes 'currency' and multi-value 'tags' columns.\n",
    "    \"\"\"\n",
    "    # Define categories and currencies\n",
    "    categories = [\"Electronics\", \"Clothing\", \"Books\", \"Home\", \"Toys\"]\n",
    "    currencies = [\"USD\", \"EUR\"]\n",
    "    tags_pool = [\"sale\", \"new\", \"popular\", \"limited\", \"exclusive\"]\n",
    "\n",
    "    # Unique filename\n",
    "    filename = f\"/dbfs{path}/data_{uuid.uuid4().hex}.csv\"\n",
    "\n",
    "    # Open the file and write CSV\n",
    "    with open(filename, mode=\"w\", newline=\"\") as file:\n",
    "        writer = csv.writer(file)\n",
    "        # Header includes extra columns\n",
    "        writer.writerow([\n",
    "            \"product_id\",\n",
    "            \"product_name\",\n",
    "            \"category\",\n",
    "            \"price\",\n",
    "            \"created_at\",\n",
    "            \"currency\",\n",
    "            \"tags\"\n",
    "        ])\n",
    "        \n",
    "        # Rows\n",
    "        for _ in range(num_records):\n",
    "            # Randomly select 2-3 tags\n",
    "            selected_tags = \",\".join(random.sample(tags_pool, k=random.randint(2,3)))\n",
    "            writer.writerow([\n",
    "                str(uuid.uuid4()),\n",
    "                \"Product_\" + str(random.randint(100, 999)),\n",
    "                random.choice(categories),\n",
    "                round(random.uniform(10.0, 500.0), 2),\n",
    "                datetime.now().strftime(\"%Y-%m-%d %H:%M:%S\"),\n",
    "                random.choice(currencies),\n",
    "                selected_tags\n",
    "            ])\n",
    "\n",
    "    print(f\"Generated {num_records} records at {filename}\")\n"
   ]
  }
 ],
 "metadata": {
  "application/vnd.databricks.v1+notebook": {
   "computePreferences": null,
   "dashboards": [],
   "environmentMetadata": {
    "base_environment": "",
    "environment_version": "2"
   },
   "inputWidgetPreferences": null,
   "language": "python",
   "notebookMetadata": {
    "pythonIndentUnit": 4
   },
   "notebookName": "Generate-Sample-Data",
   "widgets": {}
  },
  "language_info": {
   "name": "python"
  }
 },
 "nbformat": 4,
 "nbformat_minor": 0
}
