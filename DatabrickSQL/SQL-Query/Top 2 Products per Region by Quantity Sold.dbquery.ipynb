{
 "cells": [
  {
   "cell_type": "code",
   "execution_count": 0,
   "metadata": {
    "application/vnd.databricks.v1+cell": {
     "cellMetadata": {},
     "inputWidgets": {},
     "nuid": "b70c6b35-e2a1-4d20-80a3-380e8f056e45",
     "showTitle": false,
     "tableResultSettingsMap": {},
     "title": ""
    }
   },
   "outputs": [],
   "source": [
    "WITH sales_with_details AS (\n",
    "  SELECT\n",
    "    s.sale_id,\n",
    "    s.product_id,\n",
    "    s.customer_id,\n",
    "    s.quantity,\n",
    "    c.region,\n",
    "    p.product_name\n",
    "  FROM sales s\n",
    "  JOIN customers c\n",
    "    ON s.customer_id = c.customer_id\n",
    "  JOIN products p\n",
    "    ON s.product_id = p.product_id\n",
    "),\n",
    "aggregated_sales AS (\n",
    "  SELECT\n",
    "    region,\n",
    "    product_name,\n",
    "    SUM(quantity) AS total_quantity\n",
    "  FROM sales_with_details\n",
    "  GROUP BY region, product_name\n",
    "),\n",
    "ranked_products AS (\n",
    "  SELECT\n",
    "    region,\n",
    "    product_name,\n",
    "    total_quantity,\n",
    "    dense_rank() OVER (\n",
    "      PARTITION BY region\n",
    "      ORDER BY total_quantity DESC\n",
    "    ) AS rank_in_region\n",
    "  FROM aggregated_sales\n",
    ")\n",
    "SELECT\n",
    "  region,\n",
    "  product_name,\n",
    "  total_quantity,\n",
    "  rank_in_region\n",
    "FROM ranked_products\n",
    "WHERE total_quantity > 0 and rank_in_region < 3;\n"
   ]
  }
 ],
 "metadata": {
  "application/vnd.databricks.v1+notebook": {
   "computePreferences": null,
   "dashboards": [],
   "environmentMetadata": null,
   "inputWidgetPreferences": null,
   "language": "sql",
   "notebookMetadata": {
    "sqlQueryOptions": {
     "applyAutoLimit": true,
     "catalog": "hive_metastore",
     "schema": "default"
    }
   },
   "notebookName": "Top 2 Products per Region by Quantity Sold.dbquery.ipynb",
   "widgets": {}
  },
  "language_info": {
   "name": "sql"
  }
 },
 "nbformat": 4,
 "nbformat_minor": 0
}
