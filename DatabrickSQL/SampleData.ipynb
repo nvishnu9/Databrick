{
 "cells": [
  {
   "cell_type": "code",
   "execution_count": 0,
   "metadata": {
    "application/vnd.databricks.v1+cell": {
     "cellMetadata": {},
     "inputWidgets": {},
     "nuid": "295b43a1-94db-4f86-b23b-830d901814e4",
     "showTitle": false,
     "tableResultSettingsMap": {},
     "title": ""
    }
   },
   "outputs": [],
   "source": [
    "USE CATALOG `hive_metastore`;\n",
    "USE SCHEMA `default`;"
   ]
  },
  {
   "cell_type": "code",
   "execution_count": 0,
   "metadata": {
    "application/vnd.databricks.v1+cell": {
     "cellMetadata": {},
     "inputWidgets": {},
     "nuid": "05418c56-f2a9-4a55-8b30-674d76e06c1c",
     "showTitle": false,
     "tableResultSettingsMap": {},
     "title": ""
    }
   },
   "outputs": [],
   "source": [
    "DROP TABLE IF EXISTS products;\n",
    "CREATE TABLE products (\n",
    "  product_id INT,\n",
    "  product_name STRING,\n",
    "  category STRING\n",
    ");\n",
    "\n",
    "INSERT INTO products VALUES\n",
    "(1, 'Laptop Pro', 'Electronics'),\n",
    "(2, 'Smartphone X', 'Electronics'),\n",
    "(3, 'Desk Chair', 'Furniture'),\n",
    "(4, 'Office Desk', 'Furniture'),\n",
    "(5, 'Wireless Mouse', 'Accessories');"
   ]
  },
  {
   "cell_type": "code",
   "execution_count": 0,
   "metadata": {
    "application/vnd.databricks.v1+cell": {
     "cellMetadata": {},
     "inputWidgets": {},
     "nuid": "743f2371-7d9a-443b-9781-51177bf76040",
     "showTitle": false,
     "tableResultSettingsMap": {},
     "title": ""
    }
   },
   "outputs": [],
   "source": [
    "DROP TABLE IF EXISTS customers;\n",
    "CREATE TABLE customers (\n",
    "  customer_id INT,\n",
    "  customer_name STRING,\n",
    "  region STRING\n",
    ");\n",
    "\n",
    "INSERT INTO customers VALUES\n",
    "(1, 'Alice Johnson', 'North'),\n",
    "(2, 'Bob Smith', 'South'),\n",
    "(3, 'Charlie Lee', 'East'),\n",
    "(4, 'Diana Prince', 'West'),\n",
    "(5, 'Ethan Brown', 'North');\n",
    "\n"
   ]
  },
  {
   "cell_type": "code",
   "execution_count": 0,
   "metadata": {
    "application/vnd.databricks.v1+cell": {
     "cellMetadata": {},
     "inputWidgets": {},
     "nuid": "52e4eeeb-7420-4de7-8802-63dbe339cdd7",
     "showTitle": false,
     "tableResultSettingsMap": {},
     "title": ""
    }
   },
   "outputs": [],
   "source": [
    "DROP TABLE IF EXISTS sales;\n",
    "CREATE TABLE sales (\n",
    "  sale_id INT,\n",
    "  product_id INT,\n",
    "  customer_id INT,\n",
    "  quantity INT,\n",
    "  unit_price DOUBLE,\n",
    "  sale_date DATE\n",
    ");\n",
    "\n",
    "INSERT INTO sales VALUES\n",
    "(101, 1, 1, 3, 1200.00, '2023-07-01'),\n",
    "(102, 2, 2, 5, 800.00, '2023-07-02'),\n",
    "(103, 1, 3, 2, 1150.00, '2023-07-03'),\n",
    "(104, 3, 4, 7, 150.00, '2023-07-04'),\n",
    "(105, 4, 5, 1, 300.00, '2023-07-05'),\n",
    "(106, 2, 1, 3, 790.00, '2023-07-06'),\n",
    "(107, 5, 2, 10, 50.00, '2023-07-07'),\n",
    "(108, 3, 3, 4, 155.00, '2023-07-08'),\n",
    "(109, 4, 4, 2, 310.00, '2023-07-09'),\n",
    "(110, 5, 5, 6, 55.00, '2023-07-10');"
   ]
  }
 ],
 "metadata": {
  "application/vnd.databricks.v1+notebook": {
   "computePreferences": null,
   "dashboards": [],
   "environmentMetadata": {
    "base_environment": "",
    "environment_version": "2"
   },
   "inputWidgetPreferences": null,
   "language": "sql",
   "notebookMetadata": {
    "pythonIndentUnit": 4
   },
   "notebookName": "SampleData",
   "widgets": {}
  },
  "language_info": {
   "name": "sql"
  }
 },
 "nbformat": 4,
 "nbformat_minor": 0
}
