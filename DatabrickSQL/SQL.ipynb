{
 "cells": [
  {
   "cell_type": "markdown",
   "metadata": {
    "application/vnd.databricks.v1+cell": {
     "cellMetadata": {},
     "inputWidgets": {},
     "nuid": "78b6f0d0-6a5b-4602-b579-4340376d8dfa",
     "showTitle": false,
     "tableResultSettingsMap": {},
     "title": ""
    }
   },
   "source": [
    "## Exploring Databricks SQL\n",
    "Databricks SQL is a core capability of the Databricks platform. It simplifies querying, visualizing, and alerting on data, empowering data analysts and business intelligence teams to uncover insights and drive value.\n",
    "\n",
    "In this section, we'll explore the components of Databricks SQL, including SQL warehouses, dashboards, and alerts."
   ]
  },
  {
   "cell_type": "markdown",
   "metadata": {
    "application/vnd.databricks.v1+cell": {
     "cellMetadata": {},
     "inputWidgets": {},
     "nuid": "f7b904f3-66f6-4478-80ab-f4f5d948e44a",
     "showTitle": false,
     "tableResultSettingsMap": {},
     "title": ""
    }
   },
   "source": [
    "### What Is Databricks SQL?\n",
    "\n",
    "Databricks SQL (DBSQL) is a modern data warehousing solution designed for scalable business intelligence workloads. It provides a unified environment to:\n",
    "\n",
    "- Execute and manage SQL queries\n",
    "- Build interactive dashboards\n",
    "- Create data-driven alerts\n",
    "- Maintain consistent governance across your data assets\n",
    "\n",
    "With Databricks SQL, teams can efficiently analyze large datasets, share insights, and make informed decisions."
   ]
  },
  {
   "cell_type": "markdown",
   "metadata": {
    "application/vnd.databricks.v1+cell": {
     "cellMetadata": {},
     "inputWidgets": {},
     "nuid": "087aaff6-2a9d-4b10-9322-ba9737eed470",
     "showTitle": false,
     "tableResultSettingsMap": {},
     "title": ""
    }
   },
   "source": [
    "### Key Components of Databricks SQL\n",
    "Databricks SQL includes several essential tools:\n",
    "\n",
    "- **SQL Editor**<br>\n",
    "  An intuitive interface for writing and executing SQL queries.\n",
    "\n",
    "- **Queries**<br>\n",
    "  A central repository for storing and organizing frequently used queries.\n",
    "\n",
    "- **Dashboards**<br>\n",
    "  Tools to create interactive, shareable data visualizations.\n",
    "\n",
    "- **Alerts**<br>\n",
    "  Custom notifications triggered when data meets specific conditions.\n",
    "\n",
    "- **Query History**<br>\n",
    "  A log of all executed queries, supporting auditing and tracking.\n",
    "\n",
    "- **SQL Warehouses**<br>\n",
    "  Scalable compute clusters optimized for SQL workloads."
   ]
  },
  {
   "cell_type": "markdown",
   "metadata": {
    "application/vnd.databricks.v1+cell": {
     "cellMetadata": {},
     "inputWidgets": {},
     "nuid": "2829155d-2251-4de5-9974-e38fd89f4e58",
     "showTitle": false,
     "tableResultSettingsMap": {},
     "title": ""
    }
   },
   "source": [
    "### Creating SQL Warehouses\n",
    "SQL Warehouses are the compute backbone for Databricks SQL.\n",
    "They are Spark-based clusters enhanced by the Photon engine, delivering:\n",
    "\n",
    "- High performance for SQL queries\n",
    "- Increased concurrency compared to standard clusters\n",
    "\n",
    "This optimization allows you to execute queries and render dashboards at scale."
   ]
  },
  {
   "cell_type": "markdown",
   "metadata": {
    "application/vnd.databricks.v1+cell": {
     "cellMetadata": {},
     "inputWidgets": {},
     "nuid": "5c68136b-1b89-4143-b098-2fc414887b8c",
     "showTitle": false,
     "tableResultSettingsMap": {},
     "title": ""
    }
   },
   "source": [
    "### SQL Endpoints\n",
    "Each SQL Warehouse provides SQL endpoints—connection points that external BI tools and SQL clients can use to access lakehouse data.\n",
    "\n",
    ">**Pointer**: To retrieve connection details, open the Connection details tab within your SQL Warehouse settings."
   ]
  },
  {
   "cell_type": "markdown",
   "metadata": {
    "application/vnd.databricks.v1+cell": {
     "cellMetadata": {},
     "inputWidgets": {},
     "nuid": "28e3df8e-4888-4260-a923-ead6e2ca7344",
     "showTitle": false,
     "tableResultSettingsMap": {},
     "title": ""
    }
   },
   "source": [
    "### Designing Dashboards\n",
    "Dashboards help you visualize query results in an interactive format. They make complex data easier to understand and share.\n",
    "\n",
    "**Creating a New Dashboard**\n",
    "1. In the workspace, click Create dashboard (upper-right corner).\n",
    "1. The dashboard editor opens, which includes:\n",
    "\n",
    "    - **Canvas Pane**<br>\n",
    "      Design your dashboard by dragging and dropping visual elements like charts, graphs, and tables.\n",
    "\n",
    "    - **Data Pane**<br>\n",
    "      Define the source datasets for your visualizations.\n",
    "\n",
    "**Note**: Your datasets are what drive the dashboard’s insights—be sure to configure them carefully."
   ]
  },
  {
   "cell_type": "markdown",
   "metadata": {
    "application/vnd.databricks.v1+cell": {
     "cellMetadata": {},
     "inputWidgets": {},
     "nuid": "cc1e9ac9-7b39-4c02-adfe-d7dd20d19c82",
     "showTitle": false,
     "tableResultSettingsMap": {},
     "title": ""
    }
   },
   "source": [
    "### Creating Data Sources\n",
    "In the **Data Pane**, specify the datasets that will feed into your dashboard visualizations. This step is essential to building functional, accurate dashboards."
   ]
  },
  {
   "cell_type": "code",
   "execution_count": 0,
   "metadata": {
    "application/vnd.databricks.v1+cell": {
     "cellMetadata": {},
     "inputWidgets": {},
     "nuid": "57e321b4-1596-42ce-93c3-461c11b59f63",
     "showTitle": false,
     "tableResultSettingsMap": {},
     "title": ""
    }
   },
   "outputs": [],
   "source": [
    "%run ./SampleData"
   ]
  },
  {
   "cell_type": "markdown",
   "metadata": {
    "application/vnd.databricks.v1+cell": {
     "cellMetadata": {},
     "inputWidgets": {},
     "nuid": "9f93516d-23eb-4261-ac48-ba8e4b9cb65c",
     "showTitle": false,
     "tableResultSettingsMap": {},
     "title": ""
    }
   },
   "source": [
    "### Top 2 Products per Region by Quantity Sold\n",
    "\n",
    "1. In Data Pan, Click **+ Create From SQL**\n",
    "1. Double click on Untitle Dataset and rename to `Top 2 Products per Region by Quantity Sold`\n",
    "1. In the Query area enter the following query"
   ]
  },
  {
   "cell_type": "markdown",
   "metadata": {
    "application/vnd.databricks.v1+cell": {
     "cellMetadata": {},
     "inputWidgets": {},
     "nuid": "1bb55463-a0c3-4988-9ce7-b504476fc4d3",
     "showTitle": false,
     "tableResultSettingsMap": {},
     "title": ""
    }
   },
   "source": [
    "```\n",
    "WITH sales_with_details AS (\n",
    "  SELECT\n",
    "    s.sale_id,\n",
    "    s.product_id,\n",
    "    s.customer_id,\n",
    "    s.quantity,\n",
    "    c.region,\n",
    "    p.product_name\n",
    "  FROM sales s\n",
    "  JOIN customers c\n",
    "    ON s.customer_id = c.customer_id\n",
    "  JOIN products p\n",
    "    ON s.product_id = p.product_id\n",
    "),\n",
    "aggregated_sales AS (\n",
    "  SELECT\n",
    "    region,\n",
    "    product_name,\n",
    "    SUM(quantity) AS total_quantity\n",
    "  FROM sales_with_details\n",
    "  GROUP BY region, product_name\n",
    "),\n",
    "ranked_products AS (\n",
    "  SELECT\n",
    "    region,\n",
    "    product_name,\n",
    "    total_quantity,\n",
    "    dense_rank() OVER (\n",
    "      PARTITION BY region\n",
    "      ORDER BY total_quantity DESC\n",
    "    ) AS rank_in_region\n",
    "  FROM aggregated_sales\n",
    ")\n",
    "SELECT\n",
    "  region,\n",
    "  product_name,\n",
    "  total_quantity,\n",
    "  rank_in_region\n",
    "FROM ranked_products\n",
    "WHERE total_quantity > 0 and rank_in_region < 3;\n",
    "```"
   ]
  },
  {
   "cell_type": "markdown",
   "metadata": {
    "application/vnd.databricks.v1+cell": {
     "cellMetadata": {},
     "inputWidgets": {},
     "nuid": "98e366d4-eb2d-453c-b35f-58014633f643",
     "showTitle": false,
     "tableResultSettingsMap": {},
     "title": ""
    }
   },
   "source": [
    "Create a dashboard visual: Top Products in Each Region"
   ]
  },
  {
   "cell_type": "markdown",
   "metadata": {
    "application/vnd.databricks.v1+cell": {
     "cellMetadata": {},
     "inputWidgets": {},
     "nuid": "6707b011-7609-42aa-b9dd-22bc83f71cb1",
     "showTitle": false,
     "tableResultSettingsMap": {},
     "title": ""
    }
   },
   "source": [
    "### Product Sales Distribution\n",
    "1. In Data Pan, Click **+ Create From SQL**\n",
    "1. Double click on Untitle Dataset and rename to `Product Sales Distribution`\n",
    "1. In the Query area enter the following query and execute\n",
    "\n",
    "    ```\n",
    "    SELECT s.product_id, c.customer_id, s.quantity, s.unit_price, s.sale_date, c.region\n",
    "    FROM sales AS s\n",
    "    JOIN customers AS c\n",
    "    ON s.customer_id = c.customer_id\n",
    "    ```\n",
    "\n",
    "1. Create a notebook visual. (Bar Chart for Total Sales by Region)"
   ]
  },
  {
   "cell_type": "markdown",
   "metadata": {
    "application/vnd.databricks.v1+cell": {
     "cellMetadata": {},
     "inputWidgets": {},
     "nuid": "5a64bb9c-6c5e-4df0-9d67-cce52e34dade",
     "showTitle": false,
     "tableResultSettingsMap": {},
     "title": ""
    }
   },
   "source": [
    "### Managing SQL Queries\n",
    "Databricks SQL offers a flexible approach to creating and managing queries:\n",
    "\n",
    "- Write ad hoc SQL statements\n",
    "- Save queries in your workspace\n",
    "- Schedule automatic refreshes\n",
    "- Set up alerts based on query results\n",
    "\n",
    "> **Pointer**: To get started, open the SQL Editor tab in the sidebar. This is your main environment for query development and scheduling."
   ]
  },
  {
   "cell_type": "markdown",
   "metadata": {
    "application/vnd.databricks.v1+cell": {
     "cellMetadata": {},
     "inputWidgets": {},
     "nuid": "838ef57e-bfe5-45cf-9c63-8d5c08f26ffa",
     "showTitle": false,
     "tableResultSettingsMap": {},
     "title": ""
    }
   },
   "source": [
    "### Total Sales by Region\n",
    "1. Select **Queries** from the left menu, click the **Create Query** button in the top rigth corner.\n",
    "1. In the Query area enter the following query and execute\n",
    "\n",
    "    ```\n",
    "    SELECT\n",
    "      c.region,\n",
    "      SUM(s.quantity * s.unit_price) AS total_sales\n",
    "    FROM sales s\n",
    "    JOIN customers c\n",
    "      ON s.customer_id = c.customer_id\n",
    "    GROUP BY c.region;\n",
    "    ```\n",
    "\n",
    "1. Create a notebook visual. (Bar Chart for Total Sales by Region)\n",
    "1. Add Notebook visual to Dashboard\n",
    "1. Select **Add to Dashboard** from (&#x22ee;) 3 vertical dot.\n",
    "    - Select **Add to existing dashboard**\n",
    "    - From the drop down select existing dahsboard name.\n",
    "    - Select Visual only, unselect result table.\n",
    "    - Click, **Create**.\n",
    "    - When asked specifically the location to save the query."
   ]
  },
  {
   "cell_type": "markdown",
   "metadata": {
    "application/vnd.databricks.v1+cell": {
     "cellMetadata": {},
     "inputWidgets": {},
     "nuid": "831e022c-b990-42a6-9bfa-12287f17546b",
     "showTitle": false,
     "tableResultSettingsMap": {},
     "title": ""
    }
   },
   "source": [
    "### Average Sale Value per Region\n",
    "\n",
    "1. Select **Queries** from the left menu, click the **Create Query** button in the top rigth corner.\n",
    "1. Enter the following query and run\n",
    "\n",
    "    ```\n",
    "    SELECT\n",
    "      c.region,\n",
    "      ROUND(AVG(s.quantity * s.unit_price),2) AS avg_sale_value\n",
    "    FROM sales s\n",
    "    JOIN customers c\n",
    "      ON s.customer_id = c.customer_id\n",
    "    GROUP BY c.region;\n",
    "    ```\n",
    "1. Select **Add to Dashboard** from (&#x22ee;) 3 vertical dot.\n",
    "    - Select **Add to existing dashboard**\n",
    "    - From the drop down select existing dahsboard name.\n",
    "    - Click, **Create**.\n",
    "    - When asked specifically the location to save the query."
   ]
  },
  {
   "cell_type": "markdown",
   "metadata": {
    "application/vnd.databricks.v1+cell": {
     "cellMetadata": {},
     "inputWidgets": {},
     "nuid": "5faeecc8-c01c-429d-b5a5-e1ceb7354d9b",
     "showTitle": false,
     "tableResultSettingsMap": {},
     "title": ""
    }
   },
   "source": [
    "### Setting Up Alerts\n",
    "Alerts enable proactive monitoring of your data.\n",
    "You can create rules to automatically run queries on a schedule, evaluate conditions, and send notifications when results meet your criteria.\n",
    "\n",
    "This capability ensures you stay informed about critical changes without manually checking dashboards."
   ]
  }
 ],
 "metadata": {
  "application/vnd.databricks.v1+notebook": {
   "computePreferences": null,
   "dashboards": [],
   "environmentMetadata": {
    "base_environment": "",
    "environment_version": "2"
   },
   "inputWidgetPreferences": null,
   "language": "sql",
   "notebookMetadata": {
    "pythonIndentUnit": 4
   },
   "notebookName": "SQL",
   "widgets": {}
  },
  "language_info": {
   "name": "sql"
  }
 },
 "nbformat": 4,
 "nbformat_minor": 0
}
