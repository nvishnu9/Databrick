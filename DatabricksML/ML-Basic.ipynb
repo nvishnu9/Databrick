{
 "cells": [
  {
   "cell_type": "markdown",
   "metadata": {
    "application/vnd.databricks.v1+cell": {
     "cellMetadata": {},
     "inputWidgets": {},
     "nuid": "65e6475f-5afc-42cd-b3d6-f0b31fd92293",
     "showTitle": false,
     "tableResultSettingsMap": {},
     "title": ""
    }
   },
   "source": [
    "## Get started with machine learning in Azure Databricks"
   ]
  },
  {
   "cell_type": "markdown",
   "metadata": {
    "application/vnd.databricks.v1+cell": {
     "cellMetadata": {},
     "inputWidgets": {},
     "nuid": "1a201f93-6b20-4b6d-8255-203265016687",
     "showTitle": false,
     "tableResultSettingsMap": {},
     "title": ""
    }
   },
   "source": [
    "### Principles of Machine Learning\n",
    "Machine learning is a way of programming that builds prediction models. Unlike traditional programming, which spells out exact steps, machine learning uses algorithms to learn the link between input features and the output label by studying lots of data.\n",
    "\n",
    "Simply put, a machine learning model is like a function that takes input features `(x)` and returns a prediction `(y)`, written as `y = f(x)`.\n",
    "\n",
    "The algorithm decides how the model calculates the label from the input."
   ]
  },
  {
   "cell_type": "markdown",
   "metadata": {
    "application/vnd.databricks.v1+cell": {
     "cellMetadata": {},
     "inputWidgets": {},
     "nuid": "cd5a0d6b-307a-44cf-9517-5706a60807f6",
     "showTitle": false,
     "tableResultSettingsMap": {},
     "title": ""
    }
   },
   "source": [
    "### Machine Learning in Azure Databricks\n",
    "Azure Databricks offers a cloud-based workspace for developing machine learning models.\n",
    "\n",
    "Here, data scientists prepare and analyze data, while machine learning engineers deploy and maintain the models.\n",
    "\n",
    "Databricks lets you handle everything—data loading, cleaning, training, testing, and managing models—all in one place."
   ]
  },
  {
   "cell_type": "markdown",
   "metadata": {
    "application/vnd.databricks.v1+cell": {
     "cellMetadata": {},
     "inputWidgets": {},
     "nuid": "8ed8adca-04e3-400c-b2ec-5350f40252a9",
     "showTitle": false,
     "tableResultSettingsMap": {},
     "title": ""
    }
   },
   "source": [
    "### Preparing Data for Machine Learning\n",
    "Data preparation varies by project, but you usually need to fix these common issues:\n",
    "\n",
    "- **Incomplete data**: Some fields are missing (NULL). You can fill in missing values (e.g., using the mean) or drop incomplete rows.\n",
    "- **Errors**: Data entry mistakes happen and need careful checking with queries and visualizations to spot unusual values.\n",
    "- **Outliers**: Extreme values can skew the model. You might remove them or replace them with a capped value.\n",
    "- **Incorrect data types**: Numeric data may be wrongly stored as text. You must fix types to match the data.\n",
    "- **Unbalanced data**: If some categories appear too often, the model can become biased. You can balance the data by duplicating rare cases or removing excess ones."
   ]
  },
  {
   "cell_type": "markdown",
   "metadata": {
    "application/vnd.databricks.v1+cell": {
     "cellMetadata": {},
     "inputWidgets": {},
     "nuid": "61c4bf0d-ee2d-4d44-a188-5db4acc82038",
     "showTitle": false,
     "tableResultSettingsMap": {},
     "title": ""
    }
   },
   "source": [
    "### Feature Engineering\n",
    "Feature engineering means improving or creating features to help the model learn better. Common tasks include:\n",
    "\n",
    "- **Deriving new features**: Create new columns from existing ones, like extracting day_of_week from a date.\n",
    "- **Discretizing numeric features**: Group numbers into categories (e.g., low, medium, high).\n",
    "- **Encoding categorical features**: Convert text labels into numbers or one-hot encoded columns.\n",
    "- **Scaling numeric values**: Normalize numbers to a similar range so that no feature dominates due to scale."
   ]
  },
  {
   "cell_type": "markdown",
   "metadata": {
    "application/vnd.databricks.v1+cell": {
     "cellMetadata": {},
     "inputWidgets": {},
     "nuid": "03153311-bb33-48af-a9c3-25f4955311bc",
     "showTitle": false,
     "tableResultSettingsMap": {},
     "title": ""
    }
   },
   "source": [
    "### Training a Machine Learning Model\n",
    "- Training a model means adjusting the algorithm so it predicts accurately.\n",
    "- Although this idea is simple, making a model that works well on new data takes many iterations of training and testing with different algorithms and settings."
   ]
  },
  {
   "cell_type": "markdown",
   "metadata": {
    "application/vnd.databricks.v1+cell": {
     "cellMetadata": {},
     "inputWidgets": {},
     "nuid": "8ebf518d-ca97-4fe4-a7fe-c293c8e7d757",
     "showTitle": false,
     "tableResultSettingsMap": {},
     "title": ""
    }
   },
   "source": [
    "### Training and Validation Data\n",
    "To test how well a model generalizes, you split data into training and validation sets (commonly 70% train, 30% validate).\n",
    "\n",
    "Models that do well on training data but fail on new data are overfitted."
   ]
  },
  {
   "cell_type": "markdown",
   "metadata": {
    "application/vnd.databricks.v1+cell": {
     "cellMetadata": {},
     "inputWidgets": {},
     "nuid": "dbbd4afa-251a-4cf6-b665-6f95b466a284",
     "showTitle": false,
     "tableResultSettingsMap": {},
     "title": ""
    }
   },
   "source": [
    "### Machine Learning Algorithms\n",
    "Algorithms differ based on the problem:\n",
    "- \n",
    "- **Classification algorithms**: Predict categories (e.g., logistic regression, decision trees, ensembles).\n",
    "- **Regression algorithms**: Predict numeric values.\n",
    "- **Clustering algorithms**: Group similar data without labels.\n",
    "\n",
    "Choosing the right algorithm often requires trial and error."
   ]
  },
  {
   "cell_type": "markdown",
   "metadata": {
    "application/vnd.databricks.v1+cell": {
     "cellMetadata": {},
     "inputWidgets": {},
     "nuid": "e809d8d0-1d22-4859-bf50-384f004798b8",
     "showTitle": false,
     "tableResultSettingsMap": {},
     "title": ""
    }
   },
   "source": [
    "### Hyperparameters\n",
    "Besides data inputs, algorithms have hyperparameters you can adjust to control how they train (like randomness, iterations, and tree depth).\n",
    "\n",
    "These settings affect accuracy and training time"
   ]
  },
  {
   "cell_type": "markdown",
   "metadata": {
    "application/vnd.databricks.v1+cell": {
     "cellMetadata": {},
     "inputWidgets": {},
     "nuid": "475f8370-14c2-4501-b018-41325b70a697",
     "showTitle": false,
     "tableResultSettingsMap": {},
     "title": ""
    }
   },
   "source": [
    "### Fitting a Model\n",
    "- Fitting means training the algorithm on your data.\n",
    "- In supervised learning, you fit based on known labels.\n",
    "- In unsupervised learning, you fit to group data without labels."
   ]
  },
  {
   "cell_type": "markdown",
   "metadata": {
    "application/vnd.databricks.v1+cell": {
     "cellMetadata": {},
     "inputWidgets": {},
     "nuid": "bccea3b0-0275-494e-8dab-e6b7cfef5a4f",
     "showTitle": false,
     "tableResultSettingsMap": {},
     "title": ""
    }
   },
   "source": [
    "### Validating a Machine Learning Model\n",
    "**Regression** models predict numbers and are evaluated with:\n",
    "\n",
    "- **MSE** (Mean Squared Error): Average of squared prediction errors.\n",
    "- **RMSE** (Root Mean Squared Error): The square root of MSE, in the same units as the label.\n",
    "- **R²** (Coefficient of Determination): Measures how much variance is explained by the model (closer to 1 is better).\n",
    "\n",
    "**Classification** models predict categories and are evaluated with:\n",
    "\n",
    "- **Accuracy**: % of correct predictions.\n",
    "- **Precision**: Correct positive predictions out of all predicted positives.\n",
    "- **Recall**: Correct positive predictions out of all actual positives.\n",
    "- **F1 Score**: Balance between precision and recall.\n",
    "\n",
    "Clustering models use metrics like Silhouette score, which shows how well data points are grouped."
   ]
  }
 ],
 "metadata": {
  "application/vnd.databricks.v1+notebook": {
   "computePreferences": null,
   "dashboards": [],
   "environmentMetadata": {
    "base_environment": "",
    "environment_version": "2"
   },
   "inputWidgetPreferences": null,
   "language": "python",
   "notebookMetadata": {
    "pythonIndentUnit": 4
   },
   "notebookName": "ML-Basic",
   "widgets": {}
  },
  "language_info": {
   "name": "python"
  }
 },
 "nbformat": 4,
 "nbformat_minor": 0
}
