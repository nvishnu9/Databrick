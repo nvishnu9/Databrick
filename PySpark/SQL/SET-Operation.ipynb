{
 "cells": [
  {
   "cell_type": "markdown",
   "metadata": {
    "application/vnd.databricks.v1+cell": {
     "cellMetadata": {},
     "inputWidgets": {},
     "nuid": "382b1cb6-9737-45bd-b9d1-690eda69e353",
     "showTitle": false,
     "tableResultSettingsMap": {},
     "title": ""
    }
   },
   "source": [
    "## Set Operations in Spark SQL\n",
    "\n",
    "Just like in traditional relational databases, Spark SQL offers several set operations to compare and combine datasets. These operations include `UNION`, `INTERSECT`, and `EXCEPT` (also referred to as `MINUS`).\n",
    "\n",
    "- **UNION**\n",
    "\n",
    "  The `UNION` operation merges two datasets by appending rows vertically. It comes in two forms:\n",
    "\n",
    "  - `UNION DISTINCT` (or simply UNION): eliminates duplicate rows in the result.\n",
    "  - `UNION ALL`: retains all rows, including duplicates, from both datasets.\n",
    "\n",
    "- **INTERSECT**\n",
    "\n",
    "  The `INTERSECT` operation returns only the rows that exist in both datasets. This is commonly used to find overlapping records.\n",
    "\n",
    "- **EXCEPT (MINUS)**\n",
    "\n",
    "  The `EXCEPT` operation retrieves rows from the first dataset that do not appear in the second dataset.\n",
    "\n",
    "- **PIVOT**\n",
    "\n",
    "  Spark SQL also enables reshaping data by using the `PIVOT` clause, allowing you to transform rows into columns for easier analysis."
   ]
  },
  {
   "cell_type": "code",
   "execution_count": 0,
   "metadata": {
    "application/vnd.databricks.v1+cell": {
     "cellMetadata": {
      "byteLimit": 2048000,
      "rowLimit": 10000
     },
     "inputWidgets": {},
     "nuid": "6cd0bb7e-6f20-42b0-a36d-42b5afad5150",
     "showTitle": false,
     "tableResultSettingsMap": {},
     "title": ""
    }
   },
   "outputs": [],
   "source": [
    "CREATE OR REPLACE TEMP VIEW customers_january AS\n",
    "SELECT *\n",
    "FROM VALUES\n",
    "  (1, 'Alice'),\n",
    "  (2, 'Bob'),\n",
    "  (3, 'Charlie'),\n",
    "  (4, 'David') AS t(customer_id, customer_name);\n",
    "\n",
    "\n",
    "-- ------------------------------------------\n",
    "CREATE OR REPLACE TEMP VIEW customers_february AS\n",
    "SELECT * \n",
    "FROM VALUES\n",
    "  (3, 'Charlie'),\n",
    "  (4, 'David'),\n",
    "  (5, 'Eve'),\n",
    "  (6, 'Frank') AS t(customer_id, customer_name);"
   ]
  },
  {
   "cell_type": "markdown",
   "metadata": {
    "application/vnd.databricks.v1+cell": {
     "cellMetadata": {},
     "inputWidgets": {},
     "nuid": "0a5f2fb1-6add-49b4-ac38-d3192fee6419",
     "showTitle": false,
     "tableResultSettingsMap": {},
     "title": ""
    }
   },
   "source": [
    "### UNION ALL - Combine all customers"
   ]
  },
  {
   "cell_type": "code",
   "execution_count": 0,
   "metadata": {
    "application/vnd.databricks.v1+cell": {
     "cellMetadata": {
      "byteLimit": 2048000,
      "rowLimit": 10000
     },
     "inputWidgets": {},
     "nuid": "f72b1f64-46fe-4128-ad29-2bb193756728",
     "showTitle": false,
     "tableResultSettingsMap": {},
     "title": ""
    }
   },
   "outputs": [],
   "source": [
    "SELECT * FROM customers_january\n",
    "UNION ALL\n",
    "SELECT * FROM customers_february;"
   ]
  },
  {
   "cell_type": "markdown",
   "metadata": {
    "application/vnd.databricks.v1+cell": {
     "cellMetadata": {},
     "inputWidgets": {},
     "nuid": "e482efd3-20a1-4515-94ff-73da1032b808",
     "showTitle": false,
     "tableResultSettingsMap": {},
     "title": ""
    }
   },
   "source": [
    "### UNION DISTINCT - Combine and remove duplicates"
   ]
  },
  {
   "cell_type": "code",
   "execution_count": 0,
   "metadata": {
    "application/vnd.databricks.v1+cell": {
     "cellMetadata": {
      "byteLimit": 2048000,
      "rowLimit": 10000
     },
     "inputWidgets": {},
     "nuid": "ea42393b-fae3-4dde-a532-2227c982ca18",
     "showTitle": false,
     "tableResultSettingsMap": {},
     "title": ""
    }
   },
   "outputs": [],
   "source": [
    "SELECT * FROM customers_january\n",
    "UNION\n",
    "SELECT * FROM customers_february;"
   ]
  },
  {
   "cell_type": "markdown",
   "metadata": {
    "application/vnd.databricks.v1+cell": {
     "cellMetadata": {},
     "inputWidgets": {},
     "nuid": "a67a5379-dadc-41c7-ba42-106957176e37",
     "showTitle": false,
     "tableResultSettingsMap": {},
     "title": ""
    }
   },
   "source": [
    "### INTERSECT - Customers present in both months"
   ]
  },
  {
   "cell_type": "code",
   "execution_count": 0,
   "metadata": {
    "application/vnd.databricks.v1+cell": {
     "cellMetadata": {
      "byteLimit": 2048000,
      "rowLimit": 10000
     },
     "inputWidgets": {},
     "nuid": "856e76f3-519d-47df-a0ac-fd6e28277edc",
     "showTitle": false,
     "tableResultSettingsMap": {},
     "title": ""
    }
   },
   "outputs": [],
   "source": [
    "SELECT * FROM customers_january\n",
    "INTERSECT\n",
    "SELECT * FROM customers_february;"
   ]
  },
  {
   "cell_type": "markdown",
   "metadata": {
    "application/vnd.databricks.v1+cell": {
     "cellMetadata": {},
     "inputWidgets": {},
     "nuid": "7c2a8cc7-ef30-4159-844f-c4f77397d799",
     "showTitle": false,
     "tableResultSettingsMap": {},
     "title": ""
    }
   },
   "source": [
    "### EXCEPT - Customers only in January"
   ]
  },
  {
   "cell_type": "code",
   "execution_count": 0,
   "metadata": {
    "application/vnd.databricks.v1+cell": {
     "cellMetadata": {
      "byteLimit": 2048000,
      "rowLimit": 10000
     },
     "inputWidgets": {},
     "nuid": "fb3fe973-4b7f-42bf-950d-7ab87752dca9",
     "showTitle": false,
     "tableResultSettingsMap": {},
     "title": ""
    }
   },
   "outputs": [],
   "source": [
    "SELECT * FROM customers_january\n",
    "MINUS -- or EXCEPT\n",
    "SELECT * FROM customers_february;"
   ]
  },
  {
   "cell_type": "markdown",
   "metadata": {
    "application/vnd.databricks.v1+cell": {
     "cellMetadata": {},
     "inputWidgets": {},
     "nuid": "20609ab5-5f77-428c-9487-0acb377c570b",
     "showTitle": false,
     "tableResultSettingsMap": {},
     "title": ""
    }
   },
   "source": [
    "### PIVOT - Show total amount spent per customer across months"
   ]
  },
  {
   "cell_type": "code",
   "execution_count": 0,
   "metadata": {
    "application/vnd.databricks.v1+cell": {
     "cellMetadata": {
      "byteLimit": 2048000,
      "rowLimit": 10000
     },
     "inputWidgets": {},
     "nuid": "da6c6ee8-92a9-4d0b-815e-6147b203545b",
     "showTitle": false,
     "tableResultSettingsMap": {},
     "title": ""
    }
   },
   "outputs": [],
   "source": [
    "CREATE OR REPLACE TEMP VIEW customer_purchases AS\n",
    "SELECT * \n",
    "FROM VALUES\n",
    "  (1, 'January', 120),\n",
    "  (1, 'February', 80),\n",
    "  (2, 'January', 150),\n",
    "  (3, 'January', 200),\n",
    "  (3, 'February', 180),\n",
    "  (4, 'February', 220)\n",
    "AS t(customer_id, month, amount);"
   ]
  },
  {
   "cell_type": "markdown",
   "metadata": {
    "application/vnd.databricks.v1+cell": {
     "cellMetadata": {},
     "inputWidgets": {},
     "nuid": "21e8c1b9-876d-4cd5-8af0-de9f9a69ef49",
     "showTitle": false,
     "tableResultSettingsMap": {},
     "title": ""
    }
   },
   "source": [
    "### PIVOT Query\n",
    "The query syntax for generating the pivot table involves the following\n",
    "steps:\n",
    "\n",
    "#### 1. **Selecting the Input Data**\n",
    "\n",
    "You start by selecting the data you want to transform.<br>\n",
    "This input can be:\n",
    "\n",
    "- A base table\n",
    "- Or a subquery that filters or joins data\n",
    "\n",
    "**Example**\n",
    "\n",
    "```SELECT customer_id, month, amount FROM customer_purchases```\n",
    "\n",
    "This defines the **rows** you want to pivot."
   ]
  },
  {
   "cell_type": "markdown",
   "metadata": {
    "application/vnd.databricks.v1+cell": {
     "cellMetadata": {},
     "inputWidgets": {},
     "nuid": "f1a51eaf-8280-427e-9d09-b876c86585a8",
     "showTitle": false,
     "tableResultSettingsMap": {},
     "title": ""
    }
   },
   "source": [
    "#### 2. **The PIVOT Clause**\n",
    "The `PIVOT` block contains three critical components:"
   ]
  },
  {
   "cell_type": "markdown",
   "metadata": {
    "application/vnd.databricks.v1+cell": {
     "cellMetadata": {},
     "inputWidgets": {},
     "nuid": "557d8c2e-3b61-4f32-9e90-9d49ce7ca37e",
     "showTitle": false,
     "tableResultSettingsMap": {},
     "title": ""
    }
   },
   "source": [
    "#### a) **Aggregation Function**\n",
    "\n",
    "This defines:\n",
    "\n",
    "* **What aggregation you want to perform** (like `SUM`, `AVG`, `COUNT`)\n",
    "* **On which column**\n",
    "\n",
    "**Example:**\n",
    "\n",
    "```SUM(amount)```\n",
    "\n",
    "This means: *For each customer, sum the `amount`."
   ]
  },
  {
   "cell_type": "markdown",
   "metadata": {
    "application/vnd.databricks.v1+cell": {
     "cellMetadata": {},
     "inputWidgets": {},
     "nuid": "a3510859-587f-4383-a8d1-d090ad1eed2d",
     "showTitle": false,
     "tableResultSettingsMap": {},
     "title": ""
    }
   },
   "source": [
    "#### b) **FOR Subclause**\n",
    "\n",
    "This specifies:\n",
    "\n",
    "* The **pivot column** whose values will become the *new columns* in your output.\n",
    "\n",
    "Example:\n",
    "\n",
    "```FOR month```\n",
    "\n",
    "This means: *Turn the unique values of `month` (January, February) into columns.*"
   ]
  },
  {
   "cell_type": "markdown",
   "metadata": {
    "application/vnd.databricks.v1+cell": {
     "cellMetadata": {},
     "inputWidgets": {},
     "nuid": "e7c0629c-edc5-47f2-905a-3af3ed303af8",
     "showTitle": false,
     "tableResultSettingsMap": {},
     "title": ""
    }
   },
   "source": [
    "#### c) **IN Operator**\n",
    "\n",
    "This explicitly lists:\n",
    "\n",
    "* The **distinct values of the pivot column** you want as output columns.\n",
    "* You can optionally **rename each column** using aliases.\n",
    "\n",
    "Example:\n",
    "\n",
    "```IN ('January' AS January, 'February' AS February)```\n",
    "\n",
    "This will produce **two columns named January and February** in your result."
   ]
  },
  {
   "cell_type": "markdown",
   "metadata": {
    "application/vnd.databricks.v1+cell": {
     "cellMetadata": {},
     "inputWidgets": {},
     "nuid": "c523d56e-5cc9-4f95-8b80-db0f61b31fcb",
     "showTitle": false,
     "tableResultSettingsMap": {},
     "title": ""
    }
   },
   "source": [
    "### Putting it All Together"
   ]
  },
  {
   "cell_type": "code",
   "execution_count": 0,
   "metadata": {
    "application/vnd.databricks.v1+cell": {
     "cellMetadata": {
      "byteLimit": 2048000,
      "rowLimit": 10000
     },
     "inputWidgets": {},
     "nuid": "c71f0c6c-e171-4d14-a5cb-6d654fcd9446",
     "showTitle": false,
     "tableResultSettingsMap": {},
     "title": ""
    }
   },
   "outputs": [],
   "source": [
    "SELECT \n",
    "  customer_id,\n",
    "  COALESCE(January, 0) AS January,\n",
    "  COALESCE(Feb, 0) AS February\n",
    "FROM (\n",
    "  SELECT customer_id, month, amount\n",
    "  FROM customer_purchases\n",
    ")\n",
    "PIVOT (\n",
    "  SUM(amount)\n",
    "  FOR month IN ('January', 'February' AS Feb)\n",
    ")\n",
    "ORDER BY customer_id;"
   ]
  },
  {
   "cell_type": "markdown",
   "metadata": {
    "application/vnd.databricks.v1+cell": {
     "cellMetadata": {},
     "inputWidgets": {},
     "nuid": "83dba64c-b00f-44e9-8e03-1a02ee8fb39b",
     "showTitle": false,
     "tableResultSettingsMap": {},
     "title": ""
    }
   },
   "source": [
    "You can also wrap the pivot inside a CTE or subquery if you prefer:"
   ]
  },
  {
   "cell_type": "code",
   "execution_count": 0,
   "metadata": {
    "application/vnd.databricks.v1+cell": {
     "cellMetadata": {
      "byteLimit": 2048000,
      "rowLimit": 10000
     },
     "inputWidgets": {},
     "nuid": "cbe8291a-7141-440d-80b1-7c3eeef673eb",
     "showTitle": false,
     "tableResultSettingsMap": {
      "0": {
       "dataGridStateBlob": "{\"version\":1,\"tableState\":{\"columnPinning\":{\"left\":[\"#row_number#\"],\"right\":[]},\"columnSizing\":{},\"columnVisibility\":{}},\"settings\":{\"columns\":{}},\"syncTimestamp\":1751553161035}",
       "filterBlob": null,
       "queryPlanFiltersBlob": null,
       "tableResultIndex": 0
      }
     },
     "title": ""
    }
   },
   "outputs": [],
   "source": [
    "WITH pivoted AS (\n",
    "  SELECT *\n",
    "  FROM (\n",
    "    SELECT customer_id, month, amount\n",
    "    FROM customer_purchases\n",
    "  )\n",
    "  PIVOT (\n",
    "    SUM(amount)\n",
    "    FOR month IN ('January', 'February' AS Feb)\n",
    "  )\n",
    ")\n",
    "\n",
    "SELECT\n",
    "  customer_id,\n",
    "  COALESCE(January, 0) AS January,\n",
    "  COALESCE(Feb, 0) AS February\n",
    "FROM pivoted\n",
    "ORDER BY customer_id;\n"
   ]
  }
 ],
 "metadata": {
  "application/vnd.databricks.v1+notebook": {
   "computePreferences": null,
   "dashboards": [],
   "environmentMetadata": {
    "base_environment": "",
    "environment_version": "2"
   },
   "inputWidgetPreferences": null,
   "language": "sql",
   "notebookMetadata": {},
   "notebookName": "SET-Operation",
   "widgets": {}
  },
  "language_info": {
   "name": "sql"
  }
 },
 "nbformat": 4,
 "nbformat_minor": 0
}
