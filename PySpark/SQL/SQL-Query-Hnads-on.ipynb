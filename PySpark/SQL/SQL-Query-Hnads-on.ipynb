{
 "cells": [
  {
   "cell_type": "markdown",
   "metadata": {
    "application/vnd.databricks.v1+cell": {
     "cellMetadata": {},
     "inputWidgets": {},
     "nuid": "59d2576d-622d-4b1b-b1b3-841241f4f1c9",
     "showTitle": false,
     "tableResultSettingsMap": {},
     "title": ""
    }
   },
   "source": [
    "## SQL Query Hands-on\n",
    "\n",
    "**Domain Retail sales.**\n",
    "\n",
    "- Create two tables: `sales` and `products`\n",
    "- Populate them with sample data\n",
    "- Run analytical queries with JOIN, GROUP BY, CTE, window functions, etc."
   ]
  },
  {
   "cell_type": "code",
   "execution_count": 0,
   "metadata": {
    "application/vnd.databricks.v1+cell": {
     "cellMetadata": {
      "byteLimit": 2048000,
      "rowLimit": 10000
     },
     "inputWidgets": {},
     "nuid": "cfcc82a0-048e-4587-a948-0bbf230ca5cb",
     "showTitle": false,
     "tableResultSettingsMap": {},
     "title": ""
    }
   },
   "outputs": [],
   "source": [
    "-- Sales Table\n",
    "DROP TABLE IF EXISTS sales;\n",
    "CREATE TABLE sales (\n",
    "  sale_id INT,\n",
    "  product_id INT,\n",
    "  quantity INT,\n",
    "  unit_price DOUBLE,\n",
    "  sale_date DATE\n",
    ");\n",
    "\n",
    "-- Products Table\n",
    "DROP TABLE IF EXISTS products;\n",
    "CREATE TABLE products (\n",
    "  product_id INT,\n",
    "  product_name STRING,\n",
    "  category STRING\n",
    ");\n"
   ]
  },
  {
   "cell_type": "markdown",
   "metadata": {
    "application/vnd.databricks.v1+cell": {
     "cellMetadata": {},
     "inputWidgets": {},
     "nuid": "5c43eadc-7e52-4e02-b0f9-6c20866ed3e1",
     "showTitle": false,
     "tableResultSettingsMap": {},
     "title": ""
    }
   },
   "source": [
    "**Insert Sample Data**"
   ]
  },
  {
   "cell_type": "code",
   "execution_count": 0,
   "metadata": {
    "application/vnd.databricks.v1+cell": {
     "cellMetadata": {
      "byteLimit": 2048000,
      "rowLimit": 10000
     },
     "inputWidgets": {},
     "nuid": "94e6f8b5-9cd2-4b98-8042-f616c3fc3129",
     "showTitle": false,
     "tableResultSettingsMap": {},
     "title": ""
    }
   },
   "outputs": [],
   "source": [
    "INSERT INTO products VALUES\n",
    "(1, 'Laptop Pro', 'Electronics'),\n",
    "(2, 'Smartphone X', 'Electronics'),\n",
    "(3, 'Desk Chair', 'Furniture'),\n",
    "(4, 'Office Desk', 'Furniture'),\n",
    "(5, 'Wireless Mouse', 'Accessories');\n",
    "\n",
    "INSERT INTO sales VALUES\n",
    "(101, 1, 3, 1200.00, '2023-07-01'),\n",
    "(102, 2, 5, 800.00, '2023-07-02'),\n",
    "(103, 1, 2, 1150.00, '2023-07-03'),\n",
    "(104, 3, 7, 150.00, '2023-07-04'),\n",
    "(105, 4, 1, 300.00, '2023-07-05'),\n",
    "(106, 2, 3, 790.00, '2023-07-06'),\n",
    "(107, 5, 10, 50.00, '2023-07-07'),\n",
    "(108, 3, 4, 155.00, '2023-07-08'),\n",
    "(109, 4, 2, 310.00, '2023-07-09'),\n",
    "(110, 5, 6, 55.00, '2023-07-10');"
   ]
  },
  {
   "cell_type": "markdown",
   "metadata": {
    "application/vnd.databricks.v1+cell": {
     "cellMetadata": {},
     "inputWidgets": {},
     "nuid": "ea155d7f-05f5-40d6-a3d1-205c6046a280",
     "showTitle": false,
     "tableResultSettingsMap": {},
     "title": ""
    }
   },
   "source": [
    "### Query 1 – Total Sales Amount Per Category"
   ]
  },
  {
   "cell_type": "code",
   "execution_count": 0,
   "metadata": {
    "application/vnd.databricks.v1+cell": {
     "cellMetadata": {
      "byteLimit": 2048000,
      "rowLimit": 10000
     },
     "inputWidgets": {},
     "nuid": "c06a99d7-662b-4fc3-bb61-12ea856f0f8d",
     "showTitle": false,
     "tableResultSettingsMap": {},
     "title": ""
    }
   },
   "outputs": [],
   "source": [
    "SELECT\n",
    "  p.category,\n",
    "  SUM(s.quantity * s.unit_price) AS total_sales\n",
    "FROM sales s\n",
    "JOIN products p\n",
    "  ON s.product_id = p.product_id\n",
    "GROUP BY p.category;"
   ]
  },
  {
   "cell_type": "markdown",
   "metadata": {
    "application/vnd.databricks.v1+cell": {
     "cellMetadata": {},
     "inputWidgets": {},
     "nuid": "a6623344-d24a-42b0-8e13-e4ebdd281d10",
     "showTitle": false,
     "tableResultSettingsMap": {},
     "title": ""
    }
   },
   "source": [
    "### Query 2 – Top 3 Sales by Quantity"
   ]
  },
  {
   "cell_type": "code",
   "execution_count": 0,
   "metadata": {
    "application/vnd.databricks.v1+cell": {
     "cellMetadata": {
      "byteLimit": 2048000,
      "rowLimit": 10000
     },
     "inputWidgets": {},
     "nuid": "cdcff31c-61b3-40ff-9582-256b31a99f02",
     "showTitle": false,
     "tableResultSettingsMap": {},
     "title": ""
    }
   },
   "outputs": [],
   "source": [
    "SELECT *\n",
    "FROM sales\n",
    "ORDER BY quantity DESC\n",
    "LIMIT 3;"
   ]
  },
  {
   "cell_type": "markdown",
   "metadata": {
    "application/vnd.databricks.v1+cell": {
     "cellMetadata": {},
     "inputWidgets": {},
     "nuid": "2d2f43f9-75df-4210-9139-34c59f554a08",
     "showTitle": false,
     "tableResultSettingsMap": {},
     "title": ""
    }
   },
   "source": [
    "###  Query 3 – Average Sale Price per Product"
   ]
  },
  {
   "cell_type": "code",
   "execution_count": 0,
   "metadata": {
    "application/vnd.databricks.v1+cell": {
     "cellMetadata": {
      "byteLimit": 2048000,
      "rowLimit": 10000
     },
     "inputWidgets": {},
     "nuid": "169d6a2b-767e-4108-bb66-c26a819601b1",
     "showTitle": false,
     "tableResultSettingsMap": {},
     "title": ""
    }
   },
   "outputs": [],
   "source": [
    "SELECT\n",
    "  p.product_name,\n",
    "  ROUND(AVG(s.unit_price), 2) AS avg_price\n",
    "FROM sales s\n",
    "JOIN products p\n",
    "  ON s.product_id = p.product_id\n",
    "GROUP BY p.product_name;\n"
   ]
  },
  {
   "cell_type": "markdown",
   "metadata": {
    "application/vnd.databricks.v1+cell": {
     "cellMetadata": {},
     "inputWidgets": {},
     "nuid": "1ce10943-b632-4768-931c-5a4f0c4b765c",
     "showTitle": false,
     "tableResultSettingsMap": {},
     "title": ""
    }
   },
   "source": [
    "### Query 4 – CTE for Sales in July 2023"
   ]
  },
  {
   "cell_type": "code",
   "execution_count": 0,
   "metadata": {
    "application/vnd.databricks.v1+cell": {
     "cellMetadata": {
      "byteLimit": 2048000,
      "rowLimit": 10000
     },
     "inputWidgets": {},
     "nuid": "6199584c-ae63-47a3-bf43-3f3742079f87",
     "showTitle": false,
     "tableResultSettingsMap": {
      "0": {
       "dataGridStateBlob": "{\"version\":1,\"tableState\":{\"columnPinning\":{\"left\":[\"#row_number#\"],\"right\":[]},\"columnSizing\":{},\"columnVisibility\":{}},\"settings\":{\"columns\":{}},\"syncTimestamp\":1751514650404}",
       "filterBlob": null,
       "queryPlanFiltersBlob": null,
       "tableResultIndex": 0
      }
     },
     "title": ""
    }
   },
   "outputs": [],
   "source": [
    "WITH july_sales AS (\n",
    "  SELECT\n",
    "    s.*,\n",
    "    p.product_name\n",
    "  FROM sales s\n",
    "  JOIN products p\n",
    "    ON s.product_id = p.product_id\n",
    "  WHERE s.sale_date BETWEEN '2023-07-01' AND '2023-07-31'\n",
    ")\n",
    "SELECT\n",
    "  product_id,\n",
    "  product_name,\n",
    "  SUM(quantity) AS total_units\n",
    "FROM july_sales\n",
    "GROUP BY product_id, product_name\n",
    "ORDER BY product_id;\n"
   ]
  },
  {
   "cell_type": "markdown",
   "metadata": {
    "application/vnd.databricks.v1+cell": {
     "cellMetadata": {},
     "inputWidgets": {},
     "nuid": "b86c8f6e-7100-4e11-9da2-529f45c189c5",
     "showTitle": false,
     "tableResultSettingsMap": {},
     "title": ""
    }
   },
   "source": [
    "### Query 5 – Running Total of Sales Amount by Date"
   ]
  },
  {
   "cell_type": "code",
   "execution_count": 0,
   "metadata": {
    "application/vnd.databricks.v1+cell": {
     "cellMetadata": {
      "byteLimit": 2048000,
      "rowLimit": 10000
     },
     "inputWidgets": {},
     "nuid": "4425989b-c6d3-4c68-aa15-7f09b970d9da",
     "showTitle": false,
     "tableResultSettingsMap": {},
     "title": ""
    }
   },
   "outputs": [],
   "source": [
    "SELECT\n",
    "  sale_date,\n",
    "  SUM(quantity * unit_price) OVER (\n",
    "    ORDER BY sale_date\n",
    "    ROWS BETWEEN UNBOUNDED PRECEDING AND CURRENT ROW\n",
    "  ) AS running_total\n",
    "FROM sales\n",
    "ORDER BY sale_date;"
   ]
  },
  {
   "cell_type": "markdown",
   "metadata": {
    "application/vnd.databricks.v1+cell": {
     "cellMetadata": {},
     "inputWidgets": {},
     "nuid": "6abb7642-a397-4c02-bc6f-db74fc114b3c",
     "showTitle": false,
     "tableResultSettingsMap": {},
     "title": ""
    }
   },
   "source": [
    "### Query 6 – Dense Rank of Products by Quantity Sold"
   ]
  },
  {
   "cell_type": "code",
   "execution_count": 0,
   "metadata": {
    "application/vnd.databricks.v1+cell": {
     "cellMetadata": {
      "byteLimit": 2048000,
      "rowLimit": 10000
     },
     "inputWidgets": {},
     "nuid": "be944781-dd80-4324-ab8d-fed9dd88c6cf",
     "showTitle": false,
     "tableResultSettingsMap": {},
     "title": ""
    }
   },
   "outputs": [],
   "source": [
    "SELECT\n",
    "  p.product_name,\n",
    "  SUM(s.quantity) AS total_quantity,\n",
    "  DENSE_RANK() OVER (\n",
    "    ORDER BY SUM(s.quantity) DESC\n",
    "  ) AS quantity_rank\n",
    "FROM sales s\n",
    "JOIN products p\n",
    "  ON s.product_id = p.product_id\n",
    "GROUP BY p.product_name;"
   ]
  },
  {
   "cell_type": "markdown",
   "metadata": {
    "application/vnd.databricks.v1+cell": {
     "cellMetadata": {},
     "inputWidgets": {},
     "nuid": "2e514bb5-28cf-41f4-bc94-cb4da2e179dd",
     "showTitle": false,
     "tableResultSettingsMap": {},
     "title": ""
    }
   },
   "source": [
    "### Query 7 – Join and Filter Electronics Sales Only"
   ]
  },
  {
   "cell_type": "code",
   "execution_count": 0,
   "metadata": {
    "application/vnd.databricks.v1+cell": {
     "cellMetadata": {
      "byteLimit": 2048000,
      "rowLimit": 10000
     },
     "inputWidgets": {},
     "nuid": "be12d34d-8001-4132-a11d-74bf8e42c074",
     "showTitle": false,
     "tableResultSettingsMap": {},
     "title": ""
    }
   },
   "outputs": [],
   "source": [
    "SELECT\n",
    "  s.sale_id,\n",
    "  p.product_name,\n",
    "  s.quantity,\n",
    "  s.unit_price\n",
    "FROM sales s\n",
    "JOIN products p\n",
    "  ON s.product_id = p.product_id\n",
    "WHERE p.category = 'Electronics';"
   ]
  },
  {
   "cell_type": "markdown",
   "metadata": {
    "application/vnd.databricks.v1+cell": {
     "cellMetadata": {},
     "inputWidgets": {},
     "nuid": "215ff1e6-558b-42cd-bb56-6580728e315e",
     "showTitle": false,
     "tableResultSettingsMap": {},
     "title": ""
    }
   },
   "source": [
    "### Query 8 – Find Max and Min Sale Date per Product"
   ]
  },
  {
   "cell_type": "code",
   "execution_count": 0,
   "metadata": {
    "application/vnd.databricks.v1+cell": {
     "cellMetadata": {
      "byteLimit": 2048000,
      "rowLimit": 10000
     },
     "inputWidgets": {},
     "nuid": "8d30ef66-f15c-4450-8344-cbae1125de4a",
     "showTitle": false,
     "tableResultSettingsMap": {},
     "title": ""
    }
   },
   "outputs": [],
   "source": [
    "SELECT\n",
    "  p.product_name,\n",
    "  MAX(s.sale_date) AS last_sale,\n",
    "  MIN(s.sale_date) AS first_sale\n",
    "FROM sales s\n",
    "JOIN products p\n",
    "  ON s.product_id = p.product_id\n",
    "GROUP BY p.product_name;"
   ]
  },
  {
   "cell_type": "markdown",
   "metadata": {
    "application/vnd.databricks.v1+cell": {
     "cellMetadata": {},
     "inputWidgets": {},
     "nuid": "58016ca9-3e42-4816-b6aa-2814f969212b",
     "showTitle": false,
     "tableResultSettingsMap": {},
     "title": ""
    }
   },
   "source": [
    "### Query 9 – Average Quantity Sold per Category"
   ]
  },
  {
   "cell_type": "code",
   "execution_count": 0,
   "metadata": {
    "application/vnd.databricks.v1+cell": {
     "cellMetadata": {
      "byteLimit": 2048000,
      "rowLimit": 10000
     },
     "inputWidgets": {},
     "nuid": "d84eac90-3e06-4e9f-9bda-1f193fceeb40",
     "showTitle": false,
     "tableResultSettingsMap": {},
     "title": ""
    }
   },
   "outputs": [],
   "source": [
    "SELECT\n",
    "  p.category,\n",
    "  ROUND(AVG(s.quantity),2) AS avg_quantity\n",
    "FROM sales s\n",
    "JOIN products p\n",
    "  ON s.product_id = p.product_id\n",
    "GROUP BY p.category;"
   ]
  },
  {
   "cell_type": "markdown",
   "metadata": {
    "application/vnd.databricks.v1+cell": {
     "cellMetadata": {},
     "inputWidgets": {},
     "nuid": "b34d9c90-d0b3-425e-b1d3-9c4e50843257",
     "showTitle": false,
     "tableResultSettingsMap": {},
     "title": ""
    }
   },
   "source": [
    "### Query 10 – Sale Amount with Row Number per Category"
   ]
  },
  {
   "cell_type": "code",
   "execution_count": 0,
   "metadata": {
    "application/vnd.databricks.v1+cell": {
     "cellMetadata": {
      "byteLimit": 2048000,
      "rowLimit": 10000
     },
     "inputWidgets": {},
     "nuid": "e506c038-2016-4880-9326-5029de22cb8b",
     "showTitle": false,
     "tableResultSettingsMap": {},
     "title": ""
    }
   },
   "outputs": [],
   "source": [
    "SELECT\n",
    "  p.category,\n",
    "  s.sale_id,\n",
    "  s.quantity * s.unit_price AS sale_amount,\n",
    "  ROW_NUMBER() OVER (\n",
    "    PARTITION BY p.category\n",
    "    ORDER BY s.sale_date\n",
    "  ) AS row_num\n",
    "FROM sales s\n",
    "JOIN products p\n",
    "  ON s.product_id = p.product_id;"
   ]
  },
  {
   "cell_type": "markdown",
   "metadata": {
    "application/vnd.databricks.v1+cell": {
     "cellMetadata": {},
     "inputWidgets": {},
     "nuid": "806ff600-e727-44fa-8c73-972c7a6ba6ce",
     "showTitle": false,
     "tableResultSettingsMap": {},
     "title": ""
    }
   },
   "source": [
    "## Add a Customers table"
   ]
  },
  {
   "cell_type": "code",
   "execution_count": 0,
   "metadata": {
    "application/vnd.databricks.v1+cell": {
     "cellMetadata": {
      "byteLimit": 2048000,
      "rowLimit": 10000
     },
     "inputWidgets": {},
     "nuid": "3015b586-7bd8-427f-9d14-05d3ad21ff66",
     "showTitle": false,
     "tableResultSettingsMap": {},
     "title": ""
    }
   },
   "outputs": [],
   "source": [
    "DROP TABLE IF EXISTS customers;\n",
    "CREATE TABLE customers (\n",
    "  customer_id INT,\n",
    "  customer_name STRING,\n",
    "  region STRING\n",
    ");"
   ]
  },
  {
   "cell_type": "markdown",
   "metadata": {
    "application/vnd.databricks.v1+cell": {
     "cellMetadata": {},
     "inputWidgets": {},
     "nuid": "2b699ac0-5c60-4e6d-8097-62edffd878a1",
     "showTitle": false,
     "tableResultSettingsMap": {},
     "title": ""
    }
   },
   "source": [
    "**Insert Sample Customer Data**"
   ]
  },
  {
   "cell_type": "code",
   "execution_count": 0,
   "metadata": {
    "application/vnd.databricks.v1+cell": {
     "cellMetadata": {
      "byteLimit": 2048000,
      "rowLimit": 10000
     },
     "inputWidgets": {},
     "nuid": "bfc8cd12-7654-459c-9e3b-55212ecb8a53",
     "showTitle": false,
     "tableResultSettingsMap": {},
     "title": ""
    }
   },
   "outputs": [],
   "source": [
    "INSERT INTO customers VALUES\n",
    "(1, 'Alice Johnson', 'North'),\n",
    "(2, 'Bob Smith', 'South'),\n",
    "(3, 'Charlie Lee', 'East'),\n",
    "(4, 'Diana Prince', 'West'),\n",
    "(5, 'Ethan Brown', 'North');"
   ]
  },
  {
   "cell_type": "markdown",
   "metadata": {
    "application/vnd.databricks.v1+cell": {
     "cellMetadata": {},
     "inputWidgets": {},
     "nuid": "72a85581-961c-45cc-9e18-10a4b630e427",
     "showTitle": false,
     "tableResultSettingsMap": {},
     "title": ""
    }
   },
   "source": [
    "**Create new sales table to include this column customer_id**"
   ]
  },
  {
   "cell_type": "code",
   "execution_count": 0,
   "metadata": {
    "application/vnd.databricks.v1+cell": {
     "cellMetadata": {
      "byteLimit": 2048000,
      "rowLimit": 10000
     },
     "inputWidgets": {},
     "nuid": "cac8b2bf-ed18-4189-8ca0-bb7a97593aa8",
     "showTitle": false,
     "tableResultSettingsMap": {},
     "title": ""
    }
   },
   "outputs": [],
   "source": [
    "-- Recreate for clarity\n",
    "DROP TABLE IF EXISTS sales;\n",
    "CREATE TABLE sales (\n",
    "  sale_id INT,\n",
    "  product_id INT,\n",
    "  customer_id INT,\n",
    "  quantity INT,\n",
    "  unit_price DOUBLE,\n",
    "  sale_date DATE\n",
    ");\n",
    "\n",
    "INSERT INTO sales VALUES\n",
    "(101, 1, 1, 3, 1200.00, '2023-07-01'),\n",
    "(102, 2, 2, 5, 800.00, '2023-07-02'),\n",
    "(103, 1, 3, 2, 1150.00, '2023-07-03'),\n",
    "(104, 3, 4, 7, 150.00, '2023-07-04'),\n",
    "(105, 4, 5, 1, 300.00, '2023-07-05'),\n",
    "(106, 2, 1, 3, 790.00, '2023-07-06'),\n",
    "(107, 5, 2, 10, 50.00, '2023-07-07'),\n",
    "(108, 3, 3, 4, 155.00, '2023-07-08'),\n",
    "(109, 4, 4, 2, 310.00, '2023-07-09'),\n",
    "(110, 5, 5, 6, 55.00, '2023-07-10');"
   ]
  },
  {
   "cell_type": "markdown",
   "metadata": {
    "application/vnd.databricks.v1+cell": {
     "cellMetadata": {},
     "inputWidgets": {},
     "nuid": "a448a7d3-e9cc-4152-8d98-cd88f487eca7",
     "showTitle": false,
     "tableResultSettingsMap": {},
     "title": ""
    }
   },
   "source": [
    "### Total Sales by Customer and Region"
   ]
  },
  {
   "cell_type": "code",
   "execution_count": 0,
   "metadata": {
    "application/vnd.databricks.v1+cell": {
     "cellMetadata": {
      "byteLimit": 2048000,
      "rowLimit": 10000
     },
     "inputWidgets": {},
     "nuid": "95c43dc7-e457-4a44-9cca-1d1949a5e091",
     "showTitle": false,
     "tableResultSettingsMap": {},
     "title": ""
    }
   },
   "outputs": [],
   "source": [
    "SELECT\n",
    "  c.customer_name,\n",
    "  c.region,\n",
    "  SUM(s.quantity * s.unit_price) AS total_sales\n",
    "FROM sales s\n",
    "JOIN customers c\n",
    "  ON s.customer_id = c.customer_id\n",
    "GROUP BY c.customer_name, c.region;"
   ]
  },
  {
   "cell_type": "markdown",
   "metadata": {
    "application/vnd.databricks.v1+cell": {
     "cellMetadata": {},
     "inputWidgets": {},
     "nuid": "c5226f0c-8926-44cb-882a-4ade29355547",
     "showTitle": false,
     "tableResultSettingsMap": {},
     "title": ""
    }
   },
   "source": [
    "### Top 2 Products per Region by Quantity Sold"
   ]
  },
  {
   "cell_type": "code",
   "execution_count": 0,
   "metadata": {
    "application/vnd.databricks.v1+cell": {
     "cellMetadata": {
      "byteLimit": 2048000,
      "rowLimit": 10000
     },
     "inputWidgets": {},
     "nuid": "b6a05c4d-5f98-4d3c-8653-e6b54e911e2e",
     "showTitle": false,
     "tableResultSettingsMap": {},
     "title": ""
    }
   },
   "outputs": [],
   "source": [
    "WITH sales_with_details AS (\n",
    "  SELECT\n",
    "    s.sale_id,\n",
    "    s.product_id,\n",
    "    s.customer_id,\n",
    "    s.quantity,\n",
    "    c.region,\n",
    "    p.product_name\n",
    "  FROM sales s\n",
    "  JOIN customers c\n",
    "    ON s.customer_id = c.customer_id\n",
    "  JOIN products p\n",
    "    ON s.product_id = p.product_id\n",
    "),\n",
    "aggregated_sales AS (\n",
    "  SELECT\n",
    "    region,\n",
    "    product_name,\n",
    "    SUM(quantity) AS total_quantity\n",
    "  FROM sales_with_details\n",
    "  GROUP BY region, product_name\n",
    "),\n",
    "ranked_products AS (\n",
    "  SELECT\n",
    "    region,\n",
    "    product_name,\n",
    "    total_quantity,\n",
    "    RANK() OVER (\n",
    "      PARTITION BY region\n",
    "      ORDER BY total_quantity DESC\n",
    "    ) AS rank_in_region\n",
    "  FROM aggregated_sales\n",
    ")\n",
    "SELECT\n",
    "  region,\n",
    "  product_name,\n",
    "  total_quantity,\n",
    "  rank_in_region\n",
    "FROM ranked_products\n",
    "WHERE total_quantity > 0;\n"
   ]
  },
  {
   "cell_type": "markdown",
   "metadata": {
    "application/vnd.databricks.v1+cell": {
     "cellMetadata": {},
     "inputWidgets": {},
     "nuid": "50ea8934-9e1a-4052-9080-156b4d1a1d9a",
     "showTitle": false,
     "tableResultSettingsMap": {},
     "title": ""
    }
   },
   "source": [
    "### Monthly Sales Summary"
   ]
  },
  {
   "cell_type": "code",
   "execution_count": 0,
   "metadata": {
    "application/vnd.databricks.v1+cell": {
     "cellMetadata": {
      "byteLimit": 2048000,
      "rowLimit": 10000
     },
     "inputWidgets": {},
     "nuid": "d63fd88e-734e-4eb8-8a03-8084bc284cc4",
     "showTitle": false,
     "tableResultSettingsMap": {},
     "title": ""
    }
   },
   "outputs": [],
   "source": [
    "WITH monthly_sales AS (\n",
    "  SELECT\n",
    "    DATE_FORMAT(sale_date, 'yyyy-MM') AS month,\n",
    "    SUM(quantity * unit_price) AS total_sales\n",
    "  FROM sales\n",
    "  GROUP BY DATE_FORMAT(sale_date, 'yyyy-MM')\n",
    ")\n",
    "SELECT *\n",
    "FROM monthly_sales\n",
    "ORDER BY month;\n"
   ]
  },
  {
   "cell_type": "markdown",
   "metadata": {
    "application/vnd.databricks.v1+cell": {
     "cellMetadata": {},
     "inputWidgets": {},
     "nuid": "e2afa1a7-aa2c-4c53-8bd4-95c63446c223",
     "showTitle": false,
     "tableResultSettingsMap": {},
     "title": ""
    }
   },
   "source": [
    "### Customer Purchase Frequency"
   ]
  },
  {
   "cell_type": "code",
   "execution_count": 0,
   "metadata": {
    "application/vnd.databricks.v1+cell": {
     "cellMetadata": {
      "byteLimit": 2048000,
      "rowLimit": 10000
     },
     "inputWidgets": {},
     "nuid": "f6ac2a48-7b3e-4de5-91f1-cd8b5400b479",
     "showTitle": false,
     "tableResultSettingsMap": {},
     "title": ""
    }
   },
   "outputs": [],
   "source": [
    "WITH customer_purchase_counts AS (\n",
    "  SELECT\n",
    "    s.customer_id,\n",
    "    c.customer_name,\n",
    "    COUNT(*) AS total_purchases\n",
    "  FROM sales s\n",
    "  JOIN customers c\n",
    "    ON s.customer_id = c.customer_id\n",
    "  GROUP BY s.customer_id, c.customer_name\n",
    ")\n",
    "SELECT\n",
    "  customer_id,\n",
    "  customer_name,\n",
    "  total_purchases\n",
    "FROM customer_purchase_counts\n",
    "ORDER BY total_purchases DESC;\n"
   ]
  },
  {
   "cell_type": "markdown",
   "metadata": {
    "application/vnd.databricks.v1+cell": {
     "cellMetadata": {},
     "inputWidgets": {},
     "nuid": "3ee1aabc-0c39-4821-907c-7c95675b763a",
     "showTitle": false,
     "tableResultSettingsMap": {},
     "title": ""
    }
   },
   "source": [
    "### Average Sale Value per Region"
   ]
  },
  {
   "cell_type": "code",
   "execution_count": 0,
   "metadata": {
    "application/vnd.databricks.v1+cell": {
     "cellMetadata": {
      "byteLimit": 2048000,
      "rowLimit": 10000
     },
     "inputWidgets": {},
     "nuid": "4256f275-3bc1-4abe-ad28-8ec4a2f9d8ea",
     "showTitle": false,
     "tableResultSettingsMap": {},
     "title": ""
    }
   },
   "outputs": [],
   "source": [
    "SELECT\n",
    "  c.region,\n",
    "  ROUND(AVG(s.quantity * s.unit_price),2) AS avg_sale_value\n",
    "FROM sales s\n",
    "JOIN customers c\n",
    "  ON s.customer_id = c.customer_id\n",
    "GROUP BY c.region;"
   ]
  },
  {
   "cell_type": "markdown",
   "metadata": {
    "application/vnd.databricks.v1+cell": {
     "cellMetadata": {},
     "inputWidgets": {},
     "nuid": "65698776-4ef6-49d8-8888-2f0390ee0663",
     "showTitle": false,
     "tableResultSettingsMap": {},
     "title": ""
    }
   },
   "source": [
    "### Last Purchase Date per Customer"
   ]
  },
  {
   "cell_type": "code",
   "execution_count": 0,
   "metadata": {
    "application/vnd.databricks.v1+cell": {
     "cellMetadata": {
      "byteLimit": 2048000,
      "rowLimit": 10000
     },
     "inputWidgets": {},
     "nuid": "f7cbd41a-fa10-4b79-92f5-dc85a99c1ef3",
     "showTitle": false,
     "tableResultSettingsMap": {},
     "title": ""
    }
   },
   "outputs": [],
   "source": [
    "SELECT\n",
    "  customer_id,\n",
    "  MAX(sale_date) AS last_purchase_date\n",
    "FROM sales\n",
    "GROUP BY customer_id;"
   ]
  },
  {
   "cell_type": "markdown",
   "metadata": {
    "application/vnd.databricks.v1+cell": {
     "cellMetadata": {},
     "inputWidgets": {},
     "nuid": "5f9b7ccb-521f-45e6-9724-7927fb489425",
     "showTitle": false,
     "tableResultSettingsMap": {},
     "title": ""
    }
   },
   "source": [
    "### Products Never Sold"
   ]
  },
  {
   "cell_type": "code",
   "execution_count": 0,
   "metadata": {
    "application/vnd.databricks.v1+cell": {
     "cellMetadata": {
      "byteLimit": 2048000,
      "rowLimit": 10000
     },
     "inputWidgets": {},
     "nuid": "2c666e38-af75-457a-a2dd-0546d48c9409",
     "showTitle": false,
     "tableResultSettingsMap": {},
     "title": ""
    }
   },
   "outputs": [],
   "source": [
    "SELECT\n",
    "  p.product_id,\n",
    "  p.product_name\n",
    "FROM products p\n",
    "LEFT JOIN sales s\n",
    "  ON p.product_id = s.product_id\n",
    "WHERE s.product_id IS NULL;"
   ]
  },
  {
   "cell_type": "code",
   "execution_count": 0,
   "metadata": {
    "application/vnd.databricks.v1+cell": {
     "cellMetadata": {
      "byteLimit": 2048000,
      "rowLimit": 10000
     },
     "inputWidgets": {},
     "nuid": "80308903-bf5a-4e31-9ca6-096d58759351",
     "showTitle": false,
     "tableResultSettingsMap": {},
     "title": ""
    }
   },
   "outputs": [],
   "source": [
    "INSERT INTO products\n",
    "VALUES\n",
    "(6, 'Ergonomic Keyboard', 'Accessories');"
   ]
  },
  {
   "cell_type": "markdown",
   "metadata": {
    "application/vnd.databricks.v1+cell": {
     "cellMetadata": {},
     "inputWidgets": {},
     "nuid": "663ac9d0-8802-4fb2-bb8f-958bf8d9af78",
     "showTitle": false,
     "tableResultSettingsMap": {},
     "title": ""
    }
   },
   "source": [
    "### Highest Single Sale per Customer"
   ]
  },
  {
   "cell_type": "code",
   "execution_count": 0,
   "metadata": {
    "application/vnd.databricks.v1+cell": {
     "cellMetadata": {
      "byteLimit": 2048000,
      "rowLimit": 10000
     },
     "inputWidgets": {},
     "nuid": "dfbb810d-79a3-4972-a8a3-f959829da129",
     "showTitle": false,
     "tableResultSettingsMap": {},
     "title": ""
    }
   },
   "outputs": [],
   "source": [
    "SELECT\n",
    "  customer_id,\n",
    "  MAX(quantity * unit_price) AS max_sale_amount\n",
    "FROM sales\n",
    "GROUP BY customer_id;"
   ]
  }
 ],
 "metadata": {
  "application/vnd.databricks.v1+notebook": {
   "computePreferences": null,
   "dashboards": [],
   "environmentMetadata": {
    "base_environment": "",
    "environment_version": "2"
   },
   "inputWidgetPreferences": null,
   "language": "sql",
   "notebookMetadata": {
    "pythonIndentUnit": 4
   },
   "notebookName": "SQL-Query-Hnads-on",
   "widgets": {}
  },
  "language_info": {
   "name": "sql"
  }
 },
 "nbformat": 4,
 "nbformat_minor": 0
}
