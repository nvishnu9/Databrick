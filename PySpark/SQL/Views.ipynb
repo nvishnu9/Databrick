{
 "cells": [
  {
   "cell_type": "markdown",
   "metadata": {
    "application/vnd.databricks.v1+cell": {
     "cellMetadata": {},
     "inputWidgets": {},
     "nuid": "f4eb83a2-991e-4434-b10a-696e0d5f9964",
     "showTitle": false,
     "tableResultSettingsMap": {},
     "title": ""
    }
   },
   "source": [
    "## Exploring Views\n",
    "* In Databricks, **views** act as virtual tables without holding physical data.\n",
    "* A view is simply a **saved SQL query** against actual tables.\n",
    "* The underlying SQL query executes **every time** the view is queried.\n",
    "\n",
    "**View Types**\n",
    "\n",
    "* Databricks supports **three types of views**:\n",
    "\n",
    "  * **Stored Views**\n",
    "  * **Temporary Views**\n",
    "  * **Global Temporary Views**"
   ]
  },
  {
   "cell_type": "code",
   "execution_count": 0,
   "metadata": {
    "application/vnd.databricks.v1+cell": {
     "cellMetadata": {
      "byteLimit": 2048000,
      "rowLimit": 10000
     },
     "inputWidgets": {},
     "nuid": "a40bea4a-c958-4fac-9822-0eeabc71ed88",
     "showTitle": false,
     "tableResultSettingsMap": {},
     "title": ""
    }
   },
   "outputs": [],
   "source": [
    "USE CATALOG hive_metastore;\n",
    "\n",
    "DROP TABLE IF EXISTS smartphones;\n",
    "CREATE TABLE smartphones (\n",
    "  id INT,\n",
    "  model STRING,\n",
    "  brand STRING,\n",
    "  release_year INT\n",
    ");"
   ]
  },
  {
   "cell_type": "code",
   "execution_count": 0,
   "metadata": {
    "application/vnd.databricks.v1+cell": {
     "cellMetadata": {
      "byteLimit": 2048000,
      "rowLimit": 10000
     },
     "inputWidgets": {},
     "nuid": "3d358594-0c32-4f6b-852f-8acfbb5671c1",
     "showTitle": false,
     "tableResultSettingsMap": {},
     "title": ""
    }
   },
   "outputs": [],
   "source": [
    "INSERT INTO smartphones\n",
    "VALUES \n",
    "(1, 'iPhone 15 Pro', 'Apple', 2023),\n",
    "(2, 'Galaxy S23 Ultra', 'Samsung', 2023),\n",
    "(3, 'Pixel 8 Pro', 'Google', 2023),\n",
    "(4, 'OnePlus 12', 'OnePlus', 2024),\n",
    "(5, 'Xperia 1 V', 'Sony', 2023),\n",
    "(6, 'Galaxy Z Fold5', 'Samsung', 2023),\n",
    "(7, 'iPhone SE (3rd Gen)', 'Apple', 2022),\n",
    "(8, 'Pixel 7a', 'Google', 2023),\n",
    "(9, 'Moto Edge+ (2023)', 'Motorola', 2023),\n",
    "(10, 'Nothing Phone (2)', 'Nothing', 2023);"
   ]
  },
  {
   "cell_type": "code",
   "execution_count": 0,
   "metadata": {
    "application/vnd.databricks.v1+cell": {
     "cellMetadata": {
      "byteLimit": 2048000,
      "rowLimit": 10000
     },
     "inputWidgets": {},
     "nuid": "7b30c60a-a4f2-4c83-9011-1db615eaed98",
     "showTitle": false,
     "tableResultSettingsMap": {},
     "title": ""
    }
   },
   "outputs": [],
   "source": [
    "SHOW TABLES;"
   ]
  },
  {
   "cell_type": "markdown",
   "metadata": {
    "application/vnd.databricks.v1+cell": {
     "cellMetadata": {},
     "inputWidgets": {},
     "nuid": "0f080c1f-d5e2-4193-9368-117b3688f690",
     "showTitle": false,
     "tableResultSettingsMap": {},
     "title": ""
    }
   },
   "source": [
    "### Stored Views\n",
    "* Also known simply as **views**, similar to traditional database views.\n",
    "* Their metadata is **persisted in the database**.\n",
    "* Created using `CREATE VIEW` followed by `AS <query>`.\n",
    "* Use `SHOW TABLES` to confirm that the view is saved in the **default database**.\n"
   ]
  },
  {
   "cell_type": "code",
   "execution_count": 0,
   "metadata": {
    "application/vnd.databricks.v1+cell": {
     "cellMetadata": {
      "byteLimit": 2048000,
      "rowLimit": 10000
     },
     "inputWidgets": {},
     "nuid": "70fa4636-c0b4-41da-a1a7-ac60a39f906d",
     "showTitle": false,
     "tableResultSettingsMap": {},
     "title": ""
    }
   },
   "outputs": [],
   "source": [
    "CREATE VIEW view_apple_phones\n",
    "AS\n",
    "SELECT *\n",
    "FROM smartphones\n",
    "WHERE brand = 'Apple';"
   ]
  },
  {
   "cell_type": "markdown",
   "metadata": {
    "application/vnd.databricks.v1+cell": {
     "cellMetadata": {},
     "inputWidgets": {},
     "nuid": "c5b235fb-6bcc-4c37-af0d-afa046b9a0be",
     "showTitle": false,
     "tableResultSettingsMap": {},
     "title": ""
    }
   },
   "source": [
    "Executing the **`SHOW TABLES`** command again confirms that the view has been stored in the **default** database as a persistent object rather than a temporary one."
   ]
  },
  {
   "cell_type": "code",
   "execution_count": 0,
   "metadata": {
    "application/vnd.databricks.v1+cell": {
     "cellMetadata": {
      "byteLimit": 2048000,
      "rowLimit": 10000
     },
     "inputWidgets": {},
     "nuid": "6508fafd-55d2-4f6d-acd3-d1869befd8b5",
     "showTitle": false,
     "tableResultSettingsMap": {},
     "title": ""
    }
   },
   "outputs": [],
   "source": [
    "SHOW TABLES;"
   ]
  },
  {
   "cell_type": "markdown",
   "metadata": {
    "application/vnd.databricks.v1+cell": {
     "cellMetadata": {},
     "inputWidgets": {},
     "nuid": "e71d6290-7596-4616-be5a-157cf75e183b",
     "showTitle": false,
     "tableResultSettingsMap": {},
     "title": ""
    }
   },
   "source": [
    "Once created, you can query the stored view using a standard SELECT statement,\n",
    "treating it as if it were a table object"
   ]
  },
  {
   "cell_type": "code",
   "execution_count": 0,
   "metadata": {
    "application/vnd.databricks.v1+cell": {
     "cellMetadata": {
      "byteLimit": 2048000,
      "rowLimit": 10000
     },
     "inputWidgets": {},
     "nuid": "49a8cd1e-8b49-4745-bf05-2391f6fd3118",
     "showTitle": false,
     "tableResultSettingsMap": {},
     "title": ""
    }
   },
   "outputs": [],
   "source": [
    "SELECT * FROM view_apple_phones"
   ]
  },
  {
   "cell_type": "markdown",
   "metadata": {
    "application/vnd.databricks.v1+cell": {
     "cellMetadata": {},
     "inputWidgets": {},
     "nuid": "9ac6d393-cb37-4267-a3f7-41d73cb69289",
     "showTitle": false,
     "tableResultSettingsMap": {},
     "title": ""
    }
   },
   "source": [
    "### Temporary Views\n",
    "* **Bound to the Spark session**; automatically dropped when the session ends.\n",
    "* Useful for **temporary data manipulations** or analysis.\n",
    "* Created with the `TEMP` or `TEMPORARY` keyword.\n",
    "\n",
    "  **Example**:\n",
    "\n",
    "  `CREATE TEMP VIEW view_name AS <query>;`\n",
    "  \n",
    "  **Lifespan ends** when:\n",
    "\n",
    "  * A new notebook is opened.\n",
    "  * The notebook detaches and reattaches to a cluster.\n",
    "  * The Python interpreter restarts.\n",
    "  * The cluster restarts."
   ]
  },
  {
   "cell_type": "code",
   "execution_count": 0,
   "metadata": {
    "application/vnd.databricks.v1+cell": {
     "cellMetadata": {
      "byteLimit": 2048000,
      "rowLimit": 10000
     },
     "inputWidgets": {},
     "nuid": "211c3f3e-acd8-41ef-bb18-9df2033272cf",
     "showTitle": false,
     "tableResultSettingsMap": {},
     "title": ""
    }
   },
   "outputs": [],
   "source": [
    "CREATE TEMP VIEW temp_view_smartphone_brands\n",
    "AS\n",
    "SELECT DISTINCT brand\n",
    "FROM smartphones;"
   ]
  },
  {
   "cell_type": "code",
   "execution_count": 0,
   "metadata": {
    "application/vnd.databricks.v1+cell": {
     "cellMetadata": {
      "byteLimit": 2048000,
      "rowLimit": 10000
     },
     "inputWidgets": {},
     "nuid": "91c5f132-5d28-442b-8df7-8d58e44c1f7b",
     "showTitle": false,
     "tableResultSettingsMap": {},
     "title": ""
    }
   },
   "outputs": [],
   "source": [
    "SHOW TABLES"
   ]
  },
  {
   "cell_type": "code",
   "execution_count": 0,
   "metadata": {
    "application/vnd.databricks.v1+cell": {
     "cellMetadata": {
      "byteLimit": 2048000,
      "rowLimit": 10000
     },
     "inputWidgets": {},
     "nuid": "a6a203c2-b480-4555-854e-4f25a55c5d2f",
     "showTitle": false,
     "tableResultSettingsMap": {},
     "title": ""
    }
   },
   "outputs": [],
   "source": [
    "SELECT * FROM temp_view_smartphone_brands;"
   ]
  },
  {
   "cell_type": "markdown",
   "metadata": {
    "application/vnd.databricks.v1+cell": {
     "cellMetadata": {},
     "inputWidgets": {},
     "nuid": "6e1008f0-e68a-4cee-96f4-761c89d67f78",
     "showTitle": false,
     "tableResultSettingsMap": {},
     "title": ""
    }
   },
   "source": [
    "### Global Temporary Views\n",
    "\n",
    "* Behave like temporary views but **persist across sessions within the same cluster**.\n",
    "* Created using `GLOBAL TEMP`.\n",
    "\n",
    "  **Example**:\n",
    "\n",
    "  `CREATE GLOBAL TEMP VIEW view_name`<br>\n",
    "  `AS <query>;`<br>\n",
    "\n",
    "* Stored in the **`global_temp` database**.\n",
    "* To query them, specify the database qualifier:\n",
    "\n",
    "  `SELECT * FROM global_temp.view_name;`\n",
    "\n",
    "* Not listed by default in `SHOW TABLES`; instead, use:\n",
    "\n",
    "  `SHOW TABLES IN global_temp;`"
   ]
  },
  {
   "cell_type": "code",
   "execution_count": 0,
   "metadata": {
    "application/vnd.databricks.v1+cell": {
     "cellMetadata": {
      "byteLimit": 2048000,
      "rowLimit": 10000
     },
     "inputWidgets": {},
     "nuid": "3df6bf5e-1fa6-4b24-8e89-7bb412c7bcd8",
     "showTitle": false,
     "tableResultSettingsMap": {},
     "title": ""
    }
   },
   "outputs": [],
   "source": [
    "CREATE GLOBAL TEMP VIEW global_temp_view_recent_smartphones\n",
    "AS\n",
    "SELECT *\n",
    "FROM smartphones\n",
    "WHERE release_year >= 2023;"
   ]
  },
  {
   "cell_type": "code",
   "execution_count": 0,
   "metadata": {
    "application/vnd.databricks.v1+cell": {
     "cellMetadata": {
      "byteLimit": 2048000,
      "rowLimit": 10000
     },
     "inputWidgets": {},
     "nuid": "e5393a5d-538c-405d-a66d-b2572a337496",
     "showTitle": false,
     "tableResultSettingsMap": {},
     "title": ""
    }
   },
   "outputs": [],
   "source": [
    "SHOW TABLES;"
   ]
  },
  {
   "cell_type": "code",
   "execution_count": 0,
   "metadata": {
    "application/vnd.databricks.v1+cell": {
     "cellMetadata": {
      "byteLimit": 2048000,
      "rowLimit": 10000
     },
     "inputWidgets": {},
     "nuid": "b20322b7-9bdf-4475-9cf5-48b25b62163f",
     "showTitle": false,
     "tableResultSettingsMap": {},
     "title": ""
    }
   },
   "outputs": [],
   "source": [
    "SHOW TABLES in global_temp"
   ]
  },
  {
   "cell_type": "code",
   "execution_count": 0,
   "metadata": {
    "application/vnd.databricks.v1+cell": {
     "cellMetadata": {
      "byteLimit": 2048000,
      "rowLimit": 10000
     },
     "inputWidgets": {},
     "nuid": "a4586235-05a7-4376-a4ee-2e02be9acba6",
     "showTitle": false,
     "tableResultSettingsMap": {},
     "title": ""
    }
   },
   "outputs": [],
   "source": [
    "-- To query the global temp view:\n",
    "SELECT * FROM global_temp.global_temp_view_recent_smartphones;"
   ]
  },
  {
   "cell_type": "markdown",
   "metadata": {
    "application/vnd.databricks.v1+cell": {
     "cellMetadata": {},
     "inputWidgets": {},
     "nuid": "e8237077-e939-4583-87df-9c1b501929d2",
     "showTitle": false,
     "tableResultSettingsMap": {},
     "title": ""
    }
   },
   "source": [
    "### Dropping Views\n",
    "Drop our stored view by running the DROP VIEW command, like in standard SQL:"
   ]
  },
  {
   "cell_type": "code",
   "execution_count": 0,
   "metadata": {
    "application/vnd.databricks.v1+cell": {
     "cellMetadata": {
      "byteLimit": 2048000,
      "rowLimit": 10000
     },
     "inputWidgets": {},
     "nuid": "91c66842-e64b-47de-a91a-2050f34ab494",
     "showTitle": false,
     "tableResultSettingsMap": {},
     "title": ""
    }
   },
   "outputs": [],
   "source": [
    "DROP VIEW view_apple_phones"
   ]
  },
  {
   "cell_type": "markdown",
   "metadata": {
    "application/vnd.databricks.v1+cell": {
     "cellMetadata": {},
     "inputWidgets": {},
     "nuid": "67fd0a97-7bd7-44c4-8522-e723070bdf48",
     "showTitle": false,
     "tableResultSettingsMap": {},
     "title": ""
    }
   },
   "source": [
    "If you prefer not to wait for the session to end or the cluster to shut down, you can manually remove temporary views by using the **`DROP VIEW`** command, for example:"
   ]
  },
  {
   "cell_type": "code",
   "execution_count": 0,
   "metadata": {
    "application/vnd.databricks.v1+cell": {
     "cellMetadata": {
      "byteLimit": 2048000,
      "rowLimit": 10000
     },
     "inputWidgets": {},
     "nuid": "04a23303-d6ba-4e96-986d-9f2ef20d014d",
     "showTitle": false,
     "tableResultSettingsMap": {},
     "title": ""
    }
   },
   "outputs": [],
   "source": [
    "SELECT * FROM temp_view_smartphone_brands;"
   ]
  },
  {
   "cell_type": "code",
   "execution_count": 0,
   "metadata": {
    "application/vnd.databricks.v1+cell": {
     "cellMetadata": {
      "byteLimit": 2048000,
      "rowLimit": 10000
     },
     "inputWidgets": {},
     "nuid": "fc70242a-62f0-424e-b7e2-02a2791b197e",
     "showTitle": false,
     "tableResultSettingsMap": {},
     "title": ""
    }
   },
   "outputs": [],
   "source": [
    "DROP VIEW temp_view_smartphone_brands;\n",
    "DROP VIEW global_temp.global_temp_view_recent_smartphones;"
   ]
  },
  {
   "cell_type": "markdown",
   "metadata": {
    "application/vnd.databricks.v1+cell": {
     "cellMetadata": {},
     "inputWidgets": {},
     "nuid": "1c95771c-3d64-4e58-9dfb-06220280e8dc",
     "showTitle": false,
     "tableResultSettingsMap": {},
     "title": ""
    }
   },
   "source": [
    "### Comparison of View Types\n",
    "\n",
    "| **Aspect**           | **Stored View**                             | **Temporary View**                              | **Global Temporary View**                              |\n",
    "| -------------------- | ------------------------------------------- | ----------------------------------------------- | ------------------------------------------------------ |\n",
    "| **Creation Syntax**  | `CREATE VIEW`                               | `CREATE TEMP VIEW`                              | `CREATE GLOBAL TEMP VIEW`                              |\n",
    "| **Persistence**      | Saved in the **database metadata**          | Exists **only in the current Spark session**    | Exists across sessions, but **tied to the cluster**    |\n",
    "| **Accessibility**    | Accessible across **sessions and clusters** | Accessible **only within the session**          | Accessible across sessions **within the same cluster** |\n",
    "| **Storage Location** | Default database                            | Session memory                                  | `global_temp` database                                 |\n",
    "| **Lifetime**         | Until explicitly **dropped**                | **Dropped automatically** when the session ends | **Dropped automatically** when the cluster stops       |\n",
    "| **Manual Deletion**  | `DROP VIEW view_name;`                      | `DROP VIEW view_name;` (optional)               | `DROP VIEW global_temp.view_name;` (optional)          |\n",
    "| **Usage Example**    | `SELECT * FROM view_name;`                  | `SELECT * FROM view_name;`                      | `SELECT * FROM global_temp.view_name;`                 |\n",
    "\n",
    "\n"
   ]
  }
 ],
 "metadata": {
  "application/vnd.databricks.v1+notebook": {
   "computePreferences": null,
   "dashboards": [],
   "environmentMetadata": {
    "base_environment": "",
    "environment_version": "2"
   },
   "inputWidgetPreferences": null,
   "language": "sql",
   "notebookMetadata": {
    "pythonIndentUnit": 4
   },
   "notebookName": "Views",
   "widgets": {}
  },
  "language_info": {
   "name": "sql"
  }
 },
 "nbformat": 4,
 "nbformat_minor": 0
}
