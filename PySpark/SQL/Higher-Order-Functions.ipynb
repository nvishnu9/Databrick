{
 "cells": [
  {
   "cell_type": "markdown",
   "metadata": {
    "application/vnd.databricks.v1+cell": {
     "cellMetadata": {},
     "inputWidgets": {},
     "nuid": "ce7ba546-481a-4c58-9882-cc05c9c9c2fb",
     "showTitle": false,
     "tableResultSettingsMap": {},
     "title": ""
    }
   },
   "source": [
    "## Higher-Order Functions\n",
    "\n",
    "Higher-order functions in Databricks are a powerful feature for manipulating complex data types like arrays and maps. These functions allow you to apply custom logic to each element of a collection directly within your SQL queries, making it easier to process nested or structured data efficiently.\n",
    "\n",
    "In this example, we will focus on two commonly used higher-order functions:\n",
    "\n",
    "- **`FILTER`**: Selects array elements that satisfy a given condition.\n",
    "- **`TRANSFORM`**: Transforms each element in an array by applying an expression.\n",
    "\n",
    ">Higher-order functions are especially useful when dealing with semi-structured data (e.g., JSON) or columns that contain arrays of values. Instead of exploding arrays into separate rows, you can manipulate the data in place while maintaining the original structure."
   ]
  },
  {
   "cell_type": "markdown",
   "metadata": {
    "application/vnd.databricks.v1+cell": {
     "cellMetadata": {},
     "inputWidgets": {},
     "nuid": "ca47a0a3-4981-4579-a618-dcb49cb8c23c",
     "showTitle": false,
     "tableResultSettingsMap": {},
     "title": ""
    }
   },
   "source": [
    "### Filter Syntax\n",
    "`FILTER(array_expression, element -> boolean_expression)`\n",
    "\n",
    "**Parameters:**\n",
    "\n",
    "- `array_expression`: the array you want to process.\n",
    "- `element`: a variable representing each array element.\n",
    "- `boolean_expression`: an expression returning `TRUE` to keep the element or `FALSE` to discard it.\n",
    "\n",
    "**Example:**\n",
    "\n",
    "FILTER(array(10, 20, 30), x -> x > 15)\n",
    "\n",
    "-- Returns: [20, 30]"
   ]
  },
  {
   "cell_type": "markdown",
   "metadata": {
    "application/vnd.databricks.v1+cell": {
     "cellMetadata": {},
     "inputWidgets": {},
     "nuid": "977b85d2-2dc1-4e8c-bc79-042122d05fa8",
     "showTitle": false,
     "tableResultSettingsMap": {},
     "title": ""
    }
   },
   "source": [
    "### Create Temporary View with sample data"
   ]
  },
  {
   "cell_type": "code",
   "execution_count": 0,
   "metadata": {
    "application/vnd.databricks.v1+cell": {
     "cellMetadata": {
      "byteLimit": 2048000,
      "rowLimit": 10000
     },
     "inputWidgets": {},
     "nuid": "c3a583f5-0626-4a5a-9924-52299ab000e1",
     "showTitle": false,
     "tableResultSettingsMap": {},
     "title": ""
    }
   },
   "outputs": [],
   "source": [
    "CREATE OR REPLACE TEMP VIEW employees AS\n",
    "SELECT * FROM VALUES\n",
    "  (101, '{\"first_name\":\"Alice\",\"last_name\":\"Brown\",\"gender\":\"Female\",\"skills\":[\"Python\",\"SQL\",\"Databricks\"],\"address\":{\"city\":\"Toronto\",\"country\":\"Canada\"}}'),\n",
    "  (102, '{\"first_name\":\"Bob\",\"last_name\":\"Smith\",\"gender\":\"Male\",\"skills\":[\"Scala\",\"Spark\"],\"address\":{\"city\":\"Vancouver\",\"country\":\"Canada\"}}'),\n",
    "  (103, '{\"first_name\":\"Carol\",\"last_name\":\"Johnson\",\"gender\":\"Female\",\"skills\":[\"Java\",\"SQL\"],\"address\":{\"city\":\"Calgary\",\"country\":\"Canada\"}}')\n",
    "AS t(employee_id, profile);"
   ]
  },
  {
   "cell_type": "code",
   "execution_count": 0,
   "metadata": {
    "application/vnd.databricks.v1+cell": {
     "cellMetadata": {
      "byteLimit": 2048000,
      "rowLimit": 10000
     },
     "inputWidgets": {},
     "nuid": "acd62fac-478a-4097-bb37-01d97ee54133",
     "showTitle": false,
     "tableResultSettingsMap": {},
     "title": ""
    }
   },
   "outputs": [],
   "source": [
    "SELECT * FROM employees;"
   ]
  },
  {
   "cell_type": "markdown",
   "metadata": {
    "application/vnd.databricks.v1+cell": {
     "cellMetadata": {},
     "inputWidgets": {},
     "nuid": "5ff9b495-a0e9-438f-bbf8-ce171626bb32",
     "showTitle": false,
     "tableResultSettingsMap": {},
     "title": ""
    }
   },
   "source": [
    "### Create Parsed View"
   ]
  },
  {
   "cell_type": "code",
   "execution_count": 0,
   "metadata": {
    "application/vnd.databricks.v1+cell": {
     "cellMetadata": {
      "byteLimit": 2048000,
      "rowLimit": 10000
     },
     "inputWidgets": {},
     "nuid": "b0fafc66-ad73-4e76-8f91-c6fad875e0fb",
     "showTitle": false,
     "tableResultSettingsMap": {},
     "title": ""
    }
   },
   "outputs": [],
   "source": [
    "CREATE OR REPLACE TEMP VIEW parsed_employees AS\n",
    "SELECT\n",
    "  employee_id,\n",
    "  from_json(\n",
    "    profile,\n",
    "    schema_of_json('{\n",
    "      \"first_name\":\"Example\",\n",
    "      \"last_name\":\"Example\",\n",
    "      \"gender\":\"Example\",\n",
    "      \"skills\":[\"Skill1\",\"Skill2\"],\n",
    "      \"address\":{\"city\":\"City\",\"country\":\"Country\"}\n",
    "    }')\n",
    "  ) AS profile_struct\n",
    "FROM employees;"
   ]
  },
  {
   "cell_type": "code",
   "execution_count": 0,
   "metadata": {
    "application/vnd.databricks.v1+cell": {
     "cellMetadata": {
      "byteLimit": 2048000,
      "rowLimit": 10000
     },
     "inputWidgets": {},
     "nuid": "0109430b-4fbd-42ea-bd55-661335e618c1",
     "showTitle": false,
     "tableResultSettingsMap": {},
     "title": ""
    }
   },
   "outputs": [],
   "source": [
    "SELECT * FROM parsed_employees;"
   ]
  },
  {
   "cell_type": "markdown",
   "metadata": {
    "application/vnd.databricks.v1+cell": {
     "cellMetadata": {},
     "inputWidgets": {},
     "nuid": "620197d6-ab32-420b-9c0a-d398c7eb5c2d",
     "showTitle": false,
     "tableResultSettingsMap": {},
     "title": ""
    }
   },
   "source": [
    "### Convert all skill names to uppercase using TRANSFORM."
   ]
  },
  {
   "cell_type": "markdown",
   "metadata": {
    "application/vnd.databricks.v1+cell": {
     "cellMetadata": {},
     "inputWidgets": {},
     "nuid": "d0eb4960-213e-4f0d-b8d4-afc36ff89935",
     "showTitle": false,
     "tableResultSettingsMap": {},
     "title": ""
    }
   },
   "source": [
    "### TRANSFORM Syntax\n",
    "Applies an expression to each element in the array and returns a new array with transformed elements.\n",
    "\n",
    "`TRANSFORM(array_expression, element -> expression)`\n",
    "\n",
    "**Parameters:**\n",
    "\n",
    "- `array_expression`: the array you want to process.\n",
    "- `element`: a variable representing each array element.\n",
    "- `expression`: how you want to transform each element.\n",
    "\n",
    "**Example:**\n",
    "\n",
    "TRANSFORM(array(1, 2, 3), x -> x * 10)\n",
    "\n",
    "-- Returns: [10, 20, 30]"
   ]
  },
  {
   "cell_type": "code",
   "execution_count": 0,
   "metadata": {
    "application/vnd.databricks.v1+cell": {
     "cellMetadata": {
      "byteLimit": 2048000,
      "rowLimit": 10000
     },
     "inputWidgets": {},
     "nuid": "f2a10723-3643-44af-bfb9-b159dcfd3771",
     "showTitle": false,
     "tableResultSettingsMap": {},
     "title": ""
    }
   },
   "outputs": [],
   "source": [
    "SELECT\n",
    "  employee_id,\n",
    "  profile_struct.first_name AS first_name,\n",
    "  profile_struct.last_name AS last_name,\n",
    "  TRANSFORM(profile_struct.skills, skill -> upper(skill)) AS skills_uppercase,\n",
    "  profile_struct.address.city AS city\n",
    "FROM parsed_employees;"
   ]
  },
  {
   "cell_type": "markdown",
   "metadata": {
    "application/vnd.databricks.v1+cell": {
     "cellMetadata": {},
     "inputWidgets": {},
     "nuid": "538f9796-0562-4a42-b042-0df6f5f751f3",
     "showTitle": false,
     "tableResultSettingsMap": {},
     "title": ""
    }
   },
   "source": [
    "### Keep only skills containing \"SQL\":"
   ]
  },
  {
   "cell_type": "code",
   "execution_count": 0,
   "metadata": {
    "application/vnd.databricks.v1+cell": {
     "cellMetadata": {
      "byteLimit": 2048000,
      "rowLimit": 10000
     },
     "inputWidgets": {},
     "nuid": "0e8cc0c4-de38-4072-bd12-26dafff8c73a",
     "showTitle": false,
     "tableResultSettingsMap": {},
     "title": ""
    }
   },
   "outputs": [],
   "source": [
    "SELECT\n",
    "  employee_id,\n",
    "  FILTER(profile_struct.skills, s -> instr(s, 'SQL') > 0) AS sql_skills\n",
    "FROM parsed_employees;"
   ]
  },
  {
   "cell_type": "markdown",
   "metadata": {
    "application/vnd.databricks.v1+cell": {
     "cellMetadata": {},
     "inputWidgets": {},
     "nuid": "9cb2ffdb-2177-4903-87a1-145ca4e1313a",
     "showTitle": false,
     "tableResultSettingsMap": {},
     "title": ""
    }
   },
   "source": [
    "### Concatenation"
   ]
  },
  {
   "cell_type": "code",
   "execution_count": 0,
   "metadata": {
    "application/vnd.databricks.v1+cell": {
     "cellMetadata": {
      "byteLimit": 2048000,
      "rowLimit": 10000
     },
     "inputWidgets": {},
     "nuid": "23d742ae-56a9-41c6-99c3-b6393aa60031",
     "showTitle": false,
     "tableResultSettingsMap": {
      "0": {
       "dataGridStateBlob": "{\"version\":1,\"tableState\":{\"columnPinning\":{\"left\":[\"#row_number#\"],\"right\":[]},\"columnSizing\":{\"skills_csv\":185},\"columnVisibility\":{}},\"settings\":{\"columns\":{}},\"syncTimestamp\":1751554278730}",
       "filterBlob": null,
       "queryPlanFiltersBlob": null,
       "tableResultIndex": 0
      }
     },
     "title": ""
    }
   },
   "outputs": [],
   "source": [
    "SELECT\n",
    "  employee_id,\n",
    "  array_join(profile_struct.skills, ',') AS skills_csv\n",
    "FROM parsed_employees;"
   ]
  },
  {
   "cell_type": "markdown",
   "metadata": {
    "application/vnd.databricks.v1+cell": {
     "cellMetadata": {},
     "inputWidgets": {},
     "nuid": "3b57d134-7919-43f4-b34f-a6549c96fe9f",
     "showTitle": false,
     "tableResultSettingsMap": {},
     "title": ""
    }
   },
   "source": [
    "### Filter skills containing \"SQL\", then make them uppercase:"
   ]
  },
  {
   "cell_type": "code",
   "execution_count": 0,
   "metadata": {
    "application/vnd.databricks.v1+cell": {
     "cellMetadata": {
      "byteLimit": 2048000,
      "rowLimit": 10000
     },
     "inputWidgets": {},
     "nuid": "0bb8e1d5-a086-41ae-b4ba-927e0ca98ed8",
     "showTitle": false,
     "tableResultSettingsMap": {},
     "title": ""
    }
   },
   "outputs": [],
   "source": [
    "SELECT\n",
    "  employee_id,\n",
    "  TRANSFORM(\n",
    "    FILTER(profile_struct.skills, s -> instr(s, 'SQL') > 0),\n",
    "    s -> upper(s)\n",
    "  ) AS sql_skills_upper\n",
    "FROM parsed_employees;"
   ]
  },
  {
   "cell_type": "markdown",
   "metadata": {
    "application/vnd.databricks.v1+cell": {
     "cellMetadata": {},
     "inputWidgets": {},
     "nuid": "d910afce-82f9-4448-9288-1748476f816b",
     "showTitle": false,
     "tableResultSettingsMap": {},
     "title": ""
    }
   },
   "source": [
    "### Another Example of Filter"
   ]
  },
  {
   "cell_type": "code",
   "execution_count": 0,
   "metadata": {
    "application/vnd.databricks.v1+cell": {
     "cellMetadata": {
      "byteLimit": 2048000,
      "rowLimit": 10000
     },
     "inputWidgets": {},
     "nuid": "a5249fca-7a26-4a40-b1de-569d909e20f7",
     "showTitle": false,
     "tableResultSettingsMap": {},
     "title": ""
    }
   },
   "outputs": [],
   "source": [
    "CREATE OR REPLACE TEMP VIEW product_table AS\n",
    "SELECT *\n",
    "FROM VALUES\n",
    "  (\n",
    "    1001,\n",
    "    array(\n",
    "      named_struct('offer_code', 'OFF10', 'discount_percent', 50),\n",
    "      named_struct('offer_code', 'OFF20', 'discount_percent', 70),\n",
    "      named_struct('offer_code', 'OFF30', 'discount_percent', 30)\n",
    "    )\n",
    "  ),\n",
    "  (\n",
    "    1002,\n",
    "    array(\n",
    "      named_struct('offer_code', 'OFF40', 'discount_percent', 80),\n",
    "      named_struct('offer_code', 'OFF50', 'discount_percent', 60)\n",
    "    )\n",
    "  ),\n",
    "  (\n",
    "    1003,\n",
    "    array(\n",
    "      named_struct('offer_code', 'OFF60', 'discount_percent', 20)\n",
    "    )\n",
    "  )\n",
    "AS t(product_id, offers);\n"
   ]
  },
  {
   "cell_type": "markdown",
   "metadata": {
    "application/vnd.databricks.v1+cell": {
     "cellMetadata": {},
     "inputWidgets": {},
     "nuid": "1bb82ec1-9151-4670-bb9a-c572142671e3",
     "showTitle": false,
     "tableResultSettingsMap": {},
     "title": ""
    }
   },
   "source": [
    "### Get all offers with at least 60% discount:"
   ]
  },
  {
   "cell_type": "code",
   "execution_count": 0,
   "metadata": {
    "application/vnd.databricks.v1+cell": {
     "cellMetadata": {
      "byteLimit": 2048000,
      "rowLimit": 10000
     },
     "inputWidgets": {},
     "nuid": "1cb34fe6-a487-4c49-8237-525161a500cf",
     "showTitle": false,
     "tableResultSettingsMap": {},
     "title": ""
    }
   },
   "outputs": [],
   "source": [
    "SELECT\n",
    "  product_id,\n",
    "  offers,\n",
    "  FILTER(\n",
    "    offers,\n",
    "    o -> o.discount_percent >= 60\n",
    "  ) AS high_discount_offers\n",
    "FROM product_table\n",
    "ORDER BY product_id;\n"
   ]
  },
  {
   "cell_type": "markdown",
   "metadata": {
    "application/vnd.databricks.v1+cell": {
     "cellMetadata": {},
     "inputWidgets": {},
     "nuid": "81b42b72-f736-4f4a-9ea6-572a06c9f336",
     "showTitle": false,
     "tableResultSettingsMap": {},
     "title": ""
    }
   },
   "source": [
    "If you want just the offer codes, you can use `TRANSFORM` over the filtered array:"
   ]
  },
  {
   "cell_type": "code",
   "execution_count": 0,
   "metadata": {
    "application/vnd.databricks.v1+cell": {
     "cellMetadata": {
      "byteLimit": 2048000,
      "rowLimit": 10000
     },
     "inputWidgets": {},
     "nuid": "c3be1892-eaf1-4acc-8a68-3244f93d5848",
     "showTitle": false,
     "tableResultSettingsMap": {},
     "title": ""
    }
   },
   "outputs": [],
   "source": [
    "SELECT\n",
    "  product_id,\n",
    "  TRANSFORM(\n",
    "    FILTER(offers, o -> o.discount_percent >= 60),\n",
    "    o -> o.offer_code\n",
    "  ) AS high_discount_offer_codes\n",
    "FROM product_table\n",
    "ORDER BY product_id;"
   ]
  }
 ],
 "metadata": {
  "application/vnd.databricks.v1+notebook": {
   "computePreferences": null,
   "dashboards": [],
   "environmentMetadata": {
    "base_environment": "",
    "environment_version": "2"
   },
   "inputWidgetPreferences": null,
   "language": "sql",
   "notebookMetadata": {},
   "notebookName": "Higher-Order-Functions",
   "widgets": {}
  },
  "language_info": {
   "name": "sql"
  }
 },
 "nbformat": 4,
 "nbformat_minor": 0
}
