{
 "cells": [
  {
   "cell_type": "markdown",
   "metadata": {
    "application/vnd.databricks.v1+cell": {
     "cellMetadata": {},
     "inputWidgets": {},
     "nuid": "4f7527c0-2eda-45e9-bbce-1369263fcbcc",
     "showTitle": false,
     "tableResultSettingsMap": {},
     "title": ""
    }
   },
   "source": [
    "## MERGE INTO\n",
    "\n",
    "MERGE INTO is a powerful SQL statement used to synchronize a Delta Lake table with updates, inserts, or deletes from another dataset—all in one go.\n",
    "\n",
    "This is often called \"upsert\", and it's a very common way to:\n",
    "- Keep a table updated with incoming changes\n",
    "- Avoid writing separate UPDATE and INSERT statements\n",
    "- Do this atomically (all-or-nothing)"
   ]
  },
  {
   "cell_type": "code",
   "execution_count": 0,
   "metadata": {
    "application/vnd.databricks.v1+cell": {
     "cellMetadata": {
      "byteLimit": 2048000,
      "rowLimit": 10000
     },
     "inputWidgets": {},
     "nuid": "e5b5d0e3-8828-4ce2-97dd-8a7023474859",
     "showTitle": false,
     "tableResultSettingsMap": {},
     "title": ""
    }
   },
   "outputs": [],
   "source": [
    "DROP TABLE IF EXISTS target_customers;\n",
    "CREATE TABLE target_customers (\n",
    "  customer_id INT,\n",
    "  customer_name STRING,\n",
    "  country STRING\n",
    ") USING DELTA;\n",
    "\n",
    "INSERT INTO target_customers VALUES\n",
    "(1, 'Alice', 'USA'),\n",
    "(2, 'Bob', 'UK'),\n",
    "(3, 'Charlie', 'India')\n",
    "(4, 'Vishnu', 'India');"
   ]
  },
  {
   "cell_type": "code",
   "execution_count": 0,
   "metadata": {
    "application/vnd.databricks.v1+cell": {
     "cellMetadata": {
      "byteLimit": 2048000,
      "rowLimit": 10000
     },
     "inputWidgets": {},
     "nuid": "7c88d3eb-e7fd-4c3f-adfa-7a923539a7bd",
     "showTitle": false,
     "tableResultSettingsMap": {},
     "title": ""
    }
   },
   "outputs": [],
   "source": [
    "SELECT * FROM target_customers;"
   ]
  },
  {
   "cell_type": "markdown",
   "metadata": {
    "application/vnd.databricks.v1+cell": {
     "cellMetadata": {},
     "inputWidgets": {},
     "nuid": "0970b5b2-673d-4ae3-bf7d-ef3280ca16f8",
     "showTitle": false,
     "tableResultSettingsMap": {},
     "title": ""
    }
   },
   "source": [
    "### Create Source DataFrame (or Table)"
   ]
  },
  {
   "cell_type": "code",
   "execution_count": 0,
   "metadata": {
    "application/vnd.databricks.v1+cell": {
     "cellMetadata": {
      "byteLimit": 2048000,
      "rowLimit": 10000
     },
     "inputWidgets": {},
     "nuid": "19920a01-95a8-4a6d-a705-834d9f954007",
     "showTitle": false,
     "tableResultSettingsMap": {},
     "title": ""
    }
   },
   "outputs": [],
   "source": [
    "%python\n",
    "data = [\n",
    "    (2, \"Robert\", \"UK\"),       # Update Bob to Robert\n",
    "    (3, \"Charlie\", \"Canada\"),  # Update country to Canada\n",
    "    (4, \"Diana\", \"Australia\")  # New customer\n",
    "]\n",
    "\n",
    "columns = [\"customer_id\", \"customer_name\", \"country\"]\n",
    "source_df = spark.createDataFrame(data, columns)\n",
    "\n",
    "source_df.createOrReplaceTempView(\"source_customers\")\n",
    "spark.sql(\"SELECT * FROM source_customers\").display()"
   ]
  },
  {
   "cell_type": "markdown",
   "metadata": {
    "application/vnd.databricks.v1+cell": {
     "cellMetadata": {},
     "inputWidgets": {},
     "nuid": "fa2d07c9-0a58-4072-b4dd-17922499124a",
     "showTitle": false,
     "tableResultSettingsMap": {},
     "title": ""
    }
   },
   "source": [
    "### Perform MERGE INTO"
   ]
  },
  {
   "cell_type": "code",
   "execution_count": 0,
   "metadata": {
    "application/vnd.databricks.v1+cell": {
     "cellMetadata": {
      "byteLimit": 2048000,
      "rowLimit": 10000
     },
     "inputWidgets": {},
     "nuid": "afdaa6ba-27e5-4607-986f-71845a708558",
     "showTitle": false,
     "tableResultSettingsMap": {},
     "title": ""
    }
   },
   "outputs": [],
   "source": [
    "MERGE INTO target_customers AS target\n",
    "USING source_customers AS source\n",
    "ON target.customer_id = source.customer_id\n",
    "WHEN MATCHED THEN\n",
    "  UPDATE SET\n",
    "    target.customer_name = source.customer_name,\n",
    "    target.country = source.country\n",
    "WHEN NOT MATCHED THEN\n",
    "  INSERT (\n",
    "    customer_id,\n",
    "    customer_name,\n",
    "    country\n",
    "  )\n",
    "  VALUES (\n",
    "    source.customer_id,\n",
    "    source.customer_name,\n",
    "    source.country\n",
    "  );\n"
   ]
  },
  {
   "cell_type": "code",
   "execution_count": 0,
   "metadata": {
    "application/vnd.databricks.v1+cell": {
     "cellMetadata": {
      "byteLimit": 2048000,
      "rowLimit": 10000
     },
     "inputWidgets": {},
     "nuid": "55b9adbc-227d-4cba-a883-6b39bcbbcdb5",
     "showTitle": false,
     "tableResultSettingsMap": {},
     "title": ""
    }
   },
   "outputs": [],
   "source": [
    "SELECT * FROM target_customers;"
   ]
  },
  {
   "cell_type": "markdown",
   "metadata": {
    "application/vnd.databricks.v1+cell": {
     "cellMetadata": {},
     "inputWidgets": {},
     "nuid": "994f13d7-6cd8-4802-b79d-c79578c56d98",
     "showTitle": false,
     "tableResultSettingsMap": {},
     "title": ""
    }
   },
   "source": [
    "### Important Notes\n",
    "`MERGE INTO` requires the target table to be Delta format.\n",
    "\n",
    "You can have multiple clauses:\n",
    "\n",
    "- `WHEN MATCHED AND <condition> THEN DELETE`\n",
    "- `WHEN MATCHED THEN UPDATE`\n",
    "- `WHEN NOT MATCHED THEN INSERT`\n",
    "\n",
    "You can also merge using another Delta table instead of a DataFrame."
   ]
  },
  {
   "cell_type": "markdown",
   "metadata": {
    "application/vnd.databricks.v1+cell": {
     "cellMetadata": {},
     "inputWidgets": {},
     "nuid": "05dcc876-60d9-4abb-9c5c-c92a07046980",
     "showTitle": false,
     "tableResultSettingsMap": {},
     "title": ""
    }
   },
   "source": [
    "### Example with Delete Clause"
   ]
  },
  {
   "cell_type": "code",
   "execution_count": 0,
   "metadata": {
    "application/vnd.databricks.v1+cell": {
     "cellMetadata": {
      "byteLimit": 2048000,
      "rowLimit": 10000
     },
     "inputWidgets": {},
     "nuid": "4cebda11-cd62-4422-b174-22ee47b2df2d",
     "showTitle": false,
     "tableResultSettingsMap": {},
     "title": ""
    }
   },
   "outputs": [],
   "source": [
    "MERGE INTO target_customers AS target\n",
    "USING source_customers AS source\n",
    "ON target.customer_id = source.customer_id\n",
    "WHEN MATCHED AND source.country = 'Australia' THEN\n",
    "  DELETE\n",
    "WHEN MATCHED THEN\n",
    "  UPDATE SET\n",
    "    target.customer_name = source.customer_name,\n",
    "    target.country = source.country\n",
    "WHEN NOT MATCHED THEN\n",
    "  INSERT (\n",
    "    customer_id,\n",
    "    customer_name,\n",
    "    country\n",
    "  )\n",
    "  VALUES (\n",
    "    source.customer_id,\n",
    "    source.customer_name,\n",
    "    source.country\n",
    "  );"
   ]
  },
  {
   "cell_type": "code",
   "execution_count": 0,
   "metadata": {
    "application/vnd.databricks.v1+cell": {
     "cellMetadata": {
      "byteLimit": 2048000,
      "rowLimit": 10000
     },
     "inputWidgets": {},
     "nuid": "76adc8ef-fe24-4c2b-a28a-a7a445d81254",
     "showTitle": false,
     "tableResultSettingsMap": {},
     "title": ""
    }
   },
   "outputs": [],
   "source": [
    "SELECT * FROM target_customers;"
   ]
  },
  {
   "cell_type": "markdown",
   "metadata": {
    "application/vnd.databricks.v1+cell": {
     "cellMetadata": {},
     "inputWidgets": {},
     "nuid": "f30d2722-5973-4f08-8e92-de8069f67f47",
     "showTitle": false,
     "tableResultSettingsMap": {},
     "title": ""
    }
   },
   "source": [
    "### Re-create all table"
   ]
  },
  {
   "cell_type": "code",
   "execution_count": 0,
   "metadata": {
    "application/vnd.databricks.v1+cell": {
     "cellMetadata": {
      "byteLimit": 2048000,
      "rowLimit": 10000
     },
     "inputWidgets": {},
     "nuid": "6f4420db-e8fa-4b6b-8d03-3ceb22d7832d",
     "showTitle": false,
     "tableResultSettingsMap": {},
     "title": ""
    }
   },
   "outputs": [],
   "source": [
    "DROP TABLE IF EXISTS target_customers;\n",
    "\n",
    "CREATE TABLE target_customers (\n",
    "  customer_id INT,\n",
    "  customer_name STRING,\n",
    "  country STRING\n",
    ") USING DELTA;\n",
    "\n",
    "INSERT INTO target_customers VALUES\n",
    "(1, 'Alice', 'USA'),\n",
    "(2, 'Bob', 'UK'),\n",
    "(3, 'Charlie', 'India'),\n",
    "(5, 'Edward', 'USA');\n",
    "\n",
    "SELECT * FROM target_customers ORDER BY customer_id;"
   ]
  },
  {
   "cell_type": "code",
   "execution_count": 0,
   "metadata": {
    "application/vnd.databricks.v1+cell": {
     "cellMetadata": {
      "byteLimit": 2048000,
      "rowLimit": 10000
     },
     "inputWidgets": {},
     "nuid": "abdf7779-e79d-46d4-a524-7231a337dd82",
     "showTitle": false,
     "tableResultSettingsMap": {},
     "title": ""
    }
   },
   "outputs": [],
   "source": [
    "%python\n",
    "\n",
    "data = [\n",
    "    (2, 'Robert', 'UK'),       # UPDATE\n",
    "    (3, 'Charlie', 'Canada'),  # UPDATE\n",
    "    (4, 'Diana', 'Australia'), # INSERT\n",
    "    (5, 'Edward', 'DELETE')    # Will trigger DELETE\n",
    "]\n",
    "\n",
    "columns = [\"customer_id\", \"customer_name\", \"country\"]\n",
    "\n",
    "source_df = spark.createDataFrame(data, columns)\n",
    "\n",
    "# Register temp view\n",
    "source_df.createOrReplaceTempView(\"source_customers\")\n",
    "source_df.show()"
   ]
  },
  {
   "cell_type": "markdown",
   "metadata": {
    "application/vnd.databricks.v1+cell": {
     "cellMetadata": {},
     "inputWidgets": {},
     "nuid": "3edcc47e-3375-4746-bf66-41ea8fb6611f",
     "showTitle": false,
     "tableResultSettingsMap": {},
     "title": ""
    }
   },
   "source": [
    "## MEGRE INTO Example with PySpark API"
   ]
  },
  {
   "cell_type": "code",
   "execution_count": 0,
   "metadata": {
    "application/vnd.databricks.v1+cell": {
     "cellMetadata": {
      "byteLimit": 2048000,
      "rowLimit": 10000
     },
     "inputWidgets": {},
     "nuid": "4934802d-7214-4c68-8397-949d7d0aa702",
     "showTitle": false,
     "tableResultSettingsMap": {},
     "title": ""
    }
   },
   "outputs": [],
   "source": [
    "%py\n",
    "from delta.tables import DeltaTable\n",
    "\n",
    "# Load the target Delta table\n",
    "delta_table = DeltaTable.forName(spark, \"target_customers\")\n",
    "\n",
    "# Perform merge\n",
    "delta_table.alias(\"target\").merge(\n",
    "    source_df.alias(\"source\"),\n",
    "    \"target.customer_id = source.customer_id\"\n",
    ").whenMatchedUpdate(\n",
    "    condition = \"source.country != 'DELETE'\",\n",
    "    set = {\n",
    "        \"customer_name\": \"source.customer_name\",\n",
    "        \"country\": \"source.country\"\n",
    "    }\n",
    ").whenMatchedDelete(\n",
    "    condition = \"source.country = 'DELETE'\"\n",
    ").whenNotMatchedInsert(\n",
    "    values = {\n",
    "        \"customer_id\": \"source.customer_id\",\n",
    "        \"customer_name\": \"source.customer_name\",\n",
    "        \"country\": \"source.country\"\n",
    "    }\n",
    ").execute()\n"
   ]
  },
  {
   "cell_type": "code",
   "execution_count": 0,
   "metadata": {
    "application/vnd.databricks.v1+cell": {
     "cellMetadata": {
      "byteLimit": 2048000,
      "rowLimit": 10000
     },
     "inputWidgets": {},
     "nuid": "2a502aef-2a30-4026-8a2d-020087771761",
     "showTitle": false,
     "tableResultSettingsMap": {},
     "title": ""
    }
   },
   "outputs": [],
   "source": [
    "SELECT * FROM target_customers ORDER BY customer_id;"
   ]
  },
  {
   "cell_type": "markdown",
   "metadata": {
    "application/vnd.databricks.v1+cell": {
     "cellMetadata": {},
     "inputWidgets": {},
     "nuid": "d0ed3994-0f2c-4007-b993-85affcae4cc1",
     "showTitle": false,
     "tableResultSettingsMap": {},
     "title": ""
    }
   },
   "source": []
  }
 ],
 "metadata": {
  "application/vnd.databricks.v1+notebook": {
   "computePreferences": null,
   "dashboards": [],
   "environmentMetadata": {
    "base_environment": "",
    "environment_version": "2"
   },
   "inputWidgetPreferences": null,
   "language": "sql",
   "notebookMetadata": {
    "pythonIndentUnit": 4
   },
   "notebookName": "MERGE-INTO",
   "widgets": {}
  },
  "language_info": {
   "name": "sql"
  }
 },
 "nbformat": 4,
 "nbformat_minor": 0
}
