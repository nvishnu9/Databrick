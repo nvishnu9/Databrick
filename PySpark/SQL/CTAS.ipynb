{
 "cells": [
  {
   "cell_type": "markdown",
   "metadata": {
    "application/vnd.databricks.v1+cell": {
     "cellMetadata": {},
     "inputWidgets": {},
     "nuid": "7e729133-21f0-4daf-a81c-fe4172ecac1b",
     "showTitle": false,
     "tableResultSettingsMap": {},
     "title": ""
    }
   },
   "source": [
    "## CTAS Statements in Databricks\n",
    "One of the key features of Delta Lake tables is their flexibility in creation. Besides using standard `CREATE TABLE` statements, Databricks supports **CTAS (Create Table As Select)** statements."
   ]
  },
  {
   "cell_type": "markdown",
   "metadata": {
    "application/vnd.databricks.v1+cell": {
     "cellMetadata": {},
     "inputWidgets": {},
     "nuid": "b01a6a95-e1c0-4f5a-8657-5e4171960aea",
     "showTitle": false,
     "tableResultSettingsMap": {},
     "title": ""
    }
   },
   "source": [
    "**CTAS** statements allow you to **create and populate a table in a single operation**, based on the results of a `SELECT` query. This approach automatically infers the schema, eliminating the need for manual column definitions.\n",
    "\n",
    "**Basic Syntax**:\n",
    "\n",
    "`CREATE TABLE table_2`<br>\n",
    "`AS SELECT * FROM table_1;`<br>\n"
   ]
  },
  {
   "cell_type": "markdown",
   "metadata": {
    "application/vnd.databricks.v1+cell": {
     "cellMetadata": {},
     "inputWidgets": {},
     "nuid": "e6c47dc2-cf73-4e15-b48f-81ac6ba09cfd",
     "showTitle": false,
     "tableResultSettingsMap": {},
     "title": ""
    }
   },
   "source": [
    "## Create an initial table with sample data"
   ]
  },
  {
   "cell_type": "code",
   "execution_count": 0,
   "metadata": {
    "application/vnd.databricks.v1+cell": {
     "cellMetadata": {
      "byteLimit": 2048000,
      "rowLimit": 10000
     },
     "inputWidgets": {},
     "nuid": "c1161294-44e1-4f94-898b-a510fbcfc4c3",
     "showTitle": false,
     "tableResultSettingsMap": {},
     "title": ""
    }
   },
   "outputs": [],
   "source": [
    "-- Create a simple table with product sales data\n",
    "DROP TABLE IF EXISTS sales_data;\n",
    "CREATE TABLE sales_data (\n",
    "  id INT,\n",
    "  product STRING,\n",
    "  amount DOUBLE,\n",
    "  sale_date DATE\n",
    ");\n",
    "\n",
    "-- Insert sample records\n",
    "INSERT INTO sales_data VALUES\n",
    "  (1, 'Laptop', 1200.50, '2024-01-15'),\n",
    "  (2, 'Monitor', 300.00, '2024-03-22'),\n",
    "  (3, 'Keyboard', 75.20, '2024-07-05'),\n",
    "  (4, 'Mouse', 25.00, '2023-12-01');"
   ]
  },
  {
   "cell_type": "markdown",
   "metadata": {
    "application/vnd.databricks.v1+cell": {
     "cellMetadata": {},
     "inputWidgets": {},
     "nuid": "d67300ec-693a-4d82-aa65-77e83a714b0d",
     "showTitle": false,
     "tableResultSettingsMap": {},
     "title": ""
    }
   },
   "source": [
    "### Create a new table with CTAS"
   ]
  },
  {
   "cell_type": "code",
   "execution_count": 0,
   "metadata": {
    "application/vnd.databricks.v1+cell": {
     "cellMetadata": {
      "byteLimit": 2048000,
      "rowLimit": 10000
     },
     "inputWidgets": {},
     "nuid": "4993ec1e-0af3-4e0d-9b18-b75c0a8291b6",
     "showTitle": false,
     "tableResultSettingsMap": {},
     "title": ""
    }
   },
   "outputs": [],
   "source": [
    "-- Create a new table populated from sales_data\n",
    "DROP TABLE IF EXISTS sales_2024;\n",
    "CREATE TABLE sales_2024\n",
    "AS\n",
    "SELECT id, product, amount, sale_date\n",
    "FROM sales_data\n",
    "WHERE sale_date >= '2024-01-01';\n"
   ]
  },
  {
   "cell_type": "code",
   "execution_count": 0,
   "metadata": {
    "application/vnd.databricks.v1+cell": {
     "cellMetadata": {
      "byteLimit": 2048000,
      "rowLimit": 10000
     },
     "inputWidgets": {},
     "nuid": "d6e65e29-60f7-4c48-af7c-9fa25d8de7a6",
     "showTitle": false,
     "tableResultSettingsMap": {},
     "title": ""
    }
   },
   "outputs": [],
   "source": [
    "SELECT * FROM sales_2024"
   ]
  },
  {
   "cell_type": "markdown",
   "metadata": {
    "application/vnd.databricks.v1+cell": {
     "cellMetadata": {},
     "inputWidgets": {},
     "nuid": "179f4669-3934-439d-91ed-9142e5eb35cd",
     "showTitle": false,
     "tableResultSettingsMap": {},
     "title": ""
    }
   },
   "source": [
    "### **Selecting and Renaming Columns**\n",
    "\n",
    "CTAS statements also let you select specific columns and rename them:\n",
    "\n",
    "`CREATE TABLE table_2`<br>\n",
    "`AS SELECT col_1, col_3 AS new_col_3`<br>\n",
    "`FROM table_1;`<br>"
   ]
  },
  {
   "cell_type": "markdown",
   "metadata": {
    "application/vnd.databricks.v1+cell": {
     "cellMetadata": {},
     "inputWidgets": {},
     "nuid": "00d24bc1-aad1-4423-a224-5eed0b8c8dc4",
     "showTitle": false,
     "tableResultSettingsMap": {},
     "title": ""
    }
   },
   "source": [
    "**Create another CTAS with selected & renamed columns**"
   ]
  },
  {
   "cell_type": "code",
   "execution_count": 0,
   "metadata": {
    "application/vnd.databricks.v1+cell": {
     "cellMetadata": {
      "byteLimit": 2048000,
      "rowLimit": 10000
     },
     "inputWidgets": {},
     "nuid": "02e1b1fa-b8a4-47e3-aea1-cacc88da8068",
     "showTitle": false,
     "tableResultSettingsMap": {},
     "title": ""
    }
   },
   "outputs": [],
   "source": [
    "-- Create another table selecting and renaming columns\n",
    "DROP TABLE IF EXISTS sales_summary;\n",
    "CREATE TABLE sales_summary\n",
    "AS\n",
    "SELECT\n",
    "  id,\n",
    "  product AS product_name,\n",
    "  amount\n",
    "FROM sales_data;"
   ]
  },
  {
   "cell_type": "code",
   "execution_count": 0,
   "metadata": {
    "application/vnd.databricks.v1+cell": {
     "cellMetadata": {
      "byteLimit": 2048000,
      "rowLimit": 10000
     },
     "inputWidgets": {},
     "nuid": "052ddf19-c0b7-4526-b6ac-4e9ab353171f",
     "showTitle": false,
     "tableResultSettingsMap": {},
     "title": ""
    }
   },
   "outputs": [],
   "source": [
    "SELECT * FROM sales_summary"
   ]
  },
  {
   "cell_type": "markdown",
   "metadata": {
    "application/vnd.databricks.v1+cell": {
     "cellMetadata": {},
     "inputWidgets": {},
     "nuid": "19588df4-3c16-4872-8499-8423f4aa4fbe",
     "showTitle": false,
     "tableResultSettingsMap": {},
     "title": ""
    }
   },
   "source": [
    "### **Advanced Options**\n",
    "\n",
    "CTAS supports options to customize table creation, such as adding comments, partitioning, or specifying storage locations.\n",
    "\n",
    "Example with options: <br>\n",
    "\n",
    "```\n",
    "CREATE TABLE new_users\n",
    "COMMENT \"Contains PII\"\n",
    "PARTITIONED BY (city, birth_date)\n",
    "LOCATION '/some/path'\n",
    "AS\n",
    "SELECT id, name, email, birth_date, city\n",
    "FROM users;\n",
    "```\n",
    "\n",
    "**COMMENT**: Adds a description to help users understand the table’s purpose (e.g., indicating it contains Personally Identifiable Information).\n",
    "\n",
    "**PARTITIONED BY**: Organizes data in partitions based on city and birth_date, which can improve performance on large datasets.\n",
    "\n",
    "**LOCATION**: Specifies the storage path for the table data."
   ]
  },
  {
   "cell_type": "markdown",
   "metadata": {
    "application/vnd.databricks.v1+cell": {
     "cellMetadata": {},
     "inputWidgets": {},
     "nuid": "ae90a9a2-0802-4d48-ae06-a6fa73e40bb4",
     "showTitle": false,
     "tableResultSettingsMap": {},
     "title": ""
    }
   },
   "source": [
    "### **Considerations for Partitioning**\n",
    "\n",
    "Partitioning can boost performance by reducing the amount of data scanned during queries.\n",
    "However, be mindful of the small files problem:\n",
    "\n",
    "- When partitions are too granular, you can end up with many tiny files.\n",
    "- This can harm query performance and complicate compaction."
   ]
  },
  {
   "cell_type": "markdown",
   "metadata": {
    "application/vnd.databricks.v1+cell": {
     "cellMetadata": {},
     "inputWidgets": {},
     "nuid": "84ffd173-b21b-4a77-92d7-c4fc6e1d3cbd",
     "showTitle": false,
     "tableResultSettingsMap": {},
     "title": ""
    }
   },
   "source": [
    "**Create a table with advanced options**"
   ]
  },
  {
   "cell_type": "code",
   "execution_count": 0,
   "metadata": {
    "application/vnd.databricks.v1+cell": {
     "cellMetadata": {
      "byteLimit": 2048000,
      "rowLimit": 10000
     },
     "inputWidgets": {},
     "nuid": "9a386cff-f7d3-470b-9938-68c0e4e5d372",
     "showTitle": false,
     "tableResultSettingsMap": {},
     "title": ""
    }
   },
   "outputs": [],
   "source": [
    "-- Create a partitioned table with comment and custom location\n",
    "DROP TABLE IF EXISTS sales_partitioned;\n",
    "CREATE TABLE sales_partitioned\n",
    "COMMENT \"Sales data partitioned by sale_date\"\n",
    "PARTITIONED BY (sale_date)\n",
    "LOCATION 'dbfs:/table/sales_partitioned'\n",
    "AS\n",
    "SELECT * FROM sales_data;\n"
   ]
  },
  {
   "cell_type": "code",
   "execution_count": 0,
   "metadata": {
    "application/vnd.databricks.v1+cell": {
     "cellMetadata": {
      "byteLimit": 2048000,
      "rowLimit": 10000
     },
     "inputWidgets": {},
     "nuid": "3cade34f-fef3-46df-a181-5a3a42a6071e",
     "showTitle": false,
     "tableResultSettingsMap": {},
     "title": ""
    }
   },
   "outputs": [],
   "source": [
    "SELECT * FROM sales_partitioned"
   ]
  },
  {
   "cell_type": "code",
   "execution_count": 0,
   "metadata": {
    "application/vnd.databricks.v1+cell": {
     "cellMetadata": {
      "byteLimit": 2048000,
      "rowLimit": 10000
     },
     "inputWidgets": {},
     "nuid": "3ad92fb9-0810-4ddf-9a92-c8f5e23d76d7",
     "showTitle": false,
     "tableResultSettingsMap": {},
     "title": ""
    }
   },
   "outputs": [],
   "source": [
    "%fs ls dbfs:/table/sales_partitioned"
   ]
  },
  {
   "cell_type": "code",
   "execution_count": 0,
   "metadata": {
    "application/vnd.databricks.v1+cell": {
     "cellMetadata": {
      "byteLimit": 2048000,
      "rowLimit": 10000
     },
     "inputWidgets": {},
     "nuid": "394e591a-79b0-404f-9c08-a08874490c7a",
     "showTitle": false,
     "tableResultSettingsMap": {},
     "title": ""
    }
   },
   "outputs": [],
   "source": [
    "DESCRIBE EXTENDED sales_partitioned"
   ]
  },
  {
   "cell_type": "markdown",
   "metadata": {
    "application/vnd.databricks.v1+cell": {
     "cellMetadata": {},
     "inputWidgets": {},
     "nuid": "9bd850d6-fe14-42bd-8cd7-a1f23acefd7d",
     "showTitle": false,
     "tableResultSettingsMap": {},
     "title": ""
    }
   },
   "source": [
    "### Difference Between CREATE TABLE and CTAS Statements\n",
    "\n",
    "| Feature                | **CREATE TABLE Statement**                                                                | **CTAS (Create Table As Select) Statement**                                                                      |\n",
    "| ---------------------- | ------------------------------------------------------------------------------------------- | ---------------------------------------------------------------------------------------------------------------- |\n",
    "| **Syntax Example**     |`CREATE TABLE table_2 (col1 INT, col2 STRING, col3 DOUBLE);` | `CREATE TABLE table_2 AS SELECT col1, col2, col3 FROM table_1;`                                    |\n",
    "| **Schema Declaration** | Supports **manual schema declaration** (you define columns and types explicitly)            | Does **not support manual schema declaration**. The schema is **automatically inferred** from the `SELECT` query |\n",
    "| **Populating Data**    | Creates an **empty table**. You must use `INSERT INTO` or `COPY INTO` to load data          | Creates the table **with data already populated** from the `SELECT` query                                        |\n",
    "| **Use Cases**          | When you want to define the schema first and load data later                                | When you want to create and fill a table in a single step                                                        |\n",
    "| **Transformations**    | No data transformations at creation time                                                    | Supports simple transformations, such as selecting specific columns or renaming them                             |\n"
   ]
  },
  {
   "cell_type": "markdown",
   "metadata": {
    "application/vnd.databricks.v1+cell": {
     "cellMetadata": {},
     "inputWidgets": {},
     "nuid": "1f255c61-04f1-4dd0-80b4-310f736bb5be",
     "showTitle": false,
     "tableResultSettingsMap": {},
     "title": ""
    }
   },
   "source": [
    "### **Table Constraints**\n",
    "\n",
    "* After creating a Delta Lake table (using `CREATE TABLE` or CTAS), you can enforce data integrity by adding constraints.\n",
    "* Databricks supports two types of constraints:\n",
    "\n",
    "  * **NOT NULL constraints**\n",
    "  * **CHECK constraints**"
   ]
  },
  {
   "cell_type": "markdown",
   "metadata": {
    "application/vnd.databricks.v1+cell": {
     "cellMetadata": {},
     "inputWidgets": {},
     "nuid": "3ca9ce5c-a29d-453b-97eb-7c3b1ecdde3c",
     "showTitle": false,
     "tableResultSettingsMap": {},
     "title": ""
    }
   },
   "source": [
    "**Adding Constraints**\n",
    "\n",
    "* Use the `ALTER TABLE` command to define constraints:\n",
    "\n",
    "  ```\n",
    "  ALTER TABLE <table_name> ADD CONSTRAINT <constraint_name> <constraint_detail>\n",
    "  ```\n",
    "* Before adding constraints, ensure existing data complies with them.\n",
    "* Once enforced, any new data violating the constraint will fail to write.\n",
    "\n",
    "\n",
    "**Example: Adding a CHECK Constraint**\n",
    "\n",
    "* To enforce that dates fall within 2024:\n",
    "\n",
    "  ```\n",
    "  ALTER TABLE my_table\n",
    "  ADD CONSTRAINT valid_date\n",
    "  CHECK (date >= '2024-01-01' AND date <= '2024-12-31')\n",
    "  ```\n",
    "* Here:\n",
    "\n",
    "  * `valid_date` is the constraint name.\n",
    "  * The condition requires `date` values to be within the specified range.\n",
    "* Any inserts or updates with dates outside this range will be rejected, maintaining data consistency.\n"
   ]
  },
  {
   "cell_type": "markdown",
   "metadata": {
    "application/vnd.databricks.v1+cell": {
     "cellMetadata": {},
     "inputWidgets": {},
     "nuid": "7158cc8d-f67a-4a6e-ae9e-0d1f4bd562d3",
     "showTitle": false,
     "tableResultSettingsMap": {},
     "title": ""
    }
   },
   "source": [
    "### Add a CHECK constraint"
   ]
  },
  {
   "cell_type": "code",
   "execution_count": 0,
   "metadata": {
    "application/vnd.databricks.v1+cell": {
     "cellMetadata": {
      "byteLimit": 2048000,
      "rowLimit": 10000
     },
     "inputWidgets": {},
     "nuid": "fb2b77f5-3955-43d4-ad67-2537829c9335",
     "showTitle": false,
     "tableResultSettingsMap": {},
     "title": ""
    }
   },
   "outputs": [],
   "source": [
    "-- Enforce that sale_date is within 2024\n",
    "ALTER TABLE sales_partitioned\n",
    "ADD CONSTRAINT valid_sale_date\n",
    "CHECK (sale_date >= '2024-01-01' AND sale_date <= '2024-12-31');"
   ]
  },
  {
   "cell_type": "markdown",
   "metadata": {
    "application/vnd.databricks.v1+cell": {
     "cellMetadata": {},
     "inputWidgets": {},
     "nuid": "ee5ce31f-9d3b-443a-8aab-2bc1c5fb7ed7",
     "showTitle": false,
     "tableResultSettingsMap": {},
     "title": ""
    }
   },
   "source": [
    "**How to Fix It**\n",
    "\n",
    "Before adding a constraint, you must clean up existing invalid data.\n",
    "\n",
    "**Option 1**: Delete the problematic rows\n",
    "\n",
    "**Option 2**: Move invalid data elsewhere\n",
    "\n",
    "If you want to preserve them, you could first insert them into another table before deleting."
   ]
  },
  {
   "cell_type": "code",
   "execution_count": 0,
   "metadata": {
    "application/vnd.databricks.v1+cell": {
     "cellMetadata": {
      "byteLimit": 2048000,
      "rowLimit": 10000
     },
     "inputWidgets": {},
     "nuid": "85f38acf-2055-437b-a0de-48f60c64ff81",
     "showTitle": false,
     "tableResultSettingsMap": {},
     "title": ""
    }
   },
   "outputs": [],
   "source": [
    "DELETE FROM sales_partitioned\n",
    "WHERE sale_date < '2024-01-01' OR sale_date > '2024-12-31';"
   ]
  },
  {
   "cell_type": "code",
   "execution_count": 0,
   "metadata": {
    "application/vnd.databricks.v1+cell": {
     "cellMetadata": {
      "byteLimit": 2048000,
      "rowLimit": 10000
     },
     "inputWidgets": {},
     "nuid": "d1fbcbb2-3abd-4fcb-b803-4888ce7232fa",
     "showTitle": false,
     "tableResultSettingsMap": {},
     "title": ""
    }
   },
   "outputs": [],
   "source": [
    "SELECT * FROM sales_partitioned"
   ]
  },
  {
   "cell_type": "markdown",
   "metadata": {
    "application/vnd.databricks.v1+cell": {
     "cellMetadata": {},
     "inputWidgets": {},
     "nuid": "757f84c9-abb0-41ed-b75e-21a5b718f247",
     "showTitle": false,
     "tableResultSettingsMap": {},
     "title": ""
    }
   },
   "source": [
    "**Add a CHECK constraint**"
   ]
  },
  {
   "cell_type": "code",
   "execution_count": 0,
   "metadata": {
    "application/vnd.databricks.v1+cell": {
     "cellMetadata": {
      "byteLimit": 2048000,
      "rowLimit": 10000
     },
     "inputWidgets": {},
     "nuid": "a4ac24f9-6e33-48bd-9e7c-d8dc779fbc89",
     "showTitle": false,
     "tableResultSettingsMap": {},
     "title": ""
    }
   },
   "outputs": [],
   "source": [
    "ALTER TABLE sales_partitioned\n",
    "ADD CONSTRAINT valid_sale_date\n",
    "CHECK (sale_date >= '2024-01-01' AND sale_date <= '2024-12-31');"
   ]
  },
  {
   "cell_type": "markdown",
   "metadata": {
    "application/vnd.databricks.v1+cell": {
     "cellMetadata": {},
     "inputWidgets": {},
     "nuid": "98e9f709-ea2a-49fb-bb96-cf4c3b6fcf21",
     "showTitle": false,
     "tableResultSettingsMap": {},
     "title": ""
    }
   },
   "source": [
    "**Test the constraint**"
   ]
  },
  {
   "cell_type": "code",
   "execution_count": 0,
   "metadata": {
    "application/vnd.databricks.v1+cell": {
     "cellMetadata": {
      "byteLimit": 2048000,
      "rowLimit": 10000
     },
     "inputWidgets": {},
     "nuid": "521a6b78-527c-4ece-a2ab-238277b4c9f2",
     "showTitle": false,
     "tableResultSettingsMap": {},
     "title": ""
    }
   },
   "outputs": [],
   "source": [
    "-- Try inserting invalid data to see the constraint in action\n",
    "INSERT INTO sales_partitioned VALUES\n",
    "  (5, 'Webcam', 150.00, '2023-11-15');\n"
   ]
  },
  {
   "cell_type": "markdown",
   "metadata": {
    "application/vnd.databricks.v1+cell": {
     "cellMetadata": {},
     "inputWidgets": {},
     "nuid": "5d80dfd6-c851-4f9d-8b2d-9df46103f198",
     "showTitle": false,
     "tableResultSettingsMap": {},
     "title": ""
    }
   },
   "source": [
    "### ADD Not Null Constraint\n",
    "Before adding the constraint, you can check for nulls:"
   ]
  },
  {
   "cell_type": "code",
   "execution_count": 0,
   "metadata": {
    "application/vnd.databricks.v1+cell": {
     "cellMetadata": {
      "byteLimit": 2048000,
      "rowLimit": 10000
     },
     "inputWidgets": {},
     "nuid": "b0078182-2428-4ab6-9f18-f9fb769d2ce4",
     "showTitle": false,
     "tableResultSettingsMap": {},
     "title": ""
    }
   },
   "outputs": [],
   "source": [
    "SELECT *\n",
    "FROM sales_partitioned\n",
    "WHERE product IS NULL;\n"
   ]
  },
  {
   "cell_type": "markdown",
   "metadata": {
    "application/vnd.databricks.v1+cell": {
     "cellMetadata": {},
     "inputWidgets": {},
     "nuid": "529070b8-286d-4a1e-8267-c001385b17f8",
     "showTitle": false,
     "tableResultSettingsMap": {},
     "title": ""
    }
   },
   "source": [
    "If there are nulls, you must either Delete them or Update them."
   ]
  },
  {
   "cell_type": "markdown",
   "metadata": {
    "application/vnd.databricks.v1+cell": {
     "cellMetadata": {},
     "inputWidgets": {},
     "nuid": "6db63c45-827e-48b2-8334-42b9eb39204a",
     "showTitle": false,
     "tableResultSettingsMap": {},
     "title": ""
    }
   },
   "source": [
    "**Add constraint**"
   ]
  },
  {
   "cell_type": "code",
   "execution_count": 0,
   "metadata": {
    "application/vnd.databricks.v1+cell": {
     "cellMetadata": {
      "byteLimit": 2048000,
      "rowLimit": 10000
     },
     "inputWidgets": {},
     "nuid": "860de996-ccb6-4997-84a4-35db35b7ba12",
     "showTitle": false,
     "tableResultSettingsMap": {},
     "title": ""
    }
   },
   "outputs": [],
   "source": [
    "ALTER TABLE sales_partitioned\n",
    "ALTER COLUMN product SET NOT NULL;"
   ]
  },
  {
   "cell_type": "code",
   "execution_count": 0,
   "metadata": {
    "application/vnd.databricks.v1+cell": {
     "cellMetadata": {
      "byteLimit": 2048000,
      "rowLimit": 10000
     },
     "inputWidgets": {},
     "nuid": "8e42f9b9-65d1-4852-9dd8-66033ef3e5a7",
     "showTitle": false,
     "tableResultSettingsMap": {},
     "title": ""
    }
   },
   "outputs": [],
   "source": [
    "-- DESCRIBE TABLE sales_partitioned"
   ]
  }
 ],
 "metadata": {
  "application/vnd.databricks.v1+notebook": {
   "computePreferences": null,
   "dashboards": [],
   "environmentMetadata": {
    "base_environment": "",
    "environment_version": "2"
   },
   "inputWidgetPreferences": null,
   "language": "sql",
   "notebookMetadata": {
    "mostRecentlyExecutedCommandWithImplicitDF": {
     "commandId": 8005402405979261,
     "dataframes": [
      "_sqldf"
     ]
    },
    "pythonIndentUnit": 4
   },
   "notebookName": "CTAS",
   "widgets": {}
  },
  "language_info": {
   "name": "sql"
  }
 },
 "nbformat": 4,
 "nbformat_minor": 0
}
