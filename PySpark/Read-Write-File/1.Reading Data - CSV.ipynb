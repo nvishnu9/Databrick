{
 "cells": [
  {
   "cell_type": "markdown",
   "metadata": {
    "application/vnd.databricks.v1+cell": {
     "cellMetadata": {
      "byteLimit": 2048000,
      "rowLimit": 10000
     },
     "inputWidgets": {},
     "nuid": "7d6af4be-fd18-4efc-8d6a-34fa4ac4e0ba",
     "showTitle": false,
     "tableResultSettingsMap": {},
     "title": ""
    }
   },
   "source": [
    "# Reading Data - CSV Files\n",
    "\n",
    "**Technical Accomplishments:**\n",
    "- Start working with the API documentation\n",
    "- Introduce the class `SparkSession` and other entry points\n",
    "- Introduce the class `DataFrameReader`\n",
    "- Read data from:\n",
    "  * CSV without a Schema.\n",
    "  * CSV with a Schema."
   ]
  },
  {
   "cell_type": "markdown",
   "metadata": {
    "application/vnd.databricks.v1+cell": {
     "cellMetadata": {
      "byteLimit": 2048000,
      "rowLimit": 10000
     },
     "inputWidgets": {},
     "nuid": "d3279e9a-b700-4dcd-b72e-b09d93e53e51",
     "showTitle": false,
     "tableResultSettingsMap": {},
     "title": ""
    }
   },
   "source": [
    "## Entry Points"
   ]
  },
  {
   "cell_type": "code",
   "execution_count": 0,
   "metadata": {
    "application/vnd.databricks.v1+cell": {
     "cellMetadata": {
      "byteLimit": 2048000,
      "rowLimit": 10000
     },
     "inputWidgets": {},
     "nuid": "85170712-0bab-4f15-9349-77396cdfaf1d",
     "showTitle": false,
     "tableResultSettingsMap": {},
     "title": ""
    }
   },
   "outputs": [],
   "source": [
    "from pyspark.sql import SparkSession"
   ]
  },
  {
   "cell_type": "code",
   "execution_count": 0,
   "metadata": {
    "application/vnd.databricks.v1+cell": {
     "cellMetadata": {
      "byteLimit": 2048000,
      "rowLimit": 10000
     },
     "inputWidgets": {},
     "nuid": "99cd2bcc-c7a1-42e0-9c90-421e345159c5",
     "showTitle": false,
     "tableResultSettingsMap": {},
     "title": ""
    }
   },
   "outputs": [],
   "source": [
    "# Initialize Spark Session\n",
    "spark = (SparkSession.builder\n",
    "         .appName(\"Read CSV Data\")\n",
    "         .getOrCreate())"
   ]
  },
  {
   "cell_type": "markdown",
   "metadata": {
    "application/vnd.databricks.v1+cell": {
     "cellMetadata": {
      "byteLimit": 2048000,
      "rowLimit": 10000
     },
     "inputWidgets": {},
     "nuid": "68ae60e2-6a36-48e4-8d18-43a1e3da2850",
     "showTitle": false,
     "tableResultSettingsMap": {},
     "title": ""
    }
   },
   "source": [
    "## Setup Data Source\n"
   ]
  },
  {
   "cell_type": "code",
   "execution_count": 0,
   "metadata": {
    "application/vnd.databricks.v1+cell": {
     "cellMetadata": {
      "byteLimit": 2048000,
      "rowLimit": 10000
     },
     "inputWidgets": {},
     "nuid": "e1b2fc28-cf3f-412c-abd2-df1f454aa62d",
     "showTitle": false,
     "tableResultSettingsMap": {},
     "title": ""
    }
   },
   "outputs": [],
   "source": [
    "%run ../DatasetSourcePath"
   ]
  },
  {
   "cell_type": "markdown",
   "metadata": {
    "application/vnd.databricks.v1+cell": {
     "cellMetadata": {
      "byteLimit": 2048000,
      "rowLimit": 10000
     },
     "inputWidgets": {},
     "nuid": "9c1b720a-84a7-44f2-942d-1ddfad84d2ab",
     "showTitle": false,
     "tableResultSettingsMap": {},
     "title": ""
    }
   },
   "source": [
    "## DataFrameReader\n",
    "\n",
    "Look up the documentation for `DataFrameReader`.\n",
    "\n",
    "Quick function review:\n",
    "* `csv(path)`\n",
    "* `jdbc(url, table, ..., connectionProperties)`\n",
    "* `json(path)`\n",
    "* `format(source)`\n",
    "* `load(path)`\n",
    "* `orc(path)`\n",
    "* `parquet(path)`\n",
    "* `table(tableName)`\n",
    "* `text(path)`\n",
    "* `textFile(path)`\n",
    "\n",
    "Configuration methods:\n",
    "* `option(key, value)`\n",
    "* `options(map)`\n",
    "* `schema(schema)`"
   ]
  },
  {
   "cell_type": "markdown",
   "metadata": {
    "application/vnd.databricks.v1+cell": {
     "cellMetadata": {
      "byteLimit": 2048000,
      "rowLimit": 10000
     },
     "inputWidgets": {},
     "nuid": "2a798101-9acb-45a7-9893-36230db8ef1f",
     "showTitle": false,
     "tableResultSettingsMap": {},
     "title": ""
    }
   },
   "source": [
    "## Reading from CSV w/InferSchema\n",
    "\n",
    "We are going to start by reading in a very simple text file."
   ]
  },
  {
   "cell_type": "markdown",
   "metadata": {
    "application/vnd.databricks.v1+cell": {
     "cellMetadata": {
      "byteLimit": 2048000,
      "rowLimit": 10000
     },
     "inputWidgets": {},
     "nuid": "92a9b557-4014-4d03-9599-b7943c48fb81",
     "showTitle": false,
     "tableResultSettingsMap": {},
     "title": ""
    }
   },
   "source": [
    "### Step #1 - Read The CSV File\n",
    "Let's start with the bare minimum by specifying the tab character as the delimiter and the location of the file:"
   ]
  },
  {
   "cell_type": "code",
   "execution_count": 0,
   "metadata": {
    "application/vnd.databricks.v1+cell": {
     "cellMetadata": {
      "byteLimit": 2048000,
      "rowLimit": 10000
     },
     "inputWidgets": {},
     "nuid": "c662de32-a0f5-498c-bf3f-e58f66a4cba0",
     "showTitle": false,
     "tableResultSettingsMap": {},
     "title": ""
    }
   },
   "outputs": [],
   "source": [
    "# A reference to our tab-separated-file\n",
    "csvFile = sourcePath + \"/dataset/pageviews_by_second_example.tsv\"\n",
    "csvFile"
   ]
  },
  {
   "cell_type": "code",
   "execution_count": 0,
   "metadata": {
    "application/vnd.databricks.v1+cell": {
     "cellMetadata": {
      "byteLimit": 2048000,
      "rowLimit": 10000
     },
     "inputWidgets": {},
     "nuid": "7ada8071-0855-4a35-9620-64336baacdf2",
     "showTitle": false,
     "tableResultSettingsMap": {},
     "title": ""
    }
   },
   "outputs": [],
   "source": [
    "%fs ls csvFile"
   ]
  },
  {
   "cell_type": "code",
   "execution_count": 0,
   "metadata": {
    "application/vnd.databricks.v1+cell": {
     "cellMetadata": {
      "byteLimit": 2048000,
      "rowLimit": 10000
     },
     "inputWidgets": {},
     "nuid": "5b23e993-79c4-4fcb-8061-d5833c9ab84e",
     "showTitle": false,
     "tableResultSettingsMap": {},
     "title": ""
    }
   },
   "outputs": [],
   "source": [
    "%fs head abfss://files@storage33e.dfs.core.windows.net/dataset/pageviews_by_second_example.tsv"
   ]
  },
  {
   "cell_type": "code",
   "execution_count": 0,
   "metadata": {
    "application/vnd.databricks.v1+cell": {
     "cellMetadata": {
      "byteLimit": 2048000,
      "rowLimit": 10000
     },
     "inputWidgets": {},
     "nuid": "375f0f28-7d73-4306-a862-0e4fa6b31323",
     "showTitle": false,
     "tableResultSettingsMap": {},
     "title": ""
    }
   },
   "outputs": [],
   "source": [
    "tempDF = (spark.read           # The DataFrameReader\n",
    "   .option(\"sep\", \"\\t\")        # Use tab delimiter (default is comma-separator)\n",
    "   .csv(csvFile)               # Creates a DataFrame from CSV after reading in the file\n",
    ")"
   ]
  },
  {
   "cell_type": "markdown",
   "metadata": {
    "application/vnd.databricks.v1+cell": {
     "cellMetadata": {
      "byteLimit": 2048000,
      "rowLimit": 10000
     },
     "inputWidgets": {},
     "nuid": "b7608aec-eae8-4223-9d72-f14843e601a0",
     "showTitle": false,
     "tableResultSettingsMap": {},
     "title": ""
    }
   },
   "source": [
    "This is guaranteed to <u>trigger one job</u>.\n",
    "\n",
    "A *Job* is triggered anytime we are \"physically\" __required to touch the data__.\n",
    "\n",
    "In some cases, __one action may create multiple jobs__ (multiple reasons to touch the data).\n",
    "\n",
    "In this case, the reader has to __\"peek\" at the first line__ of the file to determine how many columns of data we have."
   ]
  },
  {
   "cell_type": "markdown",
   "metadata": {
    "application/vnd.databricks.v1+cell": {
     "cellMetadata": {
      "byteLimit": 2048000,
      "rowLimit": 10000
     },
     "inputWidgets": {},
     "nuid": "81f8b6e7-a446-4d89-a508-4387761ebc37",
     "showTitle": false,
     "tableResultSettingsMap": {},
     "title": ""
    }
   },
   "source": [
    "\n",
    "We can see the structure of the `DataFrame` by executing the command `printSchema()`\n",
    "\n",
    "It prints to the console the name of each column, its data type and if it's null or not.\n",
    "\n",
    "** *Note:* ** *We will be covering the other `DataFrame` functions in other notebooks.*"
   ]
  },
  {
   "cell_type": "code",
   "execution_count": 0,
   "metadata": {
    "application/vnd.databricks.v1+cell": {
     "cellMetadata": {
      "byteLimit": 2048000,
      "rowLimit": 10000
     },
     "inputWidgets": {},
     "nuid": "b9c7e04a-94b9-427d-9a4b-a7b537ee471f",
     "showTitle": false,
     "tableResultSettingsMap": {},
     "title": ""
    }
   },
   "outputs": [],
   "source": [
    "tempDF.printSchema()"
   ]
  },
  {
   "cell_type": "markdown",
   "metadata": {
    "application/vnd.databricks.v1+cell": {
     "cellMetadata": {
      "byteLimit": 2048000,
      "rowLimit": 10000
     },
     "inputWidgets": {},
     "nuid": "bf62db21-8319-4909-bf1b-c1097738cd6d",
     "showTitle": false,
     "tableResultSettingsMap": {},
     "title": ""
    }
   },
   "source": [
    "We can see from the schema that...\n",
    "* there are three columns\n",
    "* the column names **_c0**, **_c1**, and **_c2** (automatically generated names)\n",
    "* all three columns are **strings**\n",
    "* all three columns are **nullable**\n",
    "\n",
    "And if we take a quick peek at the data, we can see that line #1 contains the headers and not data:"
   ]
  },
  {
   "cell_type": "code",
   "execution_count": 0,
   "metadata": {
    "application/vnd.databricks.v1+cell": {
     "cellMetadata": {
      "byteLimit": 2048000,
      "rowLimit": 10000
     },
     "inputWidgets": {},
     "nuid": "4140a1e1-a598-46f3-9f8b-0656803171c3",
     "showTitle": false,
     "tableResultSettingsMap": {},
     "title": ""
    }
   },
   "outputs": [],
   "source": [
    "tempDF.show(5)"
   ]
  },
  {
   "cell_type": "markdown",
   "metadata": {
    "application/vnd.databricks.v1+cell": {
     "cellMetadata": {
      "byteLimit": 2048000,
      "rowLimit": 10000
     },
     "inputWidgets": {},
     "nuid": "5aaf1087-504e-4ac4-af38-23c61bf5cdea",
     "showTitle": false,
     "tableResultSettingsMap": {},
     "title": ""
    }
   },
   "source": [
    "### Step #2 - Use the File's Header\n",
    "Next, we can add an option that tells the reader that the data contains a header and to use that header to determine our column names.\n",
    "\n",
    "** *NOTE:* ** *We know we have a header based on what we can see in \"head\" of the file from earlier.*"
   ]
  },
  {
   "cell_type": "code",
   "execution_count": 0,
   "metadata": {
    "application/vnd.databricks.v1+cell": {
     "cellMetadata": {
      "byteLimit": 2048000,
      "rowLimit": 10000
     },
     "inputWidgets": {},
     "nuid": "f480ea6e-271a-450d-a55c-b6dd223952db",
     "showTitle": false,
     "tableResultSettingsMap": {},
     "title": ""
    }
   },
   "outputs": [],
   "source": [
    "(spark.read                    # The DataFrameReader\n",
    "   .option(\"sep\", \"\\t\")        # Use tab delimiter (default is comma-separator)\n",
    "   .option(\"header\", \"true\")   # Use first line of all files as header\n",
    "   .csv(csvFile)               # Creates a DataFrame from CSV after reading in the file\n",
    "   .printSchema()\n",
    ")"
   ]
  },
  {
   "cell_type": "markdown",
   "metadata": {
    "application/vnd.databricks.v1+cell": {
     "cellMetadata": {
      "byteLimit": 2048000,
      "rowLimit": 10000
     },
     "inputWidgets": {},
     "nuid": "bd50aa1b-4599-44d6-9aae-dad547af5a99",
     "showTitle": false,
     "tableResultSettingsMap": {},
     "title": ""
    }
   },
   "source": [
    "A couple of notes about this iteration:\n",
    "* again, only one job\n",
    "* there are three columns\n",
    "* all three columns are **strings**\n",
    "* all three columns are **nullable**\n",
    "* the column names are specified: **timestamp**, **site**, and **requests** (the change we were looking for)\n",
    "\n",
    "A \"peek\" at the first line of the file is all that the reader needs to determine the number of columns and the name of each column.\n",
    "\n",
    "Before going on, make a note of the duration of the previous call."
   ]
  },
  {
   "cell_type": "markdown",
   "metadata": {
    "application/vnd.databricks.v1+cell": {
     "cellMetadata": {
      "byteLimit": 2048000,
      "rowLimit": 10000
     },
     "inputWidgets": {},
     "nuid": "22dbd13b-a420-406b-8ae7-0814e066d4b8",
     "showTitle": false,
     "tableResultSettingsMap": {},
     "title": ""
    }
   },
   "source": [
    "### Step #3 - Infer the Schema\n",
    "\n",
    "Lastly, we can add an option that tells the reader to infer each column's data type (aka the schema)"
   ]
  },
  {
   "cell_type": "code",
   "execution_count": 0,
   "metadata": {
    "application/vnd.databricks.v1+cell": {
     "cellMetadata": {
      "byteLimit": 2048000,
      "rowLimit": 10000
     },
     "inputWidgets": {},
     "nuid": "e55b1650-893e-44f0-85a1-aa3b6f6b8a1d",
     "showTitle": false,
     "tableResultSettingsMap": {},
     "title": ""
    }
   },
   "outputs": [],
   "source": [
    "(spark.read                        # The DataFrameReader\n",
    "   .option(\"header\", \"true\")       # Use first line of all files as header\n",
    "   .option(\"sep\", \"\\t\")            # Use tab delimiter (default is comma-separator)\n",
    "   .option(\"inferSchema\", \"true\")  # Automatically infer data types\n",
    "   .csv(csvFile)                   # Creates a DataFrame from CSV after reading in the file\n",
    "   .printSchema()\n",
    ")"
   ]
  },
  {
   "cell_type": "markdown",
   "metadata": {
    "application/vnd.databricks.v1+cell": {
     "cellMetadata": {
      "byteLimit": 2048000,
      "rowLimit": 10000
     },
     "inputWidgets": {},
     "nuid": "2be62807-4bbe-4144-b7eb-bcf5ba90b3dc",
     "showTitle": false,
     "tableResultSettingsMap": {},
     "title": ""
    }
   },
   "source": [
    "### Review: Reading CSV w/InferSchema\n",
    "* we still have three columns\n",
    "* all three columns are still **nullable**\n",
    "* all three columns have their proper names\n",
    "* two jobs were executed (not one as in the previous example)\n",
    "* our three columns now have distinct data types:\n",
    "  * **timestamp** == **timestamp**\n",
    "  * **site** == **string**\n",
    "  * **requests** == **integer**"
   ]
  },
  {
   "cell_type": "markdown",
   "metadata": {
    "application/vnd.databricks.v1+cell": {
     "cellMetadata": {
      "byteLimit": 2048000,
      "rowLimit": 10000
     },
     "inputWidgets": {},
     "nuid": "6037d958-e0d3-4cf8-9bf5-ee89d326c59d",
     "showTitle": false,
     "tableResultSettingsMap": {},
     "title": ""
    }
   },
   "source": [
    "## Reading from CSV w/User-Defined Schema\n",
    "\n",
    "This time we are going to read the same file.\n",
    "\n",
    "The difference here is that we are going to define the schema beforehand and hopefully avoid the execution of any extra jobs."
   ]
  },
  {
   "cell_type": "markdown",
   "metadata": {
    "application/vnd.databricks.v1+cell": {
     "cellMetadata": {
      "byteLimit": 2048000,
      "rowLimit": 10000
     },
     "inputWidgets": {},
     "nuid": "adef95b1-5477-4af7-955d-b9217f7265c7",
     "showTitle": false,
     "tableResultSettingsMap": {},
     "title": ""
    }
   },
   "source": [
    "### Step #1\n",
    "Declare the schema.\n",
    "\n",
    "This is just a list of field names and data types."
   ]
  },
  {
   "cell_type": "code",
   "execution_count": 0,
   "metadata": {
    "application/vnd.databricks.v1+cell": {
     "cellMetadata": {
      "byteLimit": 2048000,
      "rowLimit": 10000
     },
     "inputWidgets": {},
     "nuid": "74eb0217-77e3-4de4-a514-838e7f792ded",
     "showTitle": false,
     "tableResultSettingsMap": {},
     "title": ""
    }
   },
   "outputs": [],
   "source": [
    "# Required for StructField, StringType, IntegerType, etc.\n",
    "from pyspark.sql.types import *\n",
    "\n",
    "csvSchema = StructType([\n",
    "  StructField(\"timestamp\", StringType(), False),\n",
    "  StructField(\"site\", StringType(), False),\n",
    "  StructField(\"requests\", IntegerType(), False)\n",
    "])"
   ]
  },
  {
   "cell_type": "markdown",
   "metadata": {
    "application/vnd.databricks.v1+cell": {
     "cellMetadata": {
      "byteLimit": 2048000,
      "rowLimit": 10000
     },
     "inputWidgets": {},
     "nuid": "21dced93-84f0-4366-82f6-d01007b89b65",
     "showTitle": false,
     "tableResultSettingsMap": {},
     "title": ""
    }
   },
   "source": [
    "### Step #2\n",
    "Read in our data (and print the schema).\n",
    "\n",
    "We can specify the schema, or rather the `StructType`, with the `schema(..)` command:"
   ]
  },
  {
   "cell_type": "code",
   "execution_count": 0,
   "metadata": {
    "application/vnd.databricks.v1+cell": {
     "cellMetadata": {
      "byteLimit": 2048000,
      "rowLimit": 10000
     },
     "inputWidgets": {},
     "nuid": "3485d832-0c59-48b7-9baa-dff7cb710dfe",
     "showTitle": false,
     "tableResultSettingsMap": {},
     "title": ""
    }
   },
   "outputs": [],
   "source": [
    "(spark.read                   # The DataFrameReader\n",
    "  .option('header', 'true')   # Ignore line #1 - it's a header\n",
    "  .option('sep', \"\\t\")        # Use tab delimiter (default is comma-separator)\n",
    "  .schema(csvSchema)          # Use the specified schema\n",
    "  .csv(csvFile)               # Creates a DataFrame from CSV after reading in the file\n",
    "  .printSchema()\n",
    ")"
   ]
  },
  {
   "cell_type": "markdown",
   "metadata": {
    "application/vnd.databricks.v1+cell": {
     "cellMetadata": {
      "byteLimit": 2048000,
      "rowLimit": 10000
     },
     "inputWidgets": {},
     "nuid": "498b2b38-5c09-464a-bb31-771b1399dba6",
     "showTitle": false,
     "tableResultSettingsMap": {},
     "title": ""
    }
   },
   "source": [
    "### Review: Reading CSV w/ User-Defined Schema\n",
    "* We still have three columns\n",
    "* All three columns are **NOT** nullable because we declared them as such.\n",
    "* All three columns have their proper names\n",
    "* Zero jobs were executed\n",
    "* Our three columns now have distinct data types:\n",
    "  * **timestamp** == **string**\n",
    "  * **site** == **string**\n",
    "  * **requests** == **integer**"
   ]
  },
  {
   "cell_type": "markdown",
   "metadata": {
    "application/vnd.databricks.v1+cell": {
     "cellMetadata": {
      "byteLimit": 2048000,
      "rowLimit": 10000
     },
     "inputWidgets": {},
     "nuid": "052dc1bd-00c4-4745-8de3-fb5b07f94078",
     "showTitle": false,
     "tableResultSettingsMap": {},
     "title": ""
    }
   },
   "source": [
    "For a list of all the options related to reading CSV files, please see the documentation for `DataFrameReader.csv(..)` [here](https://spark.apache.org/docs/latest/sql-data-sources-csv.html)"
   ]
  },
  {
   "cell_type": "code",
   "execution_count": 0,
   "metadata": {
    "application/vnd.databricks.v1+cell": {
     "cellMetadata": {
      "byteLimit": 2048000,
      "rowLimit": 10000
     },
     "inputWidgets": {},
     "nuid": "b5d5010d-ff84-432e-b07e-4cb5f91b23b8",
     "showTitle": false,
     "tableResultSettingsMap": {},
     "title": ""
    }
   },
   "outputs": [],
   "source": [
    "# spark.stop()"
   ]
  }
 ],
 "metadata": {
  "application/vnd.databricks.v1+notebook": {
   "computePreferences": null,
   "dashboards": [],
   "environmentMetadata": null,
   "inputWidgetPreferences": null,
   "language": "python",
   "notebookMetadata": {
    "mostRecentlyExecutedCommandWithImplicitDF": {
     "commandId": 5883183221045398,
     "dataframes": [
      "_sqldf"
     ]
    },
    "pythonIndentUnit": 2
   },
   "notebookName": "1.Reading Data - CSV",
   "widgets": {}
  },
  "kernelspec": {
   "display_name": "Python 3",
   "language": "python",
   "name": "python3"
  },
  "language_info": {
   "name": "python"
  }
 },
 "nbformat": 4,
 "nbformat_minor": 0
}
